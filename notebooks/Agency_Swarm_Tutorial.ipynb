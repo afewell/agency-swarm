{
 "cells": [
  {
   "cell_type": "code",
   "execution_count": 13,
   "metadata": {
    "colab": {
     "base_uri": "https://localhost:8080/"
    },
    "id": "sSR2RQa0Z3V3",
    "outputId": "4083b358-fd6d-4b85-91b7-99648658a184"
   },
   "outputs": [
    {
     "name": "stdout",
     "output_type": "stream",
     "text": [
      "Collecting git+https://github.com/afewell/agency-swarm.git@notebook-update-afewell\n",
      "  Cloning https://github.com/afewell/agency-swarm.git (to revision notebook-update-afewell) to /tmp/pip-req-build-wcigvrf5\n",
      "  Running command git clone --filter=blob:none --quiet https://github.com/afewell/agency-swarm.git /tmp/pip-req-build-wcigvrf5\n",
      "  Running command git checkout -b notebook-update-afewell --track origin/notebook-update-afewell\n",
      "  Switched to a new branch 'notebook-update-afewell'\n",
      "  Branch 'notebook-update-afewell' set up to track remote branch 'notebook-update-afewell' from 'origin'.\n",
      "  Resolved https://github.com/afewell/agency-swarm.git to commit 9f0002920dfe39f47947b458b07a2520e0a5bc42\n",
      "  Installing build dependencies ... \u001b[?25ldone\n",
      "\u001b[?25h  Getting requirements to build wheel ... \u001b[?25ldone\n",
      "\u001b[?25h  Installing backend dependencies ... \u001b[?25ldone\n",
      "\u001b[?25h  Preparing metadata (pyproject.toml) ... \u001b[?25ldone\n",
      "\u001b[?25hRequirement already satisfied: gradio in /root/myenv/lib/python3.10/site-packages (4.16.0)\n",
      "Requirement already satisfied: duckduckgo-search in /root/myenv/lib/python3.10/site-packages (4.4)\n",
      "Requirement already satisfied: rich==13.7.0 in /root/myenv/lib/python3.10/site-packages (from agency-swarm==0.1.1) (13.7.0)\n",
      "Requirement already satisfied: termcolor==2.3.0 in /root/myenv/lib/python3.10/site-packages (from agency-swarm==0.1.1) (2.3.0)\n",
      "Requirement already satisfied: python-dotenv==1.0.0 in /root/myenv/lib/python3.10/site-packages (from agency-swarm==0.1.1) (1.0.0)\n",
      "Requirement already satisfied: deepdiff==6.7.1 in /root/myenv/lib/python3.10/site-packages (from agency-swarm==0.1.1) (6.7.1)\n",
      "Requirement already satisfied: openai==1.5.0 in /root/myenv/lib/python3.10/site-packages (from agency-swarm==0.1.1) (1.5.0)\n",
      "Requirement already satisfied: jsonref==1.1.0 in /root/myenv/lib/python3.10/site-packages (from agency-swarm==0.1.1) (1.1.0)\n",
      "Requirement already satisfied: instructor==0.4.5 in /root/myenv/lib/python3.10/site-packages (from agency-swarm==0.1.1) (0.4.5)\n",
      "Requirement already satisfied: ordered-set<4.2.0,>=4.0.2 in /root/myenv/lib/python3.10/site-packages (from deepdiff==6.7.1->agency-swarm==0.1.1) (4.1.0)\n",
      "Requirement already satisfied: typer<0.10.0,>=0.9.0 in /root/myenv/lib/python3.10/site-packages (from instructor==0.4.5->agency-swarm==0.1.1) (0.9.0)\n",
      "Requirement already satisfied: aiohttp<4.0.0,>=3.9.1 in /root/myenv/lib/python3.10/site-packages (from instructor==0.4.5->agency-swarm==0.1.1) (3.9.3)\n",
      "Requirement already satisfied: docstring-parser<0.16,>=0.15 in /root/myenv/lib/python3.10/site-packages (from instructor==0.4.5->agency-swarm==0.1.1) (0.15)\n",
      "Requirement already satisfied: pydantic<3.0.0,>=2.0.2 in /root/myenv/lib/python3.10/site-packages (from instructor==0.4.5->agency-swarm==0.1.1) (2.6.0)\n",
      "Requirement already satisfied: tqdm>4 in /root/myenv/lib/python3.10/site-packages (from openai==1.5.0->agency-swarm==0.1.1) (4.66.1)\n",
      "Requirement already satisfied: distro<2,>=1.7.0 in /root/myenv/lib/python3.10/site-packages (from openai==1.5.0->agency-swarm==0.1.1) (1.9.0)\n",
      "Requirement already satisfied: typing-extensions<5,>=4.5 in /root/myenv/lib/python3.10/site-packages (from openai==1.5.0->agency-swarm==0.1.1) (4.9.0)\n",
      "Requirement already satisfied: sniffio in /root/myenv/lib/python3.10/site-packages (from openai==1.5.0->agency-swarm==0.1.1) (1.3.0)\n",
      "Requirement already satisfied: httpx<1,>=0.23.0 in /root/myenv/lib/python3.10/site-packages (from openai==1.5.0->agency-swarm==0.1.1) (0.26.0)\n",
      "Requirement already satisfied: anyio<5,>=3.5.0 in /root/myenv/lib/python3.10/site-packages (from openai==1.5.0->agency-swarm==0.1.1) (4.2.0)\n",
      "Requirement already satisfied: markdown-it-py>=2.2.0 in /root/myenv/lib/python3.10/site-packages (from rich==13.7.0->agency-swarm==0.1.1) (3.0.0)\n",
      "Requirement already satisfied: pygments<3.0.0,>=2.13.0 in /root/myenv/lib/python3.10/site-packages (from rich==13.7.0->agency-swarm==0.1.1) (2.17.2)\n",
      "Requirement already satisfied: importlib-resources<7.0,>=1.3 in /root/myenv/lib/python3.10/site-packages (from gradio) (6.1.1)\n",
      "Requirement already satisfied: gradio-client==0.8.1 in /root/myenv/lib/python3.10/site-packages (from gradio) (0.8.1)\n",
      "Requirement already satisfied: aiofiles<24.0,>=22.0 in /root/myenv/lib/python3.10/site-packages (from gradio) (23.2.1)\n",
      "Requirement already satisfied: fastapi in /root/myenv/lib/python3.10/site-packages (from gradio) (0.109.0)\n",
      "Requirement already satisfied: pyyaml<7.0,>=5.0 in /root/myenv/lib/python3.10/site-packages (from gradio) (6.0.1)\n",
      "Requirement already satisfied: tomlkit==0.12.0 in /root/myenv/lib/python3.10/site-packages (from gradio) (0.12.0)\n",
      "Requirement already satisfied: ffmpy in /root/myenv/lib/python3.10/site-packages (from gradio) (0.3.1)\n",
      "Requirement already satisfied: semantic-version~=2.0 in /root/myenv/lib/python3.10/site-packages (from gradio) (2.10.0)\n",
      "Requirement already satisfied: markupsafe~=2.0 in /root/myenv/lib/python3.10/site-packages (from gradio) (2.1.4)\n",
      "Requirement already satisfied: numpy~=1.0 in /root/myenv/lib/python3.10/site-packages (from gradio) (1.26.3)\n",
      "Requirement already satisfied: altair<6.0,>=4.2.0 in /root/myenv/lib/python3.10/site-packages (from gradio) (5.2.0)\n",
      "Requirement already satisfied: matplotlib~=3.0 in /root/myenv/lib/python3.10/site-packages (from gradio) (3.8.2)\n",
      "Requirement already satisfied: python-multipart in /root/myenv/lib/python3.10/site-packages (from gradio) (0.0.6)\n",
      "Requirement already satisfied: jinja2<4.0 in /root/myenv/lib/python3.10/site-packages (from gradio) (3.1.3)\n",
      "Requirement already satisfied: pydub in /root/myenv/lib/python3.10/site-packages (from gradio) (0.25.1)\n",
      "Requirement already satisfied: orjson~=3.0 in /root/myenv/lib/python3.10/site-packages (from gradio) (3.9.12)\n",
      "Requirement already satisfied: ruff>=0.1.7 in /root/myenv/lib/python3.10/site-packages (from gradio) (0.1.15)\n",
      "Requirement already satisfied: huggingface-hub>=0.19.3 in /root/myenv/lib/python3.10/site-packages (from gradio) (0.20.3)\n",
      "Requirement already satisfied: pillow<11.0,>=8.0 in /root/myenv/lib/python3.10/site-packages (from gradio) (10.2.0)\n",
      "Requirement already satisfied: pandas<3.0,>=1.0 in /root/myenv/lib/python3.10/site-packages (from gradio) (2.2.0)\n",
      "Requirement already satisfied: packaging in /root/myenv/lib/python3.10/site-packages (from gradio) (23.2)\n",
      "Requirement already satisfied: uvicorn>=0.14.0 in /root/myenv/lib/python3.10/site-packages (from gradio) (0.27.0.post1)\n",
      "Requirement already satisfied: websockets<12.0,>=10.0 in /root/myenv/lib/python3.10/site-packages (from gradio-client==0.8.1->gradio) (11.0.3)\n",
      "Requirement already satisfied: fsspec in /root/myenv/lib/python3.10/site-packages (from gradio-client==0.8.1->gradio) (2023.12.2)\n",
      "Requirement already satisfied: curl-cffi>=0.6.0b7 in /root/myenv/lib/python3.10/site-packages (from duckduckgo-search) (0.6.0b9)\n",
      "Requirement already satisfied: nest-asyncio>=1.6.0 in /root/myenv/lib/python3.10/site-packages (from duckduckgo-search) (1.6.0)\n",
      "Requirement already satisfied: docstring-inheritance>=2.1.2 in /root/myenv/lib/python3.10/site-packages (from duckduckgo-search) (2.1.2)\n",
      "Requirement already satisfied: click>=8.1.7 in /root/myenv/lib/python3.10/site-packages (from duckduckgo-search) (8.1.7)\n",
      "Requirement already satisfied: lxml>=4.9.3 in /root/myenv/lib/python3.10/site-packages (from duckduckgo-search) (5.1.0)\n",
      "Requirement already satisfied: toolz in /root/myenv/lib/python3.10/site-packages (from altair<6.0,>=4.2.0->gradio) (0.12.1)\n",
      "Requirement already satisfied: jsonschema>=3.0 in /root/myenv/lib/python3.10/site-packages (from altair<6.0,>=4.2.0->gradio) (4.21.1)\n",
      "Requirement already satisfied: cffi>=1.12.0 in /root/myenv/lib/python3.10/site-packages (from curl-cffi>=0.6.0b7->duckduckgo-search) (1.16.0)\n",
      "Requirement already satisfied: certifi in /root/myenv/lib/python3.10/site-packages (from curl-cffi>=0.6.0b7->duckduckgo-search) (2023.11.17)\n",
      "Requirement already satisfied: idna in /root/myenv/lib/python3.10/site-packages (from httpx<1,>=0.23.0->openai==1.5.0->agency-swarm==0.1.1) (3.6)\n",
      "Requirement already satisfied: httpcore==1.* in /root/myenv/lib/python3.10/site-packages (from httpx<1,>=0.23.0->openai==1.5.0->agency-swarm==0.1.1) (1.0.2)\n",
      "Requirement already satisfied: h11<0.15,>=0.13 in /root/myenv/lib/python3.10/site-packages (from httpcore==1.*->httpx<1,>=0.23.0->openai==1.5.0->agency-swarm==0.1.1) (0.14.0)\n",
      "Requirement already satisfied: filelock in /root/myenv/lib/python3.10/site-packages (from huggingface-hub>=0.19.3->gradio) (3.13.1)\n",
      "Requirement already satisfied: requests in /root/myenv/lib/python3.10/site-packages (from huggingface-hub>=0.19.3->gradio) (2.31.0)\n",
      "Requirement already satisfied: python-dateutil>=2.7 in /root/myenv/lib/python3.10/site-packages (from matplotlib~=3.0->gradio) (2.8.2)\n",
      "Requirement already satisfied: pyparsing>=2.3.1 in /root/myenv/lib/python3.10/site-packages (from matplotlib~=3.0->gradio) (3.1.1)\n",
      "Requirement already satisfied: contourpy>=1.0.1 in /root/myenv/lib/python3.10/site-packages (from matplotlib~=3.0->gradio) (1.2.0)\n",
      "Requirement already satisfied: cycler>=0.10 in /root/myenv/lib/python3.10/site-packages (from matplotlib~=3.0->gradio) (0.12.1)\n",
      "Requirement already satisfied: kiwisolver>=1.3.1 in /root/myenv/lib/python3.10/site-packages (from matplotlib~=3.0->gradio) (1.4.5)\n",
      "Requirement already satisfied: fonttools>=4.22.0 in /root/myenv/lib/python3.10/site-packages (from matplotlib~=3.0->gradio) (4.47.2)\n",
      "Requirement already satisfied: pytz>=2020.1 in /root/myenv/lib/python3.10/site-packages (from pandas<3.0,>=1.0->gradio) (2023.4)\n",
      "Requirement already satisfied: tzdata>=2022.7 in /root/myenv/lib/python3.10/site-packages (from pandas<3.0,>=1.0->gradio) (2023.4)\n",
      "Requirement already satisfied: pydantic-core==2.16.1 in /root/myenv/lib/python3.10/site-packages (from pydantic<3.0.0,>=2.0.2->instructor==0.4.5->agency-swarm==0.1.1) (2.16.1)\n",
      "Requirement already satisfied: annotated-types>=0.4.0 in /root/myenv/lib/python3.10/site-packages (from pydantic<3.0.0,>=2.0.2->instructor==0.4.5->agency-swarm==0.1.1) (0.6.0)\n",
      "Requirement already satisfied: colorama<0.5.0,>=0.4.3 in /root/myenv/lib/python3.10/site-packages (from typer<0.10.0,>=0.9.0->instructor==0.4.5->agency-swarm==0.1.1) (0.4.6)\n",
      "Requirement already satisfied: shellingham<2.0.0,>=1.3.0 in /root/myenv/lib/python3.10/site-packages (from typer<0.10.0,>=0.9.0->instructor==0.4.5->agency-swarm==0.1.1) (1.5.4)\n",
      "Requirement already satisfied: starlette<0.36.0,>=0.35.0 in /root/myenv/lib/python3.10/site-packages (from fastapi->gradio) (0.35.1)\n",
      "Requirement already satisfied: aiosignal>=1.1.2 in /root/myenv/lib/python3.10/site-packages (from aiohttp<4.0.0,>=3.9.1->instructor==0.4.5->agency-swarm==0.1.1) (1.3.1)\n",
      "Requirement already satisfied: yarl<2.0,>=1.0 in /root/myenv/lib/python3.10/site-packages (from aiohttp<4.0.0,>=3.9.1->instructor==0.4.5->agency-swarm==0.1.1) (1.9.4)\n",
      "Requirement already satisfied: multidict<7.0,>=4.5 in /root/myenv/lib/python3.10/site-packages (from aiohttp<4.0.0,>=3.9.1->instructor==0.4.5->agency-swarm==0.1.1) (6.0.4)\n",
      "Requirement already satisfied: frozenlist>=1.1.1 in /root/myenv/lib/python3.10/site-packages (from aiohttp<4.0.0,>=3.9.1->instructor==0.4.5->agency-swarm==0.1.1) (1.4.1)\n",
      "Requirement already satisfied: attrs>=17.3.0 in /root/myenv/lib/python3.10/site-packages (from aiohttp<4.0.0,>=3.9.1->instructor==0.4.5->agency-swarm==0.1.1) (23.2.0)\n",
      "Requirement already satisfied: async-timeout<5.0,>=4.0 in /root/myenv/lib/python3.10/site-packages (from aiohttp<4.0.0,>=3.9.1->instructor==0.4.5->agency-swarm==0.1.1) (4.0.3)\n",
      "Requirement already satisfied: exceptiongroup>=1.0.2 in /root/myenv/lib/python3.10/site-packages (from anyio<5,>=3.5.0->openai==1.5.0->agency-swarm==0.1.1) (1.2.0)\n",
      "Requirement already satisfied: pycparser in /root/myenv/lib/python3.10/site-packages (from cffi>=1.12.0->curl-cffi>=0.6.0b7->duckduckgo-search) (2.21)\n",
      "Requirement already satisfied: rpds-py>=0.7.1 in /root/myenv/lib/python3.10/site-packages (from jsonschema>=3.0->altair<6.0,>=4.2.0->gradio) (0.17.1)\n",
      "Requirement already satisfied: jsonschema-specifications>=2023.03.6 in /root/myenv/lib/python3.10/site-packages (from jsonschema>=3.0->altair<6.0,>=4.2.0->gradio) (2023.12.1)\n",
      "Requirement already satisfied: referencing>=0.28.4 in /root/myenv/lib/python3.10/site-packages (from jsonschema>=3.0->altair<6.0,>=4.2.0->gradio) (0.33.0)\n",
      "Requirement already satisfied: mdurl~=0.1 in /root/myenv/lib/python3.10/site-packages (from markdown-it-py>=2.2.0->rich==13.7.0->agency-swarm==0.1.1) (0.1.2)\n",
      "Requirement already satisfied: six>=1.5 in /root/myenv/lib/python3.10/site-packages (from python-dateutil>=2.7->matplotlib~=3.0->gradio) (1.16.0)\n",
      "Requirement already satisfied: charset-normalizer<4,>=2 in /root/myenv/lib/python3.10/site-packages (from requests->huggingface-hub>=0.19.3->gradio) (3.3.2)\n",
      "Requirement already satisfied: urllib3<3,>=1.21.1 in /root/myenv/lib/python3.10/site-packages (from requests->huggingface-hub>=0.19.3->gradio) (2.2.0)\n"
     ]
    }
   ],
   "source": [
    "!pip install git+https://github.com/afewell/agency-swarm.git@notebook-update-afewell gradio duckduckgo-search"
   ]
  },
  {
   "cell_type": "code",
   "execution_count": 23,
   "metadata": {
    "colab": {
     "base_uri": "https://localhost:8080/"
    },
    "id": "dHqVhxU-x1rL",
    "outputId": "6791f9ba-4ce8-4be5-9d8d-c6bf16d8f799"
   },
   "outputs": [
    {
     "name": "stdin",
     "output_type": "stream",
     "text": [
      "Please enter your openai key:  ········\n"
     ]
    }
   ],
   "source": [
    "from agency_swarm import set_openai_key\n",
    "from getpass import getpass\n",
    "set_openai_key(getpass(\"Please enter your openai key: \"))"
   ]
  },
  {
   "cell_type": "markdown",
   "metadata": {
    "id": "1h43Eh0PSDHb"
   },
   "source": [
    "# Project Manager Agent\n"
   ]
  },
  {
   "cell_type": "code",
   "execution_count": 24,
   "metadata": {
    "id": "w7xwtx3-LWna"
   },
   "outputs": [],
   "source": [
    "projmgr_instructions = \"\"\"### Enhanced Instructions for Project Manager Agent\n",
    "\n",
    "As the Project Manager, you embody the pinnacle of professional project management, serving as the linchpin for high-stakes projects for the world's leading organizations. Your communications, both with clients and team members, should exude authority, precision, and a deep understanding of project management principles. Follow these refined instructions to amplify your effectiveness:\n",
    "\n",
    "#### 1. Project Initiation and Planning\n",
    "   - **Client Consultation**: Engage with the client to understand their vision, needs, and constraints. Use your expertise to ask insightful questions that clarify project scope and objectives.\n",
    "   \n",
    "   - **Project Plan Development**: Break down the client's request into a detailed project plan. This plan should include step-by-step tasks, timelines, resource allocation, and risk assessment. Use project management tools to create a visual roadmap and ensure accountability.\n",
    "   \n",
    "   - **Task Delegation with Precision**: Assign tasks to agents based on a thorough assessment of their skills, expertise, and current workload. Ensure each task is matched with an agent's strengths and capabilities to optimize outcomes.\n",
    "\n",
    "#### 2. Execution and Monitoring\n",
    "   - **Objective Clarification**: For each delegated task, provide clear, concise objectives and expected outcomes. Include any specific criteria or benchmarks that define success for the task.\n",
    "   \n",
    "   - **Facilitate Expert Collaboration**: Actively facilitate communication among agents, ensuring they have access to all necessary information and resources. Use collaboration tools to create an integrated workspace where agents can share insights and progress updates.\n",
    "   \n",
    "   - **Quality Assurance**: Upon task completion, rigorously review the agent's response against the project's objectives and quality standards. Ensure the response not only answers the user query but also adds value through depth, clarity, and insight.\n",
    "\n",
    "#### 3. Adaptation and Improvement\n",
    "   - **Iterative Feedback**: If an agent's response falls short of expectations, provide specific feedback aimed at elevating the quality. Encourage an iterative approach, allowing up to three attempts for improvement, guiding them towards excellence with each iteration.\n",
    "   \n",
    "   - **Adaptive Project Management**: Be prepared to revise the project plan and reallocate resources as the project evolves. This includes responding to unforeseen challenges, changes in client requirements, or feedback from agents and stakeholders.\n",
    "\n",
    "#### 4. Communication and Reporting\n",
    "   - **Ongoing Communication**: Maintain continuous, open lines of communication with both clients and agents. Provide regular updates on project progress, and be proactive in addressing questions or concerns.\n",
    "   \n",
    "   - **Comprehensive Reporting**: Once all tasks are completed, compile a detailed report for the client. This report should summarize the project outcomes, highlight key findings, and recommend next steps or further considerations.\n",
    "\n",
    "#### 5. Reflective Practice\n",
    "   - **Post-Project Review**: After project completion, conduct a review session to evaluate the project's success and areas for improvement. Gather feedback from clients and agents to inform future projects.\n",
    "   \n",
    "   - **Professional Development**: Continuously seek opportunities to enhance your project management skills and knowledge. Stay abreast of industry trends, new methodologies, and technologies that can improve project outcomes.\n",
    "\n",
    "Your role as a Project Manager is critical to the success of each project. By following these enhanced instructions, you will not only uphold but elevate the standard of excellence expected by the world's largest organizations, ensuring every project is a testament to your unparalleled expertise in project management.\n",
    "\n",
    "\"\"\""
   ]
  },
  {
   "cell_type": "code",
   "execution_count": 25,
   "metadata": {
    "id": "NKFbvF54SGT-"
   },
   "outputs": [],
   "source": [
    "from agency_swarm import Agent\n",
    "\n",
    "projmgr = Agent(name=\"Project Manager\",\n",
    "            description=\"Responsible for client communication, task planning and management.\",\n",
    "            instructions=projmgr_instructions, # can be a file like ./instructions.md\n",
    "            files_folder=None,\n",
    "            tools=[])"
   ]
  },
  {
   "cell_type": "markdown",
   "metadata": {
    "id": "y_9zs8XLrkal"
   },
   "source": [
    "# Virtual Assistant"
   ]
  },
  {
   "cell_type": "markdown",
   "metadata": {
    "id": "B5m14T_KhwFX"
   },
   "source": [
    "### Custom tools"
   ]
  },
  {
   "cell_type": "code",
   "execution_count": 26,
   "metadata": {
    "id": "MxkO2GHnNekC"
   },
   "outputs": [],
   "source": [
    "from duckduckgo_search import DDGS\n",
    "from pydantic import Field\n",
    "from agency_swarm.util.oai import get_openai_client\n",
    "from agency_swarm import BaseTool\n",
    "\n",
    "\n",
    "client = get_openai_client()\n",
    "\n",
    "\n",
    "class SearchWeb(BaseTool):\n",
    "    \"\"\"Search the web with a search phrase and return the results.\"\"\"\n",
    "\n",
    "    phrase: str = Field(..., description=\"The search phrase you want to use. Optimize the search phrase for an internet search engine.\")\n",
    "\n",
    "    # This code will be executed if the agent calls this tool\n",
    "    def run(self):\n",
    "      with DDGS() as ddgs:\n",
    "        return str([r for r in ddgs.text(self.phrase, max_results=3)])\n"
   ]
  },
  {
   "cell_type": "code",
   "execution_count": 28,
   "metadata": {
    "id": "8u4x6gdeSARg"
   },
   "outputs": [],
   "source": [
    "va_instructions = \"\"\"### Instructions for Virtual Assistant\n",
    "\n",
    "Your role is to assist the project manager agent by executing research tasks efficiently and effectively. Your objective is to gather accurate, relevant, and comprehensive information to fulfill user requests. Follow this enhanced outline to improve your research capabilities:\n",
    "\n",
    "#### 1. Conducting Research\n",
    "   - **Understand the Objective**: Begin by clarifying the purpose and objectives of the research. Ask clarifying questions if necessary to ensure you're targeting the right information.\n",
    "   \n",
    "   - **Initial Web Search**: Conduct an initial web search to gather information. Use different combinations of keywords and phrases related to the task to maximize the breadth of information.\n",
    "   \n",
    "   - **Persistence in Searching**: If the initial search does not yield satisfactory results, refine your search strategy. Adjust your keywords, use synonyms, or narrow/broaden your search scope. Conduct up to 3 additional searches, varying your approach each time to uncover different aspects of the topic.\n",
    "   \n",
    "   - **Deep Dive Analysis**: For each piece of information found, evaluate its relevance, credibility, and value to the task. Look for information from authoritative and diverse sources to get a well-rounded view of the topic.\n",
    "   \n",
    "   - **Summarize Findings**: Provide clear, concise summaries of your findings. Highlight the key points, their relevance to the project, and any insights or conclusions drawn from the information. If relevant, suggest how the findings could influence the project or decision-making process.\n",
    "   \n",
    "   - **Cite Sources**: Properly cite all sources to maintain academic integrity and avoid plagiarism. Include the title, author (if available), publication date, and a link to the source.\n",
    "\n",
    "#### 2. Dealing with Challenges\n",
    "   - **Encountering Conflicting Information**: When you find conflicting information, note the differences and the sources providing this information. Try to determine which source is more credible or if there's a consensus among other reputable sources.\n",
    "   \n",
    "   - **Knowledge Gaps**: If you encounter a gap in information, identify what's missing and conduct targeted searches to fill those gaps. Consider using academic databases, industry publications, or contacting experts if possible.\n",
    "\n",
    "#### 3. Continuous Improvement\n",
    "   - **Reflect on Search Strategies**: After completing a task, take a moment to reflect on what search strategies were most effective and which ones could be improved for future tasks.\n",
    "   \n",
    "   - **Stay Updated**: Keep abreast of new search techniques, tools, and resources that could enhance your research capabilities.\n",
    "\n",
    "Your adaptability, thoroughness, and critical thinking are key to navigating the complexities of research and delivering valuable insights to support the team's objectives.\n",
    "\n",
    "\"\"\""
   ]
  },
  {
   "cell_type": "code",
   "execution_count": 29,
   "metadata": {
    "id": "6e8aWSRRBlBC"
   },
   "outputs": [],
   "source": [
    "va = Agent(name=\"Virtual Assistant\",\n",
    "            description=\"Responsible for doing research and writing proposals.\",\n",
    "            instructions=va_instructions,\n",
    "            files_folder=None,\n",
    "            tools=[SearchWeb])"
   ]
  },
  {
   "cell_type": "markdown",
   "metadata": {
    "id": "x0zLIv1i75gJ"
   },
   "source": [
    "# Developer Agent"
   ]
  },
  {
   "cell_type": "code",
   "execution_count": 30,
   "metadata": {
    "id": "7nAlYUHd74pX"
   },
   "outputs": [],
   "source": [
    "from agency_swarm.agents.coding import CodingAgent\n",
    "\n",
    "dev = CodingAgent()"
   ]
  },
  {
   "cell_type": "markdown",
   "metadata": {
    "id": "8kXMaOqSSb_K"
   },
   "source": [
    "# Create Agency"
   ]
  },
  {
   "cell_type": "code",
   "execution_count": 31,
   "metadata": {
    "id": "7rer151XX8Po"
   },
   "outputs": [],
   "source": [
    "agency_manifesto = \"\"\"# \"VRSEN AI\" Agency Manifesto\n",
    "\n",
    "You are a part of a virtual AI development agency called \"VRSEN AI\"\n",
    "\n",
    "Your mission is to empower businesses to navigate the AI revolution successfully.\"\"\""
   ]
  },
  {
   "cell_type": "code",
   "execution_count": 32,
   "metadata": {
    "id": "mr2apzHySegB"
   },
   "outputs": [],
   "source": [
    "from agency_swarm import Agency\n",
    "\n",
    "agency = Agency([\n",
    "    projmgr,\n",
    "    [projmgr, dev],\n",
    "    [projmgr, va],\n",
    "    [projmgr, va]\n",
    "], shared_instructions=agency_manifesto)"
   ]
  },
  {
   "cell_type": "markdown",
   "metadata": {
    "id": "I2CHn1B7ShEL"
   },
   "source": [
    "# Demo with Gradio"
   ]
  },
  {
   "cell_type": "code",
   "execution_count": 33,
   "metadata": {
    "colab": {
     "base_uri": "https://localhost:8080/",
     "height": 869
    },
    "id": "vpGRiEeulQZv",
    "outputId": "67e06e8c-8df6-4dd4-a295-d885e6c535eb"
   },
   "outputs": [
    {
     "name": "stdout",
     "output_type": "stream",
     "text": [
      "Running on local URL:  http://127.0.0.1:7861\n",
      "Running on public URL: https://a852be9e84ebb598f1.gradio.live\n",
      "\n",
      "This share link expires in 72 hours. For free permanent hosting and GPU upgrades, run `gradio deploy` from Terminal to deploy to Spaces (https://huggingface.co/spaces)\n"
     ]
    },
    {
     "data": {
      "text/html": [
       "<div><iframe src=\"https://a852be9e84ebb598f1.gradio.live\" width=\"100%\" height=\"500\" allow=\"autoplay; camera; microphone; clipboard-read; clipboard-write;\" frameborder=\"0\" allowfullscreen></iframe></div>"
      ],
      "text/plain": [
       "<IPython.core.display.HTML object>"
      ]
     },
     "metadata": {},
     "output_type": "display_data"
    },
    {
     "data": {
      "text/plain": [
       "Gradio Blocks instance: 2 backend functions\n",
       "-------------------------------------------\n",
       "fn_index=0\n",
       " inputs:\n",
       " |-textbox\n",
       " |-chatbot\n",
       " outputs:\n",
       " |-textbox\n",
       " |-chatbot\n",
       "fn_index=1\n",
       " inputs:\n",
       " |-chatbot\n",
       " outputs:\n",
       " |-chatbot"
      ]
     },
     "execution_count": 33,
     "metadata": {},
     "output_type": "execute_result"
    },
    {
     "name": "stdout",
     "output_type": "stream",
     "text": [
      "THREAD:[ user -> Project Manager ]: URL https://platform.openai.com/playground?assistant=asst_t4QV6KSvgwzW7ykcoO3SGq9d&mode=assistant&thread=thread_6gPU7OsezLpBeWlVET2Gj9O7\n",
      "THREAD:[ Project Manager -> CodingAgent ]: URL https://platform.openai.com/playground?assistant=asst_anbsCQ3lA3IvAVCYvLbU5bj8&mode=assistant&thread=thread_20T53gt5yER2bRe1bbgdjtJp\n",
      "THREAD:[ user -> Project Manager ]: URL https://platform.openai.com/playground?assistant=asst_t4QV6KSvgwzW7ykcoO3SGq9d&mode=assistant&thread=thread_6gPU7OsezLpBeWlVET2Gj9O7\n",
      "THREAD:[ Project Manager -> CodingAgent ]: URL https://platform.openai.com/playground?assistant=asst_anbsCQ3lA3IvAVCYvLbU5bj8&mode=assistant&thread=thread_20T53gt5yER2bRe1bbgdjtJp\n",
      "THREAD:[ Project Manager -> CodingAgent ]: URL https://platform.openai.com/playground?assistant=asst_anbsCQ3lA3IvAVCYvLbU5bj8&mode=assistant&thread=thread_20T53gt5yER2bRe1bbgdjtJp\n",
      "THREAD:[ user -> Project Manager ]: URL https://platform.openai.com/playground?assistant=asst_t4QV6KSvgwzW7ykcoO3SGq9d&mode=assistant&thread=thread_6gPU7OsezLpBeWlVET2Gj9O7\n",
      "THREAD:[ Project Manager -> Virtual Assistant ]: URL https://platform.openai.com/playground?assistant=asst_VXAsIY7kpmi6z2O8imjJguT6&mode=assistant&thread=thread_T3hpvPRA7zDkixCYgxAZ489A\n",
      "THREAD:[ Project Manager -> CodingAgent ]: URL https://platform.openai.com/playground?assistant=asst_anbsCQ3lA3IvAVCYvLbU5bj8&mode=assistant&thread=thread_20T53gt5yER2bRe1bbgdjtJp\n",
      "THREAD:[ user -> Project Manager ]: URL https://platform.openai.com/playground?assistant=asst_t4QV6KSvgwzW7ykcoO3SGq9d&mode=assistant&thread=thread_6gPU7OsezLpBeWlVET2Gj9O7\n",
      "THREAD:[ Project Manager -> Virtual Assistant ]: URL https://platform.openai.com/playground?assistant=asst_VXAsIY7kpmi6z2O8imjJguT6&mode=assistant&thread=thread_T3hpvPRA7zDkixCYgxAZ489A\n",
      "THREAD:[ Project Manager -> CodingAgent ]: URL https://platform.openai.com/playground?assistant=asst_anbsCQ3lA3IvAVCYvLbU5bj8&mode=assistant&thread=thread_20T53gt5yER2bRe1bbgdjtJp\n"
     ]
    }
   ],
   "source": [
    "agency.demo_gradio(height=900, share=True)"
   ]
  },
  {
   "cell_type": "code",
   "execution_count": 34,
   "metadata": {},
   "outputs": [
    {
     "name": "stdout",
     "output_type": "stream",
     "text": [
      "Requirement already satisfied: requests in /root/myenv/lib/python3.10/site-packages (2.31.0)\n",
      "Collecting bs4\n",
      "  Downloading bs4-0.0.2-py2.py3-none-any.whl (1.2 kB)\n",
      "Requirement already satisfied: charset-normalizer<4,>=2 in /root/myenv/lib/python3.10/site-packages (from requests) (3.3.2)\n",
      "Requirement already satisfied: idna<4,>=2.5 in /root/myenv/lib/python3.10/site-packages (from requests) (3.6)\n",
      "Requirement already satisfied: certifi>=2017.4.17 in /root/myenv/lib/python3.10/site-packages (from requests) (2023.11.17)\n",
      "Requirement already satisfied: urllib3<3,>=1.21.1 in /root/myenv/lib/python3.10/site-packages (from requests) (2.2.0)\n",
      "Requirement already satisfied: beautifulsoup4 in /root/myenv/lib/python3.10/site-packages (from bs4) (4.12.3)\n",
      "Requirement already satisfied: soupsieve>1.2 in /root/myenv/lib/python3.10/site-packages (from beautifulsoup4->bs4) (2.5)\n",
      "Installing collected packages: bs4\n",
      "Successfully installed bs4-0.0.2\n"
     ]
    }
   ],
   "source": [
    "!pip install requests bs4"
   ]
  },
  {
   "cell_type": "code",
   "execution_count": null,
   "metadata": {},
   "outputs": [],
   "source": []
  }
 ],
 "metadata": {
  "colab": {
   "provenance": []
  },
  "kernelspec": {
   "display_name": "Python 3 (ipykernel)",
   "language": "python",
   "name": "python3"
  },
  "language_info": {
   "codemirror_mode": {
    "name": "ipython",
    "version": 3
   },
   "file_extension": ".py",
   "mimetype": "text/x-python",
   "name": "python",
   "nbconvert_exporter": "python",
   "pygments_lexer": "ipython3",
   "version": "3.10.12"
  }
 },
 "nbformat": 4,
 "nbformat_minor": 4
}
