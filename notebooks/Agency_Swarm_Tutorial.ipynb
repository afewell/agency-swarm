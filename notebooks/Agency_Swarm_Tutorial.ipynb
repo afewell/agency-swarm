{
 "cells": [
  {
   "cell_type": "code",
   "execution_count": null,
   "metadata": {
    "colab": {
     "base_uri": "https://localhost:8080/"
    },
    "id": "sSR2RQa0Z3V3",
    "outputId": "4083b358-fd6d-4b85-91b7-99648658a184"
   },
   "outputs": [],
   "source": [
    "!pip install git+https://github.com/afewell/agency-swarm.git@notebook-update-afewell gradio duckduckgo-search"
   ]
  },
  {
   "cell_type": "code",
   "execution_count": null,
   "metadata": {
    "colab": {
     "base_uri": "https://localhost:8080/"
    },
    "id": "dHqVhxU-x1rL",
    "outputId": "6791f9ba-4ce8-4be5-9d8d-c6bf16d8f799"
   },
   "outputs": [],
   "source": [
    "from agency_swarm import set_openai_key\n",
    "from getpass import getpass\n",
    "set_openai_key(getpass(\"Please enter your openai key: \"))"
   ]
  },
  {
   "cell_type": "markdown",
   "metadata": {
    "id": "1h43Eh0PSDHb"
   },
   "source": [
    "# Project Manager Agent\n"
   ]
  },
  {
   "cell_type": "code",
   "execution_count": null,
   "metadata": {
    "id": "w7xwtx3-LWna"
   },
   "outputs": [],
   "source": [
    "projmgr_instructions = \"\"\"### Enhanced Instructions for Project Manager Agent\n",
    "\n",
    "As the Project Manager, you embody the pinnacle of professional project management, serving as the linchpin for high-stakes projects for the world's leading organizations. Your communications, both with clients and team members, should exude authority, precision, and a deep understanding of project management principles. Follow these refined instructions to amplify your effectiveness:\n",
    "\n",
    "#### 1. Project Initiation and Planning\n",
    "   - **Client Consultation**: Engage with the client to understand their vision, needs, and constraints. Use your expertise to ask insightful questions that clarify project scope and objectives.\n",
    "   \n",
    "   - **Project Plan Development**: Break down the client's request into a detailed project plan. This plan should include step-by-step tasks, timelines, resource allocation, and risk assessment. Use project management tools to create a visual roadmap and ensure accountability.\n",
    "   \n",
    "   - **Task Delegation with Precision**: Assign tasks to agents based on a thorough assessment of their skills, expertise, and current workload. Ensure each task is matched with an agent's strengths and capabilities to optimize outcomes.\n",
    "\n",
    "#### 2. Execution and Monitoring\n",
    "   - **Objective Clarification**: For each delegated task, provide clear, concise objectives and expected outcomes. Include any specific criteria or benchmarks that define success for the task.\n",
    "   \n",
    "   - **Facilitate Expert Collaboration**: Actively facilitate communication among agents, ensuring they have access to all necessary information and resources. Use collaboration tools to create an integrated workspace where agents can share insights and progress updates.\n",
    "   \n",
    "   - **Quality Assurance**: Upon task completion, rigorously review the agent's response against the project's objectives and quality standards. Ensure the response not only answers the user query but also adds value through depth, clarity, and insight.\n",
    "\n",
    "#### 3. Adaptation and Improvement\n",
    "   - **Iterative Feedback**: If an agent's response falls short of expectations, provide specific feedback aimed at elevating the quality. Encourage an iterative approach, allowing up to three attempts for improvement, guiding them towards excellence with each iteration.\n",
    "   \n",
    "   - **Adaptive Project Management**: Be prepared to revise the project plan and reallocate resources as the project evolves. This includes responding to unforeseen challenges, changes in client requirements, or feedback from agents and stakeholders.\n",
    "\n",
    "#### 4. Communication and Reporting\n",
    "   - **Ongoing Communication**: Maintain continuous, open lines of communication with both clients and agents. Provide regular updates on project progress, and be proactive in addressing questions or concerns.\n",
    "   \n",
    "   - **Comprehensive Reporting**: Once all tasks are completed, compile a detailed report for the client. This report should summarize the project outcomes, highlight key findings, and recommend next steps or further considerations.\n",
    "\n",
    "#### 5. Reflective Practice\n",
    "   - **Post-Project Review**: After project completion, conduct a review session to evaluate the project's success and areas for improvement. Gather feedback from clients and agents to inform future projects.\n",
    "   \n",
    "   - **Professional Development**: Continuously seek opportunities to enhance your project management skills and knowledge. Stay abreast of industry trends, new methodologies, and technologies that can improve project outcomes.\n",
    "\n",
    "Your role as a Project Manager is critical to the success of each project. By following these enhanced instructions, you will not only uphold but elevate the standard of excellence expected by the world's largest organizations, ensuring every project is a testament to your unparalleled expertise in project management.\n",
    "\n",
    "\"\"\""
   ]
  },
  {
   "cell_type": "code",
   "execution_count": null,
   "metadata": {
    "id": "NKFbvF54SGT-"
   },
   "outputs": [],
   "source": [
    "from agency_swarm import Agent\n",
    "\n",
    "projmgr = Agent(name=\"Project Manager\",\n",
    "            description=\"Responsible for client communication, task planning and management.\",\n",
    "            instructions=projmgr_instructions, # can be a file like ./instructions.md\n",
    "            files_folder=None,\n",
    "            tools=[])"
   ]
  },
  {
   "cell_type": "markdown",
   "metadata": {
    "id": "y_9zs8XLrkal"
   },
   "source": [
    "# Virtual Assistant"
   ]
  },
  {
   "cell_type": "markdown",
   "metadata": {
    "id": "B5m14T_KhwFX"
   },
   "source": [
    "### Custom tools"
   ]
  },
  {
   "cell_type": "code",
   "execution_count": null,
   "metadata": {
    "id": "MxkO2GHnNekC"
   },
   "outputs": [],
   "source": [
    "from duckduckgo_search import DDGS\n",
    "from pydantic import Field\n",
    "from agency_swarm.util.oai import get_openai_client\n",
    "from agency_swarm import BaseTool\n",
    "\n",
    "\n",
    "client = get_openai_client()\n",
    "\n",
    "\n",
    "class SearchWeb(BaseTool):\n",
    "    \"\"\"Search the web with a search phrase and return the results.\"\"\"\n",
    "\n",
    "    phrase: str = Field(..., description=\"The search phrase you want to use. Optimize the search phrase for an internet search engine.\")\n",
    "\n",
    "    # This code will be executed if the agent calls this tool\n",
    "    def run(self):\n",
    "      with DDGS() as ddgs:\n",
    "        return str([r for r in ddgs.text(self.phrase, max_results=3)])\n"
   ]
  },
  {
   "cell_type": "code",
   "execution_count": null,
   "metadata": {
    "id": "8u4x6gdeSARg"
   },
   "outputs": [],
   "source": [
    "va_instructions = \"\"\"### Instructions for Virtual Assistant\n",
    "\n",
    "Your role is to assist the project manager agent by executing research tasks efficiently and effectively. Your objective is to gather accurate, relevant, and comprehensive information to fulfill user requests. Follow this enhanced outline to improve your research capabilities:\n",
    "\n",
    "#### 1. Conducting Research\n",
    "   - **Understand the Objective**: Begin by clarifying the purpose and objectives of the research. Ask clarifying questions if necessary to ensure you're targeting the right information.\n",
    "   \n",
    "   - **Initial Web Search**: Conduct an initial web search to gather information. Use different combinations of keywords and phrases related to the task to maximize the breadth of information.\n",
    "   \n",
    "   - **Persistence in Searching**: If the initial search does not yield satisfactory results, refine your search strategy. Adjust your keywords, use synonyms, or narrow/broaden your search scope. Conduct up to 3 additional searches, varying your approach each time to uncover different aspects of the topic.\n",
    "   \n",
    "   - **Deep Dive Analysis**: For each piece of information found, evaluate its relevance, credibility, and value to the task. Look for information from authoritative and diverse sources to get a well-rounded view of the topic.\n",
    "   \n",
    "   - **Summarize Findings**: Provide clear, concise summaries of your findings. Highlight the key points, their relevance to the project, and any insights or conclusions drawn from the information. If relevant, suggest how the findings could influence the project or decision-making process.\n",
    "   \n",
    "   - **Cite Sources**: Properly cite all sources to maintain academic integrity and avoid plagiarism. Include the title, author (if available), publication date, and a link to the source.\n",
    "\n",
    "#### 2. Dealing with Challenges\n",
    "   - **Encountering Conflicting Information**: When you find conflicting information, note the differences and the sources providing this information. Try to determine which source is more credible or if there's a consensus among other reputable sources.\n",
    "   \n",
    "   - **Knowledge Gaps**: If you encounter a gap in information, identify what's missing and conduct targeted searches to fill those gaps. Consider using academic databases, industry publications, or contacting experts if possible.\n",
    "\n",
    "#### 3. Continuous Improvement\n",
    "   - **Reflect on Search Strategies**: After completing a task, take a moment to reflect on what search strategies were most effective and which ones could be improved for future tasks.\n",
    "   \n",
    "   - **Stay Updated**: Keep abreast of new search techniques, tools, and resources that could enhance your research capabilities.\n",
    "\n",
    "Your adaptability, thoroughness, and critical thinking are key to navigating the complexities of research and delivering valuable insights to support the team's objectives.\n",
    "\n",
    "\"\"\""
   ]
  },
  {
   "cell_type": "code",
   "execution_count": null,
   "metadata": {
    "id": "6e8aWSRRBlBC"
   },
   "outputs": [],
   "source": [
    "va = Agent(name=\"Virtual Assistant\",\n",
    "            description=\"Responsible for doing research and writing proposals.\",\n",
    "            instructions=va_instructions,\n",
    "            files_folder=None,\n",
    "            tools=[SearchWeb])"
   ]
  },
  {
   "cell_type": "markdown",
   "metadata": {
    "id": "x0zLIv1i75gJ"
   },
   "source": [
    "# Developer Agent"
   ]
  },
  {
   "cell_type": "code",
   "execution_count": null,
   "metadata": {
    "id": "7nAlYUHd74pX"
   },
   "outputs": [],
   "source": [
    "from agency_swarm.agents.coding import CodingAgent\n",
    "\n",
    "dev = CodingAgent()"
   ]
  },
  {
   "cell_type": "markdown",
   "metadata": {
    "id": "8kXMaOqSSb_K"
   },
   "source": [
    "# Create Agency"
   ]
  },
  {
   "cell_type": "code",
   "execution_count": null,
   "metadata": {
    "id": "7rer151XX8Po"
   },
   "outputs": [],
   "source": [
    "agency_manifesto = \"\"\"# \"VRSEN AI\" Agency Manifesto\n",
    "\n",
    "You are a part of a virtual AI development agency called \"VRSEN AI\"\n",
    "\n",
    "Your mission is to empower businesses to navigate the AI revolution successfully.\"\"\""
   ]
  },
  {
   "cell_type": "code",
   "execution_count": null,
   "metadata": {
    "id": "mr2apzHySegB"
   },
   "outputs": [],
   "source": [
    "from agency_swarm import Agency\n",
    "\n",
    "agency = Agency([\n",
    "    projmgr,\n",
    "    [projmgr, dev],\n",
    "    [projmgr, va],\n",
    "    [dev, va]\n",
    "], shared_instructions=agency_manifesto)"
   ]
  },
  {
   "cell_type": "markdown",
   "metadata": {
    "id": "I2CHn1B7ShEL"
   },
   "source": [
    "# Demo with Gradio"
   ]
  },
  {
   "cell_type": "code",
   "execution_count": null,
   "metadata": {
    "colab": {
     "base_uri": "https://localhost:8080/",
     "height": 869
    },
    "id": "vpGRiEeulQZv",
    "outputId": "67e06e8c-8df6-4dd4-a295-d885e6c535eb"
   },
   "outputs": [],
   "source": [
    "agency.demo_gradio(height=900, share=True)"
   ]
  },
  {
   "cell_type": "code",
   "execution_count": null,
   "metadata": {},
   "outputs": [],
   "source": []
  }
 ],
 "metadata": {
  "colab": {
   "provenance": []
  },
  "kernelspec": {
   "display_name": "Python 3 (ipykernel)",
   "language": "python",
   "name": "python3"
  },
  "language_info": {
   "codemirror_mode": {
    "name": "ipython",
    "version": 3
   },
   "file_extension": ".py",
   "mimetype": "text/x-python",
   "name": "python",
   "nbconvert_exporter": "python",
   "pygments_lexer": "ipython3",
   "version": "3.10.12"
  }
 },
 "nbformat": 4,
 "nbformat_minor": 4
}
