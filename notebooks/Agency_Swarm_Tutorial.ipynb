{
 "cells": [
  {
   "cell_type": "code",
   "execution_count": 1,
   "metadata": {
    "colab": {
     "base_uri": "https://localhost:8080/"
    },
    "id": "sSR2RQa0Z3V3",
    "outputId": "4083b358-fd6d-4b85-91b7-99648658a184"
   },
   "outputs": [
    {
     "name": "stdout",
     "output_type": "stream",
     "text": [
      "Requirement already satisfied: agency-swarm in /root/myenv/lib/python3.10/site-packages (0.1.0)\n",
      "Requirement already satisfied: gradio in /root/myenv/lib/python3.10/site-packages (4.16.0)\n",
      "Requirement already satisfied: duckduckgo-search in /root/myenv/lib/python3.10/site-packages (4.4)\n",
      "Requirement already satisfied: rich==13.7.0 in /root/myenv/lib/python3.10/site-packages (from agency-swarm) (13.7.0)\n",
      "Requirement already satisfied: python-dotenv==1.0.0 in /root/myenv/lib/python3.10/site-packages (from agency-swarm) (1.0.0)\n",
      "Requirement already satisfied: instructor==0.4.5 in /root/myenv/lib/python3.10/site-packages (from agency-swarm) (0.4.5)\n",
      "Requirement already satisfied: jsonref==1.1.0 in /root/myenv/lib/python3.10/site-packages (from agency-swarm) (1.1.0)\n",
      "Requirement already satisfied: termcolor==2.3.0 in /root/myenv/lib/python3.10/site-packages (from agency-swarm) (2.3.0)\n",
      "Requirement already satisfied: deepdiff==6.7.1 in /root/myenv/lib/python3.10/site-packages (from agency-swarm) (6.7.1)\n",
      "Requirement already satisfied: openai==1.5.0 in /root/myenv/lib/python3.10/site-packages (from agency-swarm) (1.5.0)\n",
      "Requirement already satisfied: ordered-set<4.2.0,>=4.0.2 in /root/myenv/lib/python3.10/site-packages (from deepdiff==6.7.1->agency-swarm) (4.1.0)\n",
      "Requirement already satisfied: docstring-parser<0.16,>=0.15 in /root/myenv/lib/python3.10/site-packages (from instructor==0.4.5->agency-swarm) (0.15)\n",
      "Requirement already satisfied: aiohttp<4.0.0,>=3.9.1 in /root/myenv/lib/python3.10/site-packages (from instructor==0.4.5->agency-swarm) (3.9.3)\n",
      "Requirement already satisfied: typer<0.10.0,>=0.9.0 in /root/myenv/lib/python3.10/site-packages (from instructor==0.4.5->agency-swarm) (0.9.0)\n",
      "Requirement already satisfied: pydantic<3.0.0,>=2.0.2 in /root/myenv/lib/python3.10/site-packages (from instructor==0.4.5->agency-swarm) (2.6.0)\n",
      "Requirement already satisfied: typing-extensions<5,>=4.5 in /root/myenv/lib/python3.10/site-packages (from openai==1.5.0->agency-swarm) (4.9.0)\n",
      "Requirement already satisfied: sniffio in /root/myenv/lib/python3.10/site-packages (from openai==1.5.0->agency-swarm) (1.3.0)\n",
      "Requirement already satisfied: tqdm>4 in /root/myenv/lib/python3.10/site-packages (from openai==1.5.0->agency-swarm) (4.66.1)\n",
      "Requirement already satisfied: anyio<5,>=3.5.0 in /root/myenv/lib/python3.10/site-packages (from openai==1.5.0->agency-swarm) (4.2.0)\n",
      "Requirement already satisfied: httpx<1,>=0.23.0 in /root/myenv/lib/python3.10/site-packages (from openai==1.5.0->agency-swarm) (0.26.0)\n",
      "Requirement already satisfied: distro<2,>=1.7.0 in /root/myenv/lib/python3.10/site-packages (from openai==1.5.0->agency-swarm) (1.9.0)\n",
      "Requirement already satisfied: pygments<3.0.0,>=2.13.0 in /root/myenv/lib/python3.10/site-packages (from rich==13.7.0->agency-swarm) (2.17.2)\n",
      "Requirement already satisfied: markdown-it-py>=2.2.0 in /root/myenv/lib/python3.10/site-packages (from rich==13.7.0->agency-swarm) (3.0.0)\n",
      "Requirement already satisfied: gradio-client==0.8.1 in /root/myenv/lib/python3.10/site-packages (from gradio) (0.8.1)\n",
      "Requirement already satisfied: aiofiles<24.0,>=22.0 in /root/myenv/lib/python3.10/site-packages (from gradio) (23.2.1)\n",
      "Requirement already satisfied: importlib-resources<7.0,>=1.3 in /root/myenv/lib/python3.10/site-packages (from gradio) (6.1.1)\n",
      "Requirement already satisfied: jinja2<4.0 in /root/myenv/lib/python3.10/site-packages (from gradio) (3.1.3)\n",
      "Requirement already satisfied: markupsafe~=2.0 in /root/myenv/lib/python3.10/site-packages (from gradio) (2.1.4)\n",
      "Requirement already satisfied: tomlkit==0.12.0 in /root/myenv/lib/python3.10/site-packages (from gradio) (0.12.0)\n",
      "Requirement already satisfied: ffmpy in /root/myenv/lib/python3.10/site-packages (from gradio) (0.3.1)\n",
      "Requirement already satisfied: python-multipart in /root/myenv/lib/python3.10/site-packages (from gradio) (0.0.6)\n",
      "Requirement already satisfied: pyyaml<7.0,>=5.0 in /root/myenv/lib/python3.10/site-packages (from gradio) (6.0.1)\n",
      "Requirement already satisfied: orjson~=3.0 in /root/myenv/lib/python3.10/site-packages (from gradio) (3.9.12)\n",
      "Requirement already satisfied: fastapi in /root/myenv/lib/python3.10/site-packages (from gradio) (0.109.0)\n",
      "Requirement already satisfied: ruff>=0.1.7 in /root/myenv/lib/python3.10/site-packages (from gradio) (0.1.15)\n",
      "Requirement already satisfied: numpy~=1.0 in /root/myenv/lib/python3.10/site-packages (from gradio) (1.26.3)\n",
      "Requirement already satisfied: uvicorn>=0.14.0 in /root/myenv/lib/python3.10/site-packages (from gradio) (0.27.0.post1)\n",
      "Requirement already satisfied: altair<6.0,>=4.2.0 in /root/myenv/lib/python3.10/site-packages (from gradio) (5.2.0)\n",
      "Requirement already satisfied: packaging in /root/myenv/lib/python3.10/site-packages (from gradio) (23.2)\n",
      "Requirement already satisfied: pillow<11.0,>=8.0 in /root/myenv/lib/python3.10/site-packages (from gradio) (10.2.0)\n",
      "Requirement already satisfied: pandas<3.0,>=1.0 in /root/myenv/lib/python3.10/site-packages (from gradio) (2.2.0)\n",
      "Requirement already satisfied: matplotlib~=3.0 in /root/myenv/lib/python3.10/site-packages (from gradio) (3.8.2)\n",
      "Requirement already satisfied: semantic-version~=2.0 in /root/myenv/lib/python3.10/site-packages (from gradio) (2.10.0)\n",
      "Requirement already satisfied: pydub in /root/myenv/lib/python3.10/site-packages (from gradio) (0.25.1)\n",
      "Requirement already satisfied: huggingface-hub>=0.19.3 in /root/myenv/lib/python3.10/site-packages (from gradio) (0.20.3)\n",
      "Requirement already satisfied: websockets<12.0,>=10.0 in /root/myenv/lib/python3.10/site-packages (from gradio-client==0.8.1->gradio) (11.0.3)\n",
      "Requirement already satisfied: fsspec in /root/myenv/lib/python3.10/site-packages (from gradio-client==0.8.1->gradio) (2023.12.2)\n",
      "Requirement already satisfied: lxml>=4.9.3 in /root/myenv/lib/python3.10/site-packages (from duckduckgo-search) (5.1.0)\n",
      "Requirement already satisfied: docstring-inheritance>=2.1.2 in /root/myenv/lib/python3.10/site-packages (from duckduckgo-search) (2.1.2)\n",
      "Requirement already satisfied: click>=8.1.7 in /root/myenv/lib/python3.10/site-packages (from duckduckgo-search) (8.1.7)\n",
      "Requirement already satisfied: curl-cffi>=0.6.0b7 in /root/myenv/lib/python3.10/site-packages (from duckduckgo-search) (0.6.0b9)\n",
      "Requirement already satisfied: nest-asyncio>=1.6.0 in /root/myenv/lib/python3.10/site-packages (from duckduckgo-search) (1.6.0)\n",
      "Requirement already satisfied: jsonschema>=3.0 in /root/myenv/lib/python3.10/site-packages (from altair<6.0,>=4.2.0->gradio) (4.21.1)\n",
      "Requirement already satisfied: toolz in /root/myenv/lib/python3.10/site-packages (from altair<6.0,>=4.2.0->gradio) (0.12.1)\n",
      "Requirement already satisfied: cffi>=1.12.0 in /root/myenv/lib/python3.10/site-packages (from curl-cffi>=0.6.0b7->duckduckgo-search) (1.16.0)\n",
      "Requirement already satisfied: certifi in /root/myenv/lib/python3.10/site-packages (from curl-cffi>=0.6.0b7->duckduckgo-search) (2023.11.17)\n",
      "Requirement already satisfied: idna in /root/myenv/lib/python3.10/site-packages (from httpx<1,>=0.23.0->openai==1.5.0->agency-swarm) (3.6)\n",
      "Requirement already satisfied: httpcore==1.* in /root/myenv/lib/python3.10/site-packages (from httpx<1,>=0.23.0->openai==1.5.0->agency-swarm) (1.0.2)\n",
      "Requirement already satisfied: h11<0.15,>=0.13 in /root/myenv/lib/python3.10/site-packages (from httpcore==1.*->httpx<1,>=0.23.0->openai==1.5.0->agency-swarm) (0.14.0)\n",
      "Requirement already satisfied: filelock in /root/myenv/lib/python3.10/site-packages (from huggingface-hub>=0.19.3->gradio) (3.13.1)\n",
      "Requirement already satisfied: requests in /root/myenv/lib/python3.10/site-packages (from huggingface-hub>=0.19.3->gradio) (2.31.0)\n",
      "Requirement already satisfied: contourpy>=1.0.1 in /root/myenv/lib/python3.10/site-packages (from matplotlib~=3.0->gradio) (1.2.0)\n",
      "Requirement already satisfied: pyparsing>=2.3.1 in /root/myenv/lib/python3.10/site-packages (from matplotlib~=3.0->gradio) (3.1.1)\n",
      "Requirement already satisfied: kiwisolver>=1.3.1 in /root/myenv/lib/python3.10/site-packages (from matplotlib~=3.0->gradio) (1.4.5)\n",
      "Requirement already satisfied: python-dateutil>=2.7 in /root/myenv/lib/python3.10/site-packages (from matplotlib~=3.0->gradio) (2.8.2)\n",
      "Requirement already satisfied: cycler>=0.10 in /root/myenv/lib/python3.10/site-packages (from matplotlib~=3.0->gradio) (0.12.1)\n",
      "Requirement already satisfied: fonttools>=4.22.0 in /root/myenv/lib/python3.10/site-packages (from matplotlib~=3.0->gradio) (4.47.2)\n",
      "Requirement already satisfied: tzdata>=2022.7 in /root/myenv/lib/python3.10/site-packages (from pandas<3.0,>=1.0->gradio) (2023.4)\n",
      "Requirement already satisfied: pytz>=2020.1 in /root/myenv/lib/python3.10/site-packages (from pandas<3.0,>=1.0->gradio) (2023.4)\n",
      "Requirement already satisfied: pydantic-core==2.16.1 in /root/myenv/lib/python3.10/site-packages (from pydantic<3.0.0,>=2.0.2->instructor==0.4.5->agency-swarm) (2.16.1)\n",
      "Requirement already satisfied: annotated-types>=0.4.0 in /root/myenv/lib/python3.10/site-packages (from pydantic<3.0.0,>=2.0.2->instructor==0.4.5->agency-swarm) (0.6.0)\n",
      "Requirement already satisfied: colorama<0.5.0,>=0.4.3 in /root/myenv/lib/python3.10/site-packages (from typer<0.10.0,>=0.9.0->instructor==0.4.5->agency-swarm) (0.4.6)\n",
      "Requirement already satisfied: shellingham<2.0.0,>=1.3.0 in /root/myenv/lib/python3.10/site-packages (from typer<0.10.0,>=0.9.0->instructor==0.4.5->agency-swarm) (1.5.4)\n",
      "Requirement already satisfied: starlette<0.36.0,>=0.35.0 in /root/myenv/lib/python3.10/site-packages (from fastapi->gradio) (0.35.1)\n",
      "Requirement already satisfied: multidict<7.0,>=4.5 in /root/myenv/lib/python3.10/site-packages (from aiohttp<4.0.0,>=3.9.1->instructor==0.4.5->agency-swarm) (6.0.4)\n",
      "Requirement already satisfied: yarl<2.0,>=1.0 in /root/myenv/lib/python3.10/site-packages (from aiohttp<4.0.0,>=3.9.1->instructor==0.4.5->agency-swarm) (1.9.4)\n",
      "Requirement already satisfied: aiosignal>=1.1.2 in /root/myenv/lib/python3.10/site-packages (from aiohttp<4.0.0,>=3.9.1->instructor==0.4.5->agency-swarm) (1.3.1)\n",
      "Requirement already satisfied: frozenlist>=1.1.1 in /root/myenv/lib/python3.10/site-packages (from aiohttp<4.0.0,>=3.9.1->instructor==0.4.5->agency-swarm) (1.4.1)\n",
      "Requirement already satisfied: async-timeout<5.0,>=4.0 in /root/myenv/lib/python3.10/site-packages (from aiohttp<4.0.0,>=3.9.1->instructor==0.4.5->agency-swarm) (4.0.3)\n",
      "Requirement already satisfied: attrs>=17.3.0 in /root/myenv/lib/python3.10/site-packages (from aiohttp<4.0.0,>=3.9.1->instructor==0.4.5->agency-swarm) (23.2.0)\n",
      "Requirement already satisfied: exceptiongroup>=1.0.2 in /root/myenv/lib/python3.10/site-packages (from anyio<5,>=3.5.0->openai==1.5.0->agency-swarm) (1.2.0)\n",
      "Requirement already satisfied: pycparser in /root/myenv/lib/python3.10/site-packages (from cffi>=1.12.0->curl-cffi>=0.6.0b7->duckduckgo-search) (2.21)\n",
      "Requirement already satisfied: referencing>=0.28.4 in /root/myenv/lib/python3.10/site-packages (from jsonschema>=3.0->altair<6.0,>=4.2.0->gradio) (0.33.0)\n",
      "Requirement already satisfied: rpds-py>=0.7.1 in /root/myenv/lib/python3.10/site-packages (from jsonschema>=3.0->altair<6.0,>=4.2.0->gradio) (0.17.1)\n",
      "Requirement already satisfied: jsonschema-specifications>=2023.03.6 in /root/myenv/lib/python3.10/site-packages (from jsonschema>=3.0->altair<6.0,>=4.2.0->gradio) (2023.12.1)\n",
      "Requirement already satisfied: mdurl~=0.1 in /root/myenv/lib/python3.10/site-packages (from markdown-it-py>=2.2.0->rich==13.7.0->agency-swarm) (0.1.2)\n",
      "Requirement already satisfied: six>=1.5 in /root/myenv/lib/python3.10/site-packages (from python-dateutil>=2.7->matplotlib~=3.0->gradio) (1.16.0)\n",
      "Requirement already satisfied: urllib3<3,>=1.21.1 in /root/myenv/lib/python3.10/site-packages (from requests->huggingface-hub>=0.19.3->gradio) (2.2.0)\n",
      "Requirement already satisfied: charset-normalizer<4,>=2 in /root/myenv/lib/python3.10/site-packages (from requests->huggingface-hub>=0.19.3->gradio) (3.3.2)\n"
     ]
    }
   ],
   "source": [
    "!pip install agency-swarm gradio duckduckgo-search"
   ]
  },
  {
   "cell_type": "code",
   "execution_count": 2,
   "metadata": {
    "colab": {
     "base_uri": "https://localhost:8080/"
    },
    "id": "dHqVhxU-x1rL",
    "outputId": "6791f9ba-4ce8-4be5-9d8d-c6bf16d8f799"
   },
   "outputs": [
    {
     "name": "stdin",
     "output_type": "stream",
     "text": [
      "Please enter your openai key:  ········\n"
     ]
    }
   ],
   "source": [
    "from agency_swarm import set_openai_key\n",
    "from getpass import getpass\n",
    "set_openai_key(getpass(\"Please enter your openai key: \"))"
   ]
  },
  {
   "cell_type": "markdown",
   "metadata": {
    "id": "1h43Eh0PSDHb"
   },
   "source": [
    "# CEO Agent\n"
   ]
  },
  {
   "cell_type": "code",
   "execution_count": 3,
   "metadata": {
    "id": "w7xwtx3-LWna"
   },
   "outputs": [],
   "source": [
    "ceo_instructions = \"\"\"# Instructions for CEO Agent\n",
    "\n",
    "- Ensure that proposal is sent to the user before proceeding with task execution.\n",
    "- Delegate tasks to appropriate agents, ensuring they align with their expertise and capabilities.\n",
    "- Clearly define the objectives and expected outcomes for each task.\n",
    "- Provide necessary context and background information for successful task completion.\n",
    "- Maintain ongoing communication with agents until complete task execution.\n",
    "- Review completed tasks to ensure they meet the set objectives.\n",
    "- Report the results back to the user.\"\"\""
   ]
  },
  {
   "cell_type": "code",
   "execution_count": 4,
   "metadata": {
    "id": "NKFbvF54SGT-"
   },
   "outputs": [],
   "source": [
    "from agency_swarm import Agent\n",
    "\n",
    "ceo = Agent(name=\"CEO\",\n",
    "            description=\"Responsible for client communication, task planning and management.\",\n",
    "            instructions=ceo_instructions, # can be a file like ./instructions.md\n",
    "            files_folder=None,\n",
    "            tools=[])"
   ]
  },
  {
   "cell_type": "markdown",
   "metadata": {
    "id": "y_9zs8XLrkal"
   },
   "source": [
    "# Virtual Assistant"
   ]
  },
  {
   "cell_type": "markdown",
   "metadata": {
    "id": "pSDsePTyLzkZ"
   },
   "source": [
    "### Importing tools from langchain example.  \n",
    "You can skip these and remove them from va agent below."
   ]
  },
  {
   "cell_type": "code",
   "execution_count": null,
   "metadata": {
    "id": "sY8FY_UwLKy_"
   },
   "outputs": [],
   "source": [
    "!pip install langchain==0.0.318 &> /dev/null"
   ]
  },
  {
   "cell_type": "code",
   "execution_count": null,
   "metadata": {
    "colab": {
     "base_uri": "https://localhost:8080/"
    },
    "id": "zE7zTpfILy5i",
    "outputId": "e8250b4c-4df6-44f6-ca18-94078e982bd6"
   },
   "outputs": [],
   "source": [
    "from langchain.utilities.zapier import ZapierNLAWrapper\n",
    "from langchain.agents.agent_toolkits import ZapierToolkit\n",
    "import os\n",
    "from langchain.tools import format_tool_to_openai_function\n",
    "from langchain.tools.zapier.tool import ZapierNLARunAction\n",
    "\n",
    "# https://nla.zapier.com/docs/authentication/\n",
    "os.environ[\"ZAPIER_NLA_API_KEY\"] = getpass(\"Your Zapier NLA Key: \")"
   ]
  },
  {
   "cell_type": "code",
   "execution_count": 5,
   "metadata": {
    "id": "w2OO-KxEuh8R"
   },
   "outputs": [],
   "source": [
    "from agency_swarm import BaseTool\n",
    "from pydantic import Field"
   ]
  },
  {
   "cell_type": "markdown",
   "metadata": {
    "id": "B5m14T_KhwFX"
   },
   "source": [
    "### Custom tools"
   ]
  },
  {
   "cell_type": "code",
   "execution_count": 6,
   "metadata": {
    "id": "MxkO2GHnNekC"
   },
   "outputs": [],
   "source": [
    "from duckduckgo_search import DDGS\n",
    "from agency_swarm.util.oai import get_openai_client\n",
    "\n",
    "client = get_openai_client()\n",
    "\n",
    "\n",
    "class SearchWeb(BaseTool):\n",
    "    \"\"\"Search the web with a search phrase and return the results.\"\"\"\n",
    "\n",
    "    phrase: str = Field(..., description=\"The search phrase you want to use. Optimize the search phrase for an internet search engine.\")\n",
    "\n",
    "    # This code will be executed if the agent calls this tool\n",
    "    def run(self):\n",
    "      with DDGS() as ddgs:\n",
    "        return str([r for r in ddgs.text(self.phrase, max_results=3)])\n",
    "\n",
    "class GenerateProposal(BaseTool):\n",
    "    \"\"\"Generate a proposal for a project based on a project brief. Remember that user does not have access to the output of this function. You must send it back to him after execution.\"\"\"\n",
    "    project_brief: str = Field(..., description=\"The project breif to generate a proposal for.\")\n",
    "\n",
    "    def run(self):\n",
    "        completion = client.chat.completions.create(\n",
    "            model=\"gpt-3.5-turbo\",\n",
    "            messages=[\n",
    "              {\"role\": \"system\", \"content\": \"You are a professional proposal drafting assistant. Do not include any actual technologies or technical details into proposal until specified in the project brief. Be short.\"},\n",
    "              {\"role\": \"user\", \"content\": \"Please draft a proposal for the following project brief: \" + self.project_brief}\n",
    "            ]\n",
    "          )\n",
    "\n",
    "        return str(completion.choices[0].message.content)"
   ]
  },
  {
   "cell_type": "code",
   "execution_count": 7,
   "metadata": {
    "id": "8u4x6gdeSARg"
   },
   "outputs": [],
   "source": [
    "va_instructions = \"\"\"### Instructions for Virtual Assistant\n",
    "\n",
    "Your role is to assist users in executing tasks like below. If the task is outside of your capabilities, please report back to the user.\n",
    "\n",
    "#### 1. Generating Proposals\n",
    "   - **Gather Requirements**: Collect all necessary information about the project, including client needs, objectives, and any specific requests.\n",
    "\n",
    "#### 2. Conducting Research\n",
    "   - **Understand the Objective**: Clarify the purpose and objectives of the research to focus on relevant information.\n",
    "   - **Summarize Findings**: Provide clear, concise summaries of the research findings, highlighting key points and how they relate to the project or inquiry.\n",
    "   - **Cite Sources**: Properly cite all sources to maintain integrity and avoid plagiarism.\n",
    "\"\"\""
   ]
  },
  {
   "cell_type": "code",
   "execution_count": 8,
   "metadata": {
    "id": "6e8aWSRRBlBC"
   },
   "outputs": [],
   "source": [
    "va = Agent(name=\"Virtual Assistant\",\n",
    "            description=\"Responsible for doing research and writing proposals.\",\n",
    "            instructions=va_instructions,\n",
    "            files_folder=None,\n",
    "            tools=[SearchWeb, GenerateProposal])"
   ]
  },
  {
   "cell_type": "markdown",
   "metadata": {
    "id": "x0zLIv1i75gJ"
   },
   "source": [
    "# Developer Agent"
   ]
  },
  {
   "cell_type": "code",
   "execution_count": 9,
   "metadata": {
    "id": "aIhhoDWx8BZM"
   },
   "outputs": [],
   "source": [
    "from agency_swarm.tools import BaseTool\n",
    "from pydantic import Field, BaseModel\n",
    "import subprocess\n",
    "from typing import List\n",
    "\n",
    "\n",
    "class ExecuteCommand(BaseTool):\n",
    "    \"\"\"Run any command from the terminal. If there are too many logs, the outputs might be truncated.\"\"\"\n",
    "    command: str = Field(\n",
    "        ..., description=\"The command to be executed.\"\n",
    "    )\n",
    "\n",
    "    def run(self):\n",
    "        \"\"\"Executes the given command and captures its output and errors.\"\"\"\n",
    "        try:\n",
    "            # Splitting the command into a list of arguments\n",
    "            command_args = self.command.split()\n",
    "\n",
    "            # Executing the command\n",
    "            result = subprocess.run(\n",
    "                command_args,\n",
    "                text=True,\n",
    "                capture_output=True,\n",
    "                check=True\n",
    "            )\n",
    "            return result.stdout\n",
    "        except subprocess.CalledProcessError as e:\n",
    "            return f\"An error occurred: {e.stderr}\"\n",
    "\n",
    "class File(BaseTool):\n",
    "    \"\"\"\n",
    "    File to be written to the disk with an appropriate name and file path, containing code that can be saved and executed locally at a later time.\n",
    "    \"\"\"\n",
    "    file_name: str = Field(\n",
    "        ..., description=\"The name of the file including the extension and the file path from your current directory if needed.\"\n",
    "    )\n",
    "    body: str = Field(..., description=\"Correct contents of a file\")\n",
    "\n",
    "    def run(self):\n",
    "        # Extract the directory path from the file name\n",
    "        directory = os.path.dirname(self.file_name)\n",
    "\n",
    "        # If the directory is not empty, check if it exists and create it if not\n",
    "        if directory and not os.path.exists(directory):\n",
    "            os.makedirs(directory)\n",
    "\n",
    "        # Write the file\n",
    "        with open(self.file_name, \"w\") as f:\n",
    "            f.write(self.body)\n",
    "\n",
    "        return \"File written to \" + self.file_name\n",
    "\n",
    "class Program(BaseTool):\n",
    "    \"\"\"\n",
    "    Set of files that represent a complete and correct program. This environment has access to all standard Python packages and the internet.\n",
    "    \"\"\"\n",
    "    chain_of_thought: str = Field(...,\n",
    "        description=\"Think step by step to determine the correct actions that are needed to implement the program.\")\n",
    "    files: List[File] = Field(..., description=\"List of files\")\n",
    "\n",
    "    def run(self):\n",
    "      outputs = []\n",
    "      for file in self.files:\n",
    "        outputs.append(file.run())\n",
    "\n",
    "      return str(outputs)"
   ]
  },
  {
   "cell_type": "code",
   "execution_count": 10,
   "metadata": {
    "id": "lStK381cVF7S"
   },
   "outputs": [],
   "source": [
    "dev_instructions = \"\"\"# Instructions for AI Developer Agent\n",
    "\n",
    "- Write clean and efficient Python code.\n",
    "- Structure your code logically, with `main.py` as the entry point.\n",
    "- Ensure correct imports according to program structure.\n",
    "- Execute your code to test for functionality and errors, before reporting back to the user.\n",
    "- Anticipate and handle potential runtime errors.\n",
    "- Provide clear error messages for easier troubleshooting.\n",
    "- Debug any issues before reporting the results back to the user.\"\"\""
   ]
  },
  {
   "cell_type": "code",
   "execution_count": 11,
   "metadata": {
    "id": "7nAlYUHd74pX"
   },
   "outputs": [],
   "source": [
    "from agency_swarm.tools import Retrieval, CodeInterpreter\n",
    "\n",
    "dev = Agent(name=\"Developer\",\n",
    "            description=\"Responsible for running and executing Python Programs.\",\n",
    "            instructions=dev_instructions,\n",
    "            files_folder=None,\n",
    "            tools=[ExecuteCommand, Program])\n"
   ]
  },
  {
   "cell_type": "markdown",
   "metadata": {
    "id": "8kXMaOqSSb_K"
   },
   "source": [
    "# Create Agency"
   ]
  },
  {
   "cell_type": "code",
   "execution_count": 12,
   "metadata": {
    "id": "7rer151XX8Po"
   },
   "outputs": [],
   "source": [
    "agency_manifesto = \"\"\"# \"VRSEN AI\" Agency Manifesto\n",
    "\n",
    "You are a part of a virtual AI development agency called \"VRSEN AI\"\n",
    "\n",
    "Your mission is to empower businesses to navigate the AI revolution successfully.\"\"\""
   ]
  },
  {
   "cell_type": "code",
   "execution_count": 13,
   "metadata": {
    "id": "mr2apzHySegB"
   },
   "outputs": [],
   "source": [
    "from agency_swarm import Agency\n",
    "\n",
    "agency = Agency([\n",
    "    ceo,\n",
    "    [ceo, dev],\n",
    "    [ceo, va],\n",
    "    [dev, va]\n",
    "], shared_instructions=agency_manifesto)"
   ]
  },
  {
   "cell_type": "markdown",
   "metadata": {
    "id": "I2CHn1B7ShEL"
   },
   "source": [
    "# Demo with Gradio"
   ]
  },
  {
   "cell_type": "code",
   "execution_count": 16,
   "metadata": {
    "colab": {
     "base_uri": "https://localhost:8080/",
     "height": 869
    },
    "id": "vpGRiEeulQZv",
    "outputId": "67e06e8c-8df6-4dd4-a295-d885e6c535eb"
   },
   "outputs": [
    {
     "name": "stdout",
     "output_type": "stream",
     "text": [
      "Running on local URL:  http://127.0.0.1:7861\n",
      "\n",
      "To create a public link, set `share=True` in `launch()`.\n"
     ]
    },
    {
     "data": {
      "text/html": [
       "<div><iframe src=\"http://127.0.0.1:7861/\" width=\"100%\" height=\"500\" allow=\"autoplay; camera; microphone; clipboard-read; clipboard-write;\" frameborder=\"0\" allowfullscreen></iframe></div>"
      ],
      "text/plain": [
       "<IPython.core.display.HTML object>"
      ]
     },
     "metadata": {},
     "output_type": "display_data"
    },
    {
     "data": {
      "text/plain": [
       "Gradio Blocks instance: 2 backend functions\n",
       "-------------------------------------------\n",
       "fn_index=0\n",
       " inputs:\n",
       " |-textbox\n",
       " |-chatbot\n",
       " outputs:\n",
       " |-textbox\n",
       " |-chatbot\n",
       "fn_index=1\n",
       " inputs:\n",
       " |-chatbot\n",
       " outputs:\n",
       " |-chatbot"
      ]
     },
     "execution_count": 16,
     "metadata": {},
     "output_type": "execute_result"
    }
   ],
   "source": [
    "agency.demo_gradio(height=900)"
   ]
  },
  {
   "cell_type": "code",
   "execution_count": null,
   "metadata": {},
   "outputs": [],
   "source": []
  }
 ],
 "metadata": {
  "colab": {
   "provenance": []
  },
  "kernelspec": {
   "display_name": "Python 3 (ipykernel)",
   "language": "python",
   "name": "python3"
  },
  "language_info": {
   "codemirror_mode": {
    "name": "ipython",
    "version": 3
   },
   "file_extension": ".py",
   "mimetype": "text/x-python",
   "name": "python",
   "nbconvert_exporter": "python",
   "pygments_lexer": "ipython3",
   "version": "3.10.12"
  }
 },
 "nbformat": 4,
 "nbformat_minor": 4
}
