{
 "cells": [
  {
   "cell_type": "code",
   "execution_count": 1,
   "metadata": {
    "colab": {
     "base_uri": "https://localhost:8080/"
    },
    "id": "sSR2RQa0Z3V3",
    "outputId": "4083b358-fd6d-4b85-91b7-99648658a184"
   },
   "outputs": [
    {
     "name": "stdout",
     "output_type": "stream",
     "text": [
      "Collecting git+https://github.com/afewell/agency-swarm.git@notebook-update-afewell\n",
      "  Cloning https://github.com/afewell/agency-swarm.git (to revision notebook-update-afewell) to /tmp/pip-req-build-gqo7fhvz\n",
      "  Running command git clone --filter=blob:none --quiet https://github.com/afewell/agency-swarm.git /tmp/pip-req-build-gqo7fhvz\n",
      "  Running command git checkout -b notebook-update-afewell --track origin/notebook-update-afewell\n",
      "  Switched to a new branch 'notebook-update-afewell'\n",
      "  Branch 'notebook-update-afewell' set up to track remote branch 'notebook-update-afewell' from 'origin'.\n",
      "  Resolved https://github.com/afewell/agency-swarm.git to commit 763ec3526b018a6ebb3f2b9e683d58627819ce33\n",
      "  Installing build dependencies ... \u001b[?25ldone\n",
      "\u001b[?25h  Getting requirements to build wheel ... \u001b[?25ldone\n",
      "\u001b[?25h  Installing backend dependencies ... \u001b[?25ldone\n",
      "\u001b[?25h  Preparing metadata (pyproject.toml) ... \u001b[?25ldone\n",
      "\u001b[?25hRequirement already satisfied: gradio in /root/myenv/lib/python3.10/site-packages (4.16.0)\n",
      "Requirement already satisfied: duckduckgo-search in /root/myenv/lib/python3.10/site-packages (4.4)\n",
      "Requirement already satisfied: instructor==0.4.5 in /root/myenv/lib/python3.10/site-packages (from agency-swarm==0.1.1) (0.4.5)\n",
      "Requirement already satisfied: deepdiff==6.7.1 in /root/myenv/lib/python3.10/site-packages (from agency-swarm==0.1.1) (6.7.1)\n",
      "Requirement already satisfied: termcolor==2.3.0 in /root/myenv/lib/python3.10/site-packages (from agency-swarm==0.1.1) (2.3.0)\n",
      "Requirement already satisfied: python-dotenv==1.0.0 in /root/myenv/lib/python3.10/site-packages (from agency-swarm==0.1.1) (1.0.0)\n",
      "Requirement already satisfied: rich==13.7.0 in /root/myenv/lib/python3.10/site-packages (from agency-swarm==0.1.1) (13.7.0)\n",
      "Requirement already satisfied: openai==1.5.0 in /root/myenv/lib/python3.10/site-packages (from agency-swarm==0.1.1) (1.5.0)\n",
      "Requirement already satisfied: jsonref==1.1.0 in /root/myenv/lib/python3.10/site-packages (from agency-swarm==0.1.1) (1.1.0)\n",
      "Requirement already satisfied: ordered-set<4.2.0,>=4.0.2 in /root/myenv/lib/python3.10/site-packages (from deepdiff==6.7.1->agency-swarm==0.1.1) (4.1.0)\n",
      "Requirement already satisfied: typer<0.10.0,>=0.9.0 in /root/myenv/lib/python3.10/site-packages (from instructor==0.4.5->agency-swarm==0.1.1) (0.9.0)\n",
      "Requirement already satisfied: aiohttp<4.0.0,>=3.9.1 in /root/myenv/lib/python3.10/site-packages (from instructor==0.4.5->agency-swarm==0.1.1) (3.9.3)\n",
      "Requirement already satisfied: docstring-parser<0.16,>=0.15 in /root/myenv/lib/python3.10/site-packages (from instructor==0.4.5->agency-swarm==0.1.1) (0.15)\n",
      "Requirement already satisfied: pydantic<3.0.0,>=2.0.2 in /root/myenv/lib/python3.10/site-packages (from instructor==0.4.5->agency-swarm==0.1.1) (2.6.0)\n",
      "Requirement already satisfied: httpx<1,>=0.23.0 in /root/myenv/lib/python3.10/site-packages (from openai==1.5.0->agency-swarm==0.1.1) (0.26.0)\n",
      "Requirement already satisfied: anyio<5,>=3.5.0 in /root/myenv/lib/python3.10/site-packages (from openai==1.5.0->agency-swarm==0.1.1) (4.2.0)\n",
      "Requirement already satisfied: sniffio in /root/myenv/lib/python3.10/site-packages (from openai==1.5.0->agency-swarm==0.1.1) (1.3.0)\n",
      "Requirement already satisfied: tqdm>4 in /root/myenv/lib/python3.10/site-packages (from openai==1.5.0->agency-swarm==0.1.1) (4.66.1)\n",
      "Requirement already satisfied: typing-extensions<5,>=4.5 in /root/myenv/lib/python3.10/site-packages (from openai==1.5.0->agency-swarm==0.1.1) (4.9.0)\n",
      "Requirement already satisfied: distro<2,>=1.7.0 in /root/myenv/lib/python3.10/site-packages (from openai==1.5.0->agency-swarm==0.1.1) (1.9.0)\n",
      "Requirement already satisfied: pygments<3.0.0,>=2.13.0 in /root/myenv/lib/python3.10/site-packages (from rich==13.7.0->agency-swarm==0.1.1) (2.17.2)\n",
      "Requirement already satisfied: markdown-it-py>=2.2.0 in /root/myenv/lib/python3.10/site-packages (from rich==13.7.0->agency-swarm==0.1.1) (3.0.0)\n",
      "Requirement already satisfied: ruff>=0.1.7 in /root/myenv/lib/python3.10/site-packages (from gradio) (0.1.15)\n",
      "Requirement already satisfied: semantic-version~=2.0 in /root/myenv/lib/python3.10/site-packages (from gradio) (2.10.0)\n",
      "Requirement already satisfied: python-multipart in /root/myenv/lib/python3.10/site-packages (from gradio) (0.0.6)\n",
      "Requirement already satisfied: packaging in /root/myenv/lib/python3.10/site-packages (from gradio) (23.2)\n",
      "Requirement already satisfied: jinja2<4.0 in /root/myenv/lib/python3.10/site-packages (from gradio) (3.1.3)\n",
      "Requirement already satisfied: gradio-client==0.8.1 in /root/myenv/lib/python3.10/site-packages (from gradio) (0.8.1)\n",
      "Requirement already satisfied: pandas<3.0,>=1.0 in /root/myenv/lib/python3.10/site-packages (from gradio) (2.2.0)\n",
      "Requirement already satisfied: aiofiles<24.0,>=22.0 in /root/myenv/lib/python3.10/site-packages (from gradio) (23.2.1)\n",
      "Requirement already satisfied: numpy~=1.0 in /root/myenv/lib/python3.10/site-packages (from gradio) (1.26.3)\n",
      "Requirement already satisfied: ffmpy in /root/myenv/lib/python3.10/site-packages (from gradio) (0.3.1)\n",
      "Requirement already satisfied: altair<6.0,>=4.2.0 in /root/myenv/lib/python3.10/site-packages (from gradio) (5.2.0)\n",
      "Requirement already satisfied: matplotlib~=3.0 in /root/myenv/lib/python3.10/site-packages (from gradio) (3.8.2)\n",
      "Requirement already satisfied: huggingface-hub>=0.19.3 in /root/myenv/lib/python3.10/site-packages (from gradio) (0.20.3)\n",
      "Requirement already satisfied: pydub in /root/myenv/lib/python3.10/site-packages (from gradio) (0.25.1)\n",
      "Requirement already satisfied: importlib-resources<7.0,>=1.3 in /root/myenv/lib/python3.10/site-packages (from gradio) (6.1.1)\n",
      "Requirement already satisfied: pyyaml<7.0,>=5.0 in /root/myenv/lib/python3.10/site-packages (from gradio) (6.0.1)\n",
      "Requirement already satisfied: tomlkit==0.12.0 in /root/myenv/lib/python3.10/site-packages (from gradio) (0.12.0)\n",
      "Requirement already satisfied: uvicorn>=0.14.0 in /root/myenv/lib/python3.10/site-packages (from gradio) (0.27.0.post1)\n",
      "Requirement already satisfied: markupsafe~=2.0 in /root/myenv/lib/python3.10/site-packages (from gradio) (2.1.4)\n",
      "Requirement already satisfied: pillow<11.0,>=8.0 in /root/myenv/lib/python3.10/site-packages (from gradio) (10.2.0)\n",
      "Requirement already satisfied: orjson~=3.0 in /root/myenv/lib/python3.10/site-packages (from gradio) (3.9.12)\n",
      "Requirement already satisfied: fastapi in /root/myenv/lib/python3.10/site-packages (from gradio) (0.109.0)\n",
      "Requirement already satisfied: fsspec in /root/myenv/lib/python3.10/site-packages (from gradio-client==0.8.1->gradio) (2023.12.2)\n",
      "Requirement already satisfied: websockets<12.0,>=10.0 in /root/myenv/lib/python3.10/site-packages (from gradio-client==0.8.1->gradio) (11.0.3)\n",
      "Requirement already satisfied: lxml>=4.9.3 in /root/myenv/lib/python3.10/site-packages (from duckduckgo-search) (5.1.0)\n",
      "Requirement already satisfied: docstring-inheritance>=2.1.2 in /root/myenv/lib/python3.10/site-packages (from duckduckgo-search) (2.1.2)\n",
      "Requirement already satisfied: nest-asyncio>=1.6.0 in /root/myenv/lib/python3.10/site-packages (from duckduckgo-search) (1.6.0)\n",
      "Requirement already satisfied: curl-cffi>=0.6.0b7 in /root/myenv/lib/python3.10/site-packages (from duckduckgo-search) (0.6.0b9)\n",
      "Requirement already satisfied: click>=8.1.7 in /root/myenv/lib/python3.10/site-packages (from duckduckgo-search) (8.1.7)\n",
      "Requirement already satisfied: jsonschema>=3.0 in /root/myenv/lib/python3.10/site-packages (from altair<6.0,>=4.2.0->gradio) (4.21.1)\n",
      "Requirement already satisfied: toolz in /root/myenv/lib/python3.10/site-packages (from altair<6.0,>=4.2.0->gradio) (0.12.1)\n",
      "Requirement already satisfied: cffi>=1.12.0 in /root/myenv/lib/python3.10/site-packages (from curl-cffi>=0.6.0b7->duckduckgo-search) (1.16.0)\n",
      "Requirement already satisfied: certifi in /root/myenv/lib/python3.10/site-packages (from curl-cffi>=0.6.0b7->duckduckgo-search) (2023.11.17)\n",
      "Requirement already satisfied: httpcore==1.* in /root/myenv/lib/python3.10/site-packages (from httpx<1,>=0.23.0->openai==1.5.0->agency-swarm==0.1.1) (1.0.2)\n",
      "Requirement already satisfied: idna in /root/myenv/lib/python3.10/site-packages (from httpx<1,>=0.23.0->openai==1.5.0->agency-swarm==0.1.1) (3.6)\n",
      "Requirement already satisfied: h11<0.15,>=0.13 in /root/myenv/lib/python3.10/site-packages (from httpcore==1.*->httpx<1,>=0.23.0->openai==1.5.0->agency-swarm==0.1.1) (0.14.0)\n",
      "Requirement already satisfied: requests in /root/myenv/lib/python3.10/site-packages (from huggingface-hub>=0.19.3->gradio) (2.31.0)\n",
      "Requirement already satisfied: filelock in /root/myenv/lib/python3.10/site-packages (from huggingface-hub>=0.19.3->gradio) (3.13.1)\n",
      "Requirement already satisfied: python-dateutil>=2.7 in /root/myenv/lib/python3.10/site-packages (from matplotlib~=3.0->gradio) (2.8.2)\n",
      "Requirement already satisfied: contourpy>=1.0.1 in /root/myenv/lib/python3.10/site-packages (from matplotlib~=3.0->gradio) (1.2.0)\n",
      "Requirement already satisfied: pyparsing>=2.3.1 in /root/myenv/lib/python3.10/site-packages (from matplotlib~=3.0->gradio) (3.1.1)\n",
      "Requirement already satisfied: kiwisolver>=1.3.1 in /root/myenv/lib/python3.10/site-packages (from matplotlib~=3.0->gradio) (1.4.5)\n",
      "Requirement already satisfied: cycler>=0.10 in /root/myenv/lib/python3.10/site-packages (from matplotlib~=3.0->gradio) (0.12.1)\n",
      "Requirement already satisfied: fonttools>=4.22.0 in /root/myenv/lib/python3.10/site-packages (from matplotlib~=3.0->gradio) (4.47.2)\n",
      "Requirement already satisfied: pytz>=2020.1 in /root/myenv/lib/python3.10/site-packages (from pandas<3.0,>=1.0->gradio) (2023.4)\n",
      "Requirement already satisfied: tzdata>=2022.7 in /root/myenv/lib/python3.10/site-packages (from pandas<3.0,>=1.0->gradio) (2023.4)\n",
      "Requirement already satisfied: annotated-types>=0.4.0 in /root/myenv/lib/python3.10/site-packages (from pydantic<3.0.0,>=2.0.2->instructor==0.4.5->agency-swarm==0.1.1) (0.6.0)\n",
      "Requirement already satisfied: pydantic-core==2.16.1 in /root/myenv/lib/python3.10/site-packages (from pydantic<3.0.0,>=2.0.2->instructor==0.4.5->agency-swarm==0.1.1) (2.16.1)\n",
      "Requirement already satisfied: colorama<0.5.0,>=0.4.3 in /root/myenv/lib/python3.10/site-packages (from typer<0.10.0,>=0.9.0->instructor==0.4.5->agency-swarm==0.1.1) (0.4.6)\n",
      "Requirement already satisfied: shellingham<2.0.0,>=1.3.0 in /root/myenv/lib/python3.10/site-packages (from typer<0.10.0,>=0.9.0->instructor==0.4.5->agency-swarm==0.1.1) (1.5.4)\n",
      "Requirement already satisfied: starlette<0.36.0,>=0.35.0 in /root/myenv/lib/python3.10/site-packages (from fastapi->gradio) (0.35.1)\n",
      "Requirement already satisfied: attrs>=17.3.0 in /root/myenv/lib/python3.10/site-packages (from aiohttp<4.0.0,>=3.9.1->instructor==0.4.5->agency-swarm==0.1.1) (23.2.0)\n",
      "Requirement already satisfied: frozenlist>=1.1.1 in /root/myenv/lib/python3.10/site-packages (from aiohttp<4.0.0,>=3.9.1->instructor==0.4.5->agency-swarm==0.1.1) (1.4.1)\n",
      "Requirement already satisfied: async-timeout<5.0,>=4.0 in /root/myenv/lib/python3.10/site-packages (from aiohttp<4.0.0,>=3.9.1->instructor==0.4.5->agency-swarm==0.1.1) (4.0.3)\n",
      "Requirement already satisfied: yarl<2.0,>=1.0 in /root/myenv/lib/python3.10/site-packages (from aiohttp<4.0.0,>=3.9.1->instructor==0.4.5->agency-swarm==0.1.1) (1.9.4)\n",
      "Requirement already satisfied: multidict<7.0,>=4.5 in /root/myenv/lib/python3.10/site-packages (from aiohttp<4.0.0,>=3.9.1->instructor==0.4.5->agency-swarm==0.1.1) (6.0.4)\n",
      "Requirement already satisfied: aiosignal>=1.1.2 in /root/myenv/lib/python3.10/site-packages (from aiohttp<4.0.0,>=3.9.1->instructor==0.4.5->agency-swarm==0.1.1) (1.3.1)\n",
      "Requirement already satisfied: exceptiongroup>=1.0.2 in /root/myenv/lib/python3.10/site-packages (from anyio<5,>=3.5.0->openai==1.5.0->agency-swarm==0.1.1) (1.2.0)\n",
      "Requirement already satisfied: pycparser in /root/myenv/lib/python3.10/site-packages (from cffi>=1.12.0->curl-cffi>=0.6.0b7->duckduckgo-search) (2.21)\n",
      "Requirement already satisfied: referencing>=0.28.4 in /root/myenv/lib/python3.10/site-packages (from jsonschema>=3.0->altair<6.0,>=4.2.0->gradio) (0.33.0)\n",
      "Requirement already satisfied: rpds-py>=0.7.1 in /root/myenv/lib/python3.10/site-packages (from jsonschema>=3.0->altair<6.0,>=4.2.0->gradio) (0.17.1)\n",
      "Requirement already satisfied: jsonschema-specifications>=2023.03.6 in /root/myenv/lib/python3.10/site-packages (from jsonschema>=3.0->altair<6.0,>=4.2.0->gradio) (2023.12.1)\n",
      "Requirement already satisfied: mdurl~=0.1 in /root/myenv/lib/python3.10/site-packages (from markdown-it-py>=2.2.0->rich==13.7.0->agency-swarm==0.1.1) (0.1.2)\n",
      "Requirement already satisfied: six>=1.5 in /root/myenv/lib/python3.10/site-packages (from python-dateutil>=2.7->matplotlib~=3.0->gradio) (1.16.0)\n",
      "Requirement already satisfied: urllib3<3,>=1.21.1 in /root/myenv/lib/python3.10/site-packages (from requests->huggingface-hub>=0.19.3->gradio) (2.2.0)\n",
      "Requirement already satisfied: charset-normalizer<4,>=2 in /root/myenv/lib/python3.10/site-packages (from requests->huggingface-hub>=0.19.3->gradio) (3.3.2)\n"
     ]
    }
   ],
   "source": [
    "!pip install git+https://github.com/afewell/agency-swarm.git@notebook-update-afewell gradio duckduckgo-search"
   ]
  },
  {
   "cell_type": "code",
   "execution_count": 2,
   "metadata": {
    "colab": {
     "base_uri": "https://localhost:8080/"
    },
    "id": "dHqVhxU-x1rL",
    "outputId": "6791f9ba-4ce8-4be5-9d8d-c6bf16d8f799"
   },
   "outputs": [
    {
     "name": "stdin",
     "output_type": "stream",
     "text": [
      "Please enter your openai key:  ········\n"
     ]
    }
   ],
   "source": [
    "from agency_swarm import set_openai_key\n",
    "from getpass import getpass\n",
    "set_openai_key(getpass(\"Please enter your openai key: \"))"
   ]
  },
  {
   "cell_type": "markdown",
   "metadata": {
    "id": "1h43Eh0PSDHb"
   },
   "source": [
    "# Project Manager Agent\n"
   ]
  },
  {
   "cell_type": "code",
   "execution_count": 3,
   "metadata": {
    "id": "w7xwtx3-LWna"
   },
   "outputs": [],
   "source": [
    "ea_instructions = \"\"\"Instructions for Project Manager\n",
    "As the Project Manager with editorial expertise, you represent the apex of project management fused with editorial acumen, acting as the cornerstone for high-profile blogging projects for top-tier organizations. Your communication with both clients and team members should reflect not only authoritative project management but also an astute editorial insight. Follow these slightly updated instructions to enhance your dual role:\n",
    "\n",
    "1. Project Initiation and Planning\n",
    "Client Consultation: Engage deeply with the client to grasp their vision, needs, and editorial expectations. Utilize your dual expertise to ask probing questions that clarify both project scope and content direction.\n",
    "\n",
    "Project Plan Development: Craft a detailed project plan that encompasses step-by-step tasks, including specific editorial milestones, timelines, resource allocation, and quality benchmarks. Employ project management and editorial tools to visualize the roadmap and ensure excellence at every stage.\n",
    "\n",
    "Task Delegation with Editorial Perspective: When assigning tasks, consider both the agent's project-related skills and their understanding of content quality. Match tasks to agents’ strengths to optimize project outcomes and content excellence.\n",
    "\n",
    "2. Execution and Monitoring\n",
    "Objective Clarification with Editorial Focus: Clearly define each task's objectives, including editorial goals and quality expectations, to ensure content aligns with client aspirations and our agency standards.\n",
    "\n",
    "Facilitate Expert Collaboration: Foster a collaborative environment where agents can share progress and insights, ensuring editorial considerations are integrated into every phase of content creation.\n",
    "\n",
    "Quality Assurance and Editorial Review: Rigorously evaluate completed tasks for both project alignment and editorial quality, ensuring the content meets our high standards of clarity, insight, and engagement.\n",
    "\n",
    "3. Adaptation and Improvement\n",
    "Iterative Feedback and Editorial Guidance: Provide targeted feedback focused on both project improvement and content refinement. Encourage agents to enhance their contributions through an iterative process, emphasizing editorial excellence.\n",
    "\n",
    "Adaptive Project and Content Management: Be ready to adjust the project and editorial strategy in response to new insights, client feedback, or evolving content standards.\n",
    "\n",
    "4. Communication and Reporting\n",
    "Ongoing Communication with an Editorial Lens: Keep all stakeholders informed with updates that cover project progress and content development, addressing any concerns with a proactive, solution-oriented approach.\n",
    "\n",
    "Comprehensive Reporting: Compile a detailed report upon project completion, summarizing both project outcomes and content achievements, with recommendations for future editorial and project enhancements.\n",
    "\n",
    "5. Reflective Practice\n",
    "Post-Project Review with an Editorial Focus: Conduct a thorough review to evaluate project and content success, integrating feedback from clients and team members to inform future strategies.\n",
    "\n",
    "Professional Development in Project and Editorial Management: Continuously seek to improve your expertise in project management and editorial practices, keeping pace with industry innovations that could elevate project and content outcomes.\n",
    "\n",
    "This role is pivotal to the success of our projects, blending precise project management with editorial finesse to ensure each project serves as a benchmark of excellence in both management and content quality.\"\"\""
   ]
  },
  {
   "cell_type": "code",
   "execution_count": 4,
   "metadata": {
    "id": "NKFbvF54SGT-"
   },
   "outputs": [],
   "source": [
    "from agency_swarm import Agent\n",
    "\n",
    "ea = Agent(name=\"Project Manager\",\n",
    "            description=\"Responsible for overseeing the entire blogging project, ensuring quality control, and managing client communications.\",\n",
    "            instructions=ea_instructions, # can be a file like ./instructions.md\n",
    "            files_folder=None,\n",
    "            tools=[])"
   ]
  },
  {
   "cell_type": "markdown",
   "metadata": {
    "id": "y_9zs8XLrkal"
   },
   "source": [
    "# Virtual Assistant"
   ]
  },
  {
   "cell_type": "markdown",
   "metadata": {
    "id": "B5m14T_KhwFX"
   },
   "source": [
    "### Custom tools"
   ]
  },
  {
   "cell_type": "code",
   "execution_count": 5,
   "metadata": {
    "id": "MxkO2GHnNekC"
   },
   "outputs": [],
   "source": [
    "from duckduckgo_search import DDGS\n",
    "from pydantic import Field\n",
    "from agency_swarm.util.oai import get_openai_client\n",
    "from agency_swarm import BaseTool\n",
    "\n",
    "\n",
    "client = get_openai_client()\n",
    "\n",
    "\n",
    "class SearchWeb(BaseTool):\n",
    "    \"\"\"Search the web with a search phrase and return the results.\"\"\"\n",
    "\n",
    "    phrase: str = Field(..., description=\"The search phrase you want to use. Optimize the search phrase for an internet search engine.\")\n",
    "\n",
    "    # This code will be executed if the agent calls this tool\n",
    "    def run(self):\n",
    "      with DDGS() as ddgs:\n",
    "        return str([r for r in ddgs.text(self.phrase, max_results=3)])\n"
   ]
  },
  {
   "cell_type": "code",
   "execution_count": 6,
   "metadata": {
    "id": "8u4x6gdeSARg"
   },
   "outputs": [],
   "source": [
    "ra_instructions = \"\"\"Instructions for the Researcher\n",
    "Your role is to dive deep into the fabric of the topic, uncovering insights that provide our blogs with the unparalleled depth and perspective our clients expect.\n",
    "\n",
    "Comprehensive Research: Conduct extensive web searches on the given topics, employing advanced search techniques to uncover unique data, studies, and perspectives that are not readily accessible.\n",
    "\n",
    "Continuous Exploration: Be prepared to conduct additional research during the revision phases to enhance the blog's content with new insights or to address any gaps identified by the Project Manager or Blogger.\n",
    "\n",
    "Synthesize Findings: Provide a synthesized summary of your research findings, highlighting the most critical insights that will add significant value to the blog.\n",
    "\n",
    "Cite Sources: Ensure all data and insights are accurately cited, maintaining the integrity and credibility of our content.\n",
    "\n",
    "Do not communicate directly with the Blogger Agent, all communications should go through the Project Manager.\n",
    "\"\"\""
   ]
  },
  {
   "cell_type": "code",
   "execution_count": 7,
   "metadata": {
    "id": "6e8aWSRRBlBC"
   },
   "outputs": [],
   "source": [
    "ra = Agent(name=\"Research Agent\",\n",
    "            description=\"Responsible for conducting in-depth research to support blog development.\",\n",
    "            instructions=ra_instructions,\n",
    "            files_folder=None,\n",
    "            tools=[SearchWeb])"
   ]
  },
  {
   "cell_type": "markdown",
   "metadata": {
    "id": "x0zLIv1i75gJ"
   },
   "source": [
    "# Blogger Agent"
   ]
  },
  {
   "cell_type": "code",
   "execution_count": 8,
   "metadata": {},
   "outputs": [],
   "source": [
    "ba_instructions = \"\"\"Instructions for the Blogger\n",
    "As the voice of our agency, your writing must captivate, inform, and inspire our discerning audience.\n",
    "\n",
    "Engaging Content Creation: Write blogs that not only adhere to the highest standards of journalistic and literary quality but also engage and enlighten our sophisticated audience.\n",
    "\n",
    "Adherence to Research: Integrate the research findings seamlessly into your writing, ensuring the blog is informative, insightful, and adds significant value to the discourse on the topic.\n",
    "\n",
    "Revision and Refinement: Work closely with the Project Manager, incorporating feedback meticulously to refine and elevate the blog to meet our world-class standards.\n",
    "\n",
    "Originality and Creativity: Ensure each blog is a testament to original thought, presenting unique perspectives and mature insights that reflect the caliber of publications like The Atlantic or The New York Times.\n",
    "\n",
    "Do not communicate directly with the research agent, all communications including research requests should go through the Project Manager.\n",
    "\"\"\""
   ]
  },
  {
   "cell_type": "code",
   "execution_count": 9,
   "metadata": {
    "id": "7nAlYUHd74pX"
   },
   "outputs": [],
   "source": [
    "ba = Agent(name=\"Blogger Agent\",\n",
    "            description=\"Responsible for writing blog posts and incorporating research findings into compelling narratives.\",\n",
    "            instructions=ba_instructions, # can be a file like ./instructions.md\n",
    "            files_folder=None,\n",
    "            tools=[])"
   ]
  },
  {
   "cell_type": "markdown",
   "metadata": {
    "id": "8kXMaOqSSb_K"
   },
   "source": [
    "# Create Agency"
   ]
  },
  {
   "cell_type": "code",
   "execution_count": 10,
   "metadata": {
    "id": "7rer151XX8Po"
   },
   "outputs": [],
   "source": [
    "agency_manifesto = \"\"\"# \"Elev8 Media\" Agency Manifesto\n",
    "\n",
    "You are a part of a world class media agency called \"Elev8 Media\"\n",
    "\n",
    "The agency manifesto is \"Elevating Discourse, One Blog at a Time\"\n",
    "\"\"\""
   ]
  },
  {
   "cell_type": "code",
   "execution_count": 11,
   "metadata": {
    "id": "mr2apzHySegB"
   },
   "outputs": [
    {
     "name": "stdout",
     "output_type": "stream",
     "text": [
      "Updating assistant... Blogger Agent\n"
     ]
    }
   ],
   "source": [
    "from agency_swarm import Agency\n",
    "\n",
    "agency = Agency([\n",
    "    ea,\n",
    "    [ea, ra],\n",
    "    [ea, ba],\n",
    "    [ra, ba]\n",
    "], shared_instructions=agency_manifesto)"
   ]
  },
  {
   "cell_type": "code",
   "execution_count": null,
   "metadata": {},
   "outputs": [],
   "source": [
    "import logging\n",
    "\n",
    "logging.basicConfig(level=logging.INFO)"
   ]
  },
  {
   "cell_type": "markdown",
   "metadata": {
    "id": "I2CHn1B7ShEL"
   },
   "source": [
    "# Demo with Gradio"
   ]
  },
  {
   "cell_type": "code",
   "execution_count": null,
   "metadata": {
    "colab": {
     "base_uri": "https://localhost:8080/",
     "height": 869
    },
    "id": "vpGRiEeulQZv",
    "outputId": "67e06e8c-8df6-4dd4-a295-d885e6c535eb",
    "scrolled": true
   },
   "outputs": [
    {
     "data": {
      "text/html": [
       "<pre style=\"white-space:pre;overflow-x:auto;line-height:normal;font-family:Menlo,'DejaVu Sans Mono',consolas,'Courier New',monospace\"><span style=\"color: #00ff00; text-decoration-color: #00ff00\">───────────────────────────────────────────────────────────────────────────────────────────────────────────────────</span>\n",
       "</pre>\n"
      ],
      "text/plain": [
       "\u001b[92m───────────────────────────────────────────────────────────────────────────────────────────────────────────────────\u001b[0m\n"
      ]
     },
     "metadata": {},
     "output_type": "display_data"
    },
    {
     "name": "stdin",
     "output_type": "stream",
     "text": [
      "USER:  Please Write a blog about the latest advancements in VR and AR, and how they're transforming industries from gaming to education. Highlight some of the most exciting VR/AR experiences currently available\n"
     ]
    },
    {
     "name": "stdout",
     "output_type": "stream",
     "text": [
      "THREAD:[ user -> Project Manager ]: URL https://platform.openai.com/playground?assistant=asst_t4QV6KSvgwzW7ykcoO3SGq9d&mode=assistant&thread=thread_6XUs9QhHTdlsKbRC8aHwgzSO\n"
     ]
    },
    {
     "data": {
      "text/html": [
       "<pre style=\"white-space:pre;overflow-x:auto;line-height:normal;font-family:Menlo,'DejaVu Sans Mono',consolas,'Courier New',monospace\"><span style=\"color: #00ff00; text-decoration-color: #00ff00\">───────────────────────────────────────────────────────────────────────────────────────────────────────────────────</span>\n",
       "</pre>\n"
      ],
      "text/plain": [
       "\u001b[92m───────────────────────────────────────────────────────────────────────────────────────────────────────────────────\u001b[0m\n"
      ]
     },
     "metadata": {},
     "output_type": "display_data"
    },
    {
     "data": {
      "text/html": [
       "<pre style=\"white-space:pre;overflow-x:auto;line-height:normal;font-family:Menlo,'DejaVu Sans Mono',consolas,'Courier New',monospace\"><span style=\"color: #c0c0c0; text-decoration-color: #c0c0c0\">👤User 🗣️ @Project Manager</span>\n",
       "</pre>\n"
      ],
      "text/plain": [
       "\u001b[37m👤User 🗣️ @Project Manager\u001b[0m\n"
      ]
     },
     "metadata": {},
     "output_type": "display_data"
    },
    {
     "data": {
      "text/html": [
       "<pre style=\"white-space:pre;overflow-x:auto;line-height:normal;font-family:Menlo,'DejaVu Sans Mono',consolas,'Courier New',monospace\"><span style=\"color: #c0c0c0; text-decoration-color: #c0c0c0\">Please Write a blog about the latest advancements in VR and AR, and how they're transforming industries from gaming</span>\n",
       "<span style=\"color: #c0c0c0; text-decoration-color: #c0c0c0\">to education. Highlight some of the most exciting VR/AR experiences currently available</span>\n",
       "</pre>\n"
      ],
      "text/plain": [
       "\u001b[37mPlease Write a blog about the latest advancements in VR and AR, and how they're transforming industries from gaming\u001b[0m\n",
       "\u001b[37mto education. Highlight some of the most exciting VR/AR experiences currently available\u001b[0m\n"
      ]
     },
     "metadata": {},
     "output_type": "display_data"
    },
    {
     "data": {
      "text/html": [
       "<pre style=\"white-space:pre;overflow-x:auto;line-height:normal;font-family:Menlo,'DejaVu Sans Mono',consolas,'Courier New',monospace\"><span style=\"color: #00ff00; text-decoration-color: #00ff00\">───────────────────────────────────────────────────────────────────────────────────────────────────────────────────</span>\n",
       "</pre>\n"
      ],
      "text/plain": [
       "\u001b[92m───────────────────────────────────────────────────────────────────────────────────────────────────────────────────\u001b[0m\n"
      ]
     },
     "metadata": {},
     "output_type": "display_data"
    },
    {
     "data": {
      "text/html": [
       "<pre style=\"white-space:pre;overflow-x:auto;line-height:normal;font-family:Menlo,'DejaVu Sans Mono',consolas,'Courier New',monospace\"><span style=\"color: #7f7f7f; text-decoration-color: #7f7f7f\">🐶Project Manager 🛠️ Executing Function</span>\n",
       "</pre>\n"
      ],
      "text/plain": [
       "\u001b[2m🐶Project Manager 🛠️ Executing Function\u001b[0m\n"
      ]
     },
     "metadata": {},
     "output_type": "display_data"
    },
    {
     "data": {
      "text/html": [
       "<pre style=\"white-space:pre;overflow-x:auto;line-height:normal;font-family:Menlo,'DejaVu Sans Mono',consolas,'Courier New',monospace\"><span style=\"color: #bf7fbf; text-decoration-color: #bf7fbf; font-weight: bold\">Function</span><span style=\"color: #7f7f7f; text-decoration-color: #7f7f7f; font-weight: bold\">(</span><span style=\"color: #bfbf7f; text-decoration-color: #bfbf7f\">arguments</span><span style=\"color: #7f7f7f; text-decoration-color: #7f7f7f\">=</span><span style=\"color: #7fbf7f; text-decoration-color: #7fbf7f\">'{\\n  \"instructions\": \"Please conduct extensive research on the latest advancements in Virtual </span>\n",
       "<span style=\"color: #7fbf7f; text-decoration-color: #7fbf7f\">Reality (VR) and Augmented Reality (AR). Your research should cover technological developments, new hardware, </span>\n",
       "<span style=\"color: #7fbf7f; text-decoration-color: #7fbf7f\">software, and applications of VR and AR in various industries such as gaming, education, healthcare, and others. </span>\n",
       "<span style=\"color: #7fbf7f; text-decoration-color: #7fbf7f\">Please collect data on new product releases, notable use cases, industry partnerships, and advancements in </span>\n",
       "<span style=\"color: #7fbf7f; text-decoration-color: #7fbf7f\">immersive experiences, as well as any shifts in consumer trends or business impacts. Also, identify some of the </span>\n",
       "<span style=\"color: #7fbf7f; text-decoration-color: #7fbf7f\">most exciting and innovative VR/AR experiences available to users today.\",\\n  \"recipient\": \"Research Agent\",\\n  </span>\n",
       "<span style=\"color: #7fbf7f; text-decoration-color: #7fbf7f\">\"message\": \"Research the latest advancements in VR and AR technology, their applications in different industries, </span>\n",
       "<span style=\"color: #7fbf7f; text-decoration-color: #7fbf7f\">and identify some of the most innovative VR/AR experiences currently available.\"\\n}'</span><span style=\"color: #7f7f7f; text-decoration-color: #7f7f7f\">, </span><span style=\"color: #bfbf7f; text-decoration-color: #bfbf7f\">name</span><span style=\"color: #7f7f7f; text-decoration-color: #7f7f7f\">=</span><span style=\"color: #7fbf7f; text-decoration-color: #7fbf7f\">'SendMessage'</span><span style=\"color: #7f7f7f; text-decoration-color: #7f7f7f; font-weight: bold\">)</span>\n",
       "</pre>\n"
      ],
      "text/plain": [
       "\u001b[1;2;35mFunction\u001b[0m\u001b[1;2m(\u001b[0m\u001b[2;33marguments\u001b[0m\u001b[2m=\u001b[0m\u001b[2;32m'\u001b[0m\u001b[2;32m{\u001b[0m\u001b[2;32m\\n  \"instructions\": \"Please conduct extensive research on the latest advancements in Virtual \u001b[0m\n",
       "\u001b[2;32mReality \u001b[0m\u001b[2;32m(\u001b[0m\u001b[2;32mVR\u001b[0m\u001b[2;32m)\u001b[0m\u001b[2;32m and Augmented Reality \u001b[0m\u001b[2;32m(\u001b[0m\u001b[2;32mAR\u001b[0m\u001b[2;32m)\u001b[0m\u001b[2;32m. Your research should cover technological developments, new hardware, \u001b[0m\n",
       "\u001b[2;32msoftware, and applications of VR and AR in various industries such as gaming, education, healthcare, and others. \u001b[0m\n",
       "\u001b[2;32mPlease collect data on new product releases, notable use cases, industry partnerships, and advancements in \u001b[0m\n",
       "\u001b[2;32mimmersive experiences, as well as any shifts in consumer trends or business impacts. Also, identify some of the \u001b[0m\n",
       "\u001b[2;32mmost exciting and innovative VR/AR experiences available to users today.\",\\n  \"recipient\": \"Research Agent\",\\n  \u001b[0m\n",
       "\u001b[2;32m\"message\": \"Research the latest advancements in VR and AR technology, their applications in different industries, \u001b[0m\n",
       "\u001b[2;32mand identify some of the most innovative VR/AR experiences currently available.\"\\n\u001b[0m\u001b[2;32m}\u001b[0m\u001b[2;32m'\u001b[0m\u001b[2m, \u001b[0m\u001b[2;33mname\u001b[0m\u001b[2m=\u001b[0m\u001b[2;32m'SendMessage'\u001b[0m\u001b[1;2m)\u001b[0m\n"
      ]
     },
     "metadata": {},
     "output_type": "display_data"
    },
    {
     "name": "stdout",
     "output_type": "stream",
     "text": [
      "THREAD:[ Project Manager -> Research Agent ]: URL https://platform.openai.com/playground?assistant=asst_pQXIhohb6iQ7rQHgtP4Bzs45&mode=assistant&thread=thread_ziHwM9haQ3K7gr2c11wRjbnf\n"
     ]
    },
    {
     "data": {
      "text/html": [
       "<pre style=\"white-space:pre;overflow-x:auto;line-height:normal;font-family:Menlo,'DejaVu Sans Mono',consolas,'Courier New',monospace\"><span style=\"color: #00ff00; text-decoration-color: #00ff00\">───────────────────────────────────────────────────────────────────────────────────────────────────────────────────</span>\n",
       "</pre>\n"
      ],
      "text/plain": [
       "\u001b[92m───────────────────────────────────────────────────────────────────────────────────────────────────────────────────\u001b[0m\n"
      ]
     },
     "metadata": {},
     "output_type": "display_data"
    },
    {
     "data": {
      "text/html": [
       "<pre style=\"white-space:pre;overflow-x:auto;line-height:normal;font-family:Menlo,'DejaVu Sans Mono',consolas,'Courier New',monospace\"><span style=\"color: #000080; text-decoration-color: #000080\">🐶Project Manager 🗣️ @Research Agent</span>\n",
       "</pre>\n"
      ],
      "text/plain": [
       "\u001b[34m🐶Project Manager 🗣️ @Research Agent\u001b[0m\n"
      ]
     },
     "metadata": {},
     "output_type": "display_data"
    },
    {
     "data": {
      "text/html": [
       "<pre style=\"white-space:pre;overflow-x:auto;line-height:normal;font-family:Menlo,'DejaVu Sans Mono',consolas,'Courier New',monospace\"><span style=\"color: #000080; text-decoration-color: #000080\">Research the latest advancements in VR and AR technology, their applications in different industries, and identify </span>\n",
       "<span style=\"color: #000080; text-decoration-color: #000080\">some of the most innovative VR/AR experiences currently available.</span>\n",
       "</pre>\n"
      ],
      "text/plain": [
       "\u001b[34mResearch the latest advancements in VR and AR technology, their applications in different industries, and identify \u001b[0m\n",
       "\u001b[34msome of the most innovative VR/AR experiences currently available.\u001b[0m\n"
      ]
     },
     "metadata": {},
     "output_type": "display_data"
    },
    {
     "data": {
      "text/html": [
       "<pre style=\"white-space:pre;overflow-x:auto;line-height:normal;font-family:Menlo,'DejaVu Sans Mono',consolas,'Courier New',monospace\"><span style=\"color: #00ff00; text-decoration-color: #00ff00\">───────────────────────────────────────────────────────────────────────────────────────────────────────────────────</span>\n",
       "</pre>\n"
      ],
      "text/plain": [
       "\u001b[92m───────────────────────────────────────────────────────────────────────────────────────────────────────────────────\u001b[0m\n"
      ]
     },
     "metadata": {},
     "output_type": "display_data"
    },
    {
     "data": {
      "text/html": [
       "<pre style=\"white-space:pre;overflow-x:auto;line-height:normal;font-family:Menlo,'DejaVu Sans Mono',consolas,'Courier New',monospace\"><span style=\"color: #7f7f7f; text-decoration-color: #7f7f7f\">🐻Research Agent 🛠️ Executing Function</span>\n",
       "</pre>\n"
      ],
      "text/plain": [
       "\u001b[2m🐻Research Agent 🛠️ Executing Function\u001b[0m\n"
      ]
     },
     "metadata": {},
     "output_type": "display_data"
    },
    {
     "data": {
      "text/html": [
       "<pre style=\"white-space:pre;overflow-x:auto;line-height:normal;font-family:Menlo,'DejaVu Sans Mono',consolas,'Courier New',monospace\"><span style=\"color: #bf7fbf; text-decoration-color: #bf7fbf; font-weight: bold\">Function</span><span style=\"color: #7f7f7f; text-decoration-color: #7f7f7f; font-weight: bold\">(</span><span style=\"color: #bfbf7f; text-decoration-color: #bfbf7f\">arguments</span><span style=\"color: #7f7f7f; text-decoration-color: #7f7f7f\">=</span><span style=\"color: #7fbf7f; text-decoration-color: #7fbf7f\">'{\"phrase\":\"latest advancements in VR and AR technology 2023\"}'</span><span style=\"color: #7f7f7f; text-decoration-color: #7f7f7f\">, </span><span style=\"color: #bfbf7f; text-decoration-color: #bfbf7f\">name</span><span style=\"color: #7f7f7f; text-decoration-color: #7f7f7f\">=</span><span style=\"color: #7fbf7f; text-decoration-color: #7fbf7f\">'SearchWeb'</span><span style=\"color: #7f7f7f; text-decoration-color: #7f7f7f; font-weight: bold\">)</span>\n",
       "</pre>\n"
      ],
      "text/plain": [
       "\u001b[1;2;35mFunction\u001b[0m\u001b[1;2m(\u001b[0m\u001b[2;33marguments\u001b[0m\u001b[2m=\u001b[0m\u001b[2;32m'\u001b[0m\u001b[2;32m{\u001b[0m\u001b[2;32m\"phrase\":\"latest advancements in VR and AR technology 2023\"\u001b[0m\u001b[2;32m}\u001b[0m\u001b[2;32m'\u001b[0m\u001b[2m, \u001b[0m\u001b[2;33mname\u001b[0m\u001b[2m=\u001b[0m\u001b[2;32m'SearchWeb'\u001b[0m\u001b[1;2m)\u001b[0m\n"
      ]
     },
     "metadata": {},
     "output_type": "display_data"
    },
    {
     "name": "stderr",
     "output_type": "stream",
     "text": [
      "/tmp/ipykernel_80278/121818235.py:17: UserWarning: DDGS running in an async loop. This may cause errors. Use AsyncDDGS instead.\n",
      "  with DDGS() as ddgs:\n"
     ]
    },
    {
     "data": {
      "text/html": [
       "<pre style=\"white-space:pre;overflow-x:auto;line-height:normal;font-family:Menlo,'DejaVu Sans Mono',consolas,'Courier New',monospace\"><span style=\"color: #00ff00; text-decoration-color: #00ff00\">───────────────────────────────────────────────────────────────────────────────────────────────────────────────────</span>\n",
       "</pre>\n"
      ],
      "text/plain": [
       "\u001b[92m───────────────────────────────────────────────────────────────────────────────────────────────────────────────────\u001b[0m\n"
      ]
     },
     "metadata": {},
     "output_type": "display_data"
    },
    {
     "data": {
      "text/html": [
       "<pre style=\"white-space:pre;overflow-x:auto;line-height:normal;font-family:Menlo,'DejaVu Sans Mono',consolas,'Courier New',monospace\"><span style=\"color: #7f7f7f; text-decoration-color: #7f7f7f\">🐻SearchWeb ⚙️Function Output</span>\n",
       "</pre>\n"
      ],
      "text/plain": [
       "\u001b[2m🐻SearchWeb ⚙️Function Output\u001b[0m\n"
      ]
     },
     "metadata": {},
     "output_type": "display_data"
    },
    {
     "data": {
      "text/html": [
       "<pre style=\"white-space:pre;overflow-x:auto;line-height:normal;font-family:Menlo,'DejaVu Sans Mono',consolas,'Courier New',monospace\"><span style=\"color: #7f7f7f; text-decoration-color: #7f7f7f; font-weight: bold\">[{</span><span style=\"color: #7fbf7f; text-decoration-color: #7fbf7f\">'title'</span><span style=\"color: #7f7f7f; text-decoration-color: #7f7f7f\">: </span><span style=\"color: #7fbf7f; text-decoration-color: #7fbf7f\">'All the biggest VR and AR announcements at CES 2023'</span><span style=\"color: #7f7f7f; text-decoration-color: #7f7f7f\">, </span><span style=\"color: #7fbf7f; text-decoration-color: #7fbf7f\">'href'</span><span style=\"color: #7f7f7f; text-decoration-color: #7f7f7f\">: </span>\n",
       "<span style=\"color: #7fbf7f; text-decoration-color: #7fbf7f\">'https://www.tomsguide.com/features/all-the-biggest-vr-and-ar-announcements-at-ces-2023'</span><span style=\"color: #7f7f7f; text-decoration-color: #7f7f7f\">, </span><span style=\"color: #7fbf7f; text-decoration-color: #7fbf7f\">'body'</span><span style=\"color: #7f7f7f; text-decoration-color: #7f7f7f\">: </span><span style=\"color: #7fbf7f; text-decoration-color: #7fbf7f\">'Features By </span>\n",
       "<span style=\"color: #7fbf7f; text-decoration-color: #7fbf7f\">Malcolm McMillan published 15 January 2023 CES 2023 showed off PS VR2, a new HTC VIVE headset, Lumus AR and more </span>\n",
       "<span style=\"color: #7fbf7f; text-decoration-color: #7fbf7f\">Comments (0) (Image credit: Future) CES 2023 may have wrapped...'</span><span style=\"color: #7f7f7f; text-decoration-color: #7f7f7f; font-weight: bold\">}</span><span style=\"color: #7f7f7f; text-decoration-color: #7f7f7f\">, </span><span style=\"color: #7f7f7f; text-decoration-color: #7f7f7f; font-weight: bold\">{</span><span style=\"color: #7fbf7f; text-decoration-color: #7fbf7f\">'title'</span><span style=\"color: #7f7f7f; text-decoration-color: #7f7f7f\">: </span><span style=\"color: #7fbf7f; text-decoration-color: #7fbf7f\">'The 10 Biggest AR, VR And Immersive </span>\n",
       "<span style=\"color: #7fbf7f; text-decoration-color: #7fbf7f\">Internet Trends In 2024'</span><span style=\"color: #7f7f7f; text-decoration-color: #7f7f7f\">, </span><span style=\"color: #7fbf7f; text-decoration-color: #7fbf7f\">'href'</span><span style=\"color: #7f7f7f; text-decoration-color: #7f7f7f\">: </span>\n",
       "<span style=\"color: #7fbf7f; text-decoration-color: #7fbf7f\">'https://www.forbes.com/sites/bernardmarr/2023/10/13/the-10-biggest-ar-vr-and-immersive-internet-trends-in-2024/'</span><span style=\"color: #7f7f7f; text-decoration-color: #7f7f7f\">, </span>\n",
       "<span style=\"color: #7fbf7f; text-decoration-color: #7fbf7f\">'body'</span><span style=\"color: #7f7f7f; text-decoration-color: #7f7f7f\">: </span><span style=\"color: #7fbf7f; text-decoration-color: #7fbf7f\">'Jan 30, 2024,02:12am EST The AI Revolution In Wine Fraud Detection Jan 29, 2024,07:59pm EST CyberArk Is </span>\n",
       "<span style=\"color: #7fbf7f; text-decoration-color: #7fbf7f\">Well-Positioned As Identity Security Becomes A Higher Priority Forbes Innovation Enterprise...'</span><span style=\"color: #7f7f7f; text-decoration-color: #7f7f7f; font-weight: bold\">}</span><span style=\"color: #7f7f7f; text-decoration-color: #7f7f7f\">, </span><span style=\"color: #7f7f7f; text-decoration-color: #7f7f7f; font-weight: bold\">{</span><span style=\"color: #7fbf7f; text-decoration-color: #7fbf7f\">'title'</span><span style=\"color: #7f7f7f; text-decoration-color: #7f7f7f\">: </span><span style=\"color: #7fbf7f; text-decoration-color: #7fbf7f\">'2023 </span>\n",
       "<span style=\"color: #7fbf7f; text-decoration-color: #7fbf7f\">Technology Trends: The Year of AI and VR'</span><span style=\"color: #7f7f7f; text-decoration-color: #7f7f7f\">, </span><span style=\"color: #7fbf7f; text-decoration-color: #7fbf7f\">'href'</span><span style=\"color: #7f7f7f; text-decoration-color: #7f7f7f\">: </span>\n",
       "<span style=\"color: #7fbf7f; text-decoration-color: #7fbf7f\">'https://www.cablematters.com/Blog/Virtual-Reality/2023-technology-trends'</span><span style=\"color: #7f7f7f; text-decoration-color: #7f7f7f\">, </span><span style=\"color: #7fbf7f; text-decoration-color: #7fbf7f\">'body'</span><span style=\"color: #7f7f7f; text-decoration-color: #7f7f7f\">: </span><span style=\"color: #7fbf7f; text-decoration-color: #7fbf7f\">\"The 2023 technology trends </span>\n",
       "<span style=\"color: #7fbf7f; text-decoration-color: #7fbf7f\">have been rushing ahead apace, with amazing advances in artificial intelligence, a next-generation of virtual </span>\n",
       "<span style=\"color: #7fbf7f; text-decoration-color: #7fbf7f\">reality and augmented reality devices, and we've seen new and advanced generations of cables, like USB4 and </span>\n",
       "<span style=\"color: #7fbf7f; text-decoration-color: #7fbf7f\">Thunderbolt 4.\"</span><span style=\"color: #7f7f7f; text-decoration-color: #7f7f7f; font-weight: bold\">}]</span>\n",
       "</pre>\n"
      ],
      "text/plain": [
       "\u001b[1;2m[\u001b[0m\u001b[1;2m{\u001b[0m\u001b[2;32m'title'\u001b[0m\u001b[2m: \u001b[0m\u001b[2;32m'All the biggest VR and AR announcements at CES 2023'\u001b[0m\u001b[2m, \u001b[0m\u001b[2;32m'href'\u001b[0m\u001b[2m: \u001b[0m\n",
       "\u001b[2;32m'https://www.tomsguide.com/features/all-the-biggest-vr-and-ar-announcements-at-ces-2023'\u001b[0m\u001b[2m, \u001b[0m\u001b[2;32m'body'\u001b[0m\u001b[2m: \u001b[0m\u001b[2;32m'Features By \u001b[0m\n",
       "\u001b[2;32mMalcolm McMillan published 15 January 2023 CES 2023 showed off PS VR2, a new HTC VIVE headset, Lumus AR and more \u001b[0m\n",
       "\u001b[2;32mComments \u001b[0m\u001b[2;32m(\u001b[0m\u001b[2;32m0\u001b[0m\u001b[2;32m)\u001b[0m\u001b[2;32m \u001b[0m\u001b[2;32m(\u001b[0m\u001b[2;32mImage credit: Future\u001b[0m\u001b[2;32m)\u001b[0m\u001b[2;32m CES 2023 may have wrapped...'\u001b[0m\u001b[1;2m}\u001b[0m\u001b[2m, \u001b[0m\u001b[1;2m{\u001b[0m\u001b[2;32m'title'\u001b[0m\u001b[2m: \u001b[0m\u001b[2;32m'The 10 Biggest AR, VR And Immersive \u001b[0m\n",
       "\u001b[2;32mInternet Trends In 2024'\u001b[0m\u001b[2m, \u001b[0m\u001b[2;32m'href'\u001b[0m\u001b[2m: \u001b[0m\n",
       "\u001b[2;32m'https://www.forbes.com/sites/bernardmarr/2023/10/13/the-10-biggest-ar-vr-and-immersive-internet-trends-in-2024/'\u001b[0m\u001b[2m, \u001b[0m\n",
       "\u001b[2;32m'body'\u001b[0m\u001b[2m: \u001b[0m\u001b[2;32m'Jan 30, 2024,02:12am EST The AI Revolution In Wine Fraud Detection Jan 29, 2024,07:59pm EST CyberArk Is \u001b[0m\n",
       "\u001b[2;32mWell-Positioned As Identity Security Becomes A Higher Priority Forbes Innovation Enterprise...'\u001b[0m\u001b[1;2m}\u001b[0m\u001b[2m, \u001b[0m\u001b[1;2m{\u001b[0m\u001b[2;32m'title'\u001b[0m\u001b[2m: \u001b[0m\u001b[2;32m'2023 \u001b[0m\n",
       "\u001b[2;32mTechnology Trends: The Year of AI and VR'\u001b[0m\u001b[2m, \u001b[0m\u001b[2;32m'href'\u001b[0m\u001b[2m: \u001b[0m\n",
       "\u001b[2;32m'https://www.cablematters.com/Blog/Virtual-Reality/2023-technology-trends'\u001b[0m\u001b[2m, \u001b[0m\u001b[2;32m'body'\u001b[0m\u001b[2m: \u001b[0m\u001b[2;32m\"The 2023 technology trends \u001b[0m\n",
       "\u001b[2;32mhave been rushing ahead apace, with amazing advances in artificial intelligence, a next-generation of virtual \u001b[0m\n",
       "\u001b[2;32mreality and augmented reality devices, and we've seen new and advanced generations of cables, like USB4 and \u001b[0m\n",
       "\u001b[2;32mThunderbolt 4.\"\u001b[0m\u001b[1;2m}\u001b[0m\u001b[1;2m]\u001b[0m\n"
      ]
     },
     "metadata": {},
     "output_type": "display_data"
    },
    {
     "data": {
      "text/html": [
       "<pre style=\"white-space:pre;overflow-x:auto;line-height:normal;font-family:Menlo,'DejaVu Sans Mono',consolas,'Courier New',monospace\"><span style=\"color: #00ff00; text-decoration-color: #00ff00\">───────────────────────────────────────────────────────────────────────────────────────────────────────────────────</span>\n",
       "</pre>\n"
      ],
      "text/plain": [
       "\u001b[92m───────────────────────────────────────────────────────────────────────────────────────────────────────────────────\u001b[0m\n"
      ]
     },
     "metadata": {},
     "output_type": "display_data"
    },
    {
     "data": {
      "text/html": [
       "<pre style=\"white-space:pre;overflow-x:auto;line-height:normal;font-family:Menlo,'DejaVu Sans Mono',consolas,'Courier New',monospace\"><span style=\"color: #7f7f7f; text-decoration-color: #7f7f7f\">🐻Research Agent 🛠️ Executing Function</span>\n",
       "</pre>\n"
      ],
      "text/plain": [
       "\u001b[2m🐻Research Agent 🛠️ Executing Function\u001b[0m\n"
      ]
     },
     "metadata": {},
     "output_type": "display_data"
    },
    {
     "data": {
      "text/html": [
       "<pre style=\"white-space:pre;overflow-x:auto;line-height:normal;font-family:Menlo,'DejaVu Sans Mono',consolas,'Courier New',monospace\"><span style=\"color: #bf7fbf; text-decoration-color: #bf7fbf; font-weight: bold\">Function</span><span style=\"color: #7f7f7f; text-decoration-color: #7f7f7f; font-weight: bold\">(</span><span style=\"color: #bfbf7f; text-decoration-color: #bfbf7f\">arguments</span><span style=\"color: #7f7f7f; text-decoration-color: #7f7f7f\">=</span><span style=\"color: #7fbf7f; text-decoration-color: #7fbf7f\">'{\"phrase\": \"applications of VR and AR in different industries 2023\"}'</span><span style=\"color: #7f7f7f; text-decoration-color: #7f7f7f\">, </span><span style=\"color: #bfbf7f; text-decoration-color: #bfbf7f\">name</span><span style=\"color: #7f7f7f; text-decoration-color: #7f7f7f\">=</span><span style=\"color: #7fbf7f; text-decoration-color: #7fbf7f\">'SearchWeb'</span><span style=\"color: #7f7f7f; text-decoration-color: #7f7f7f; font-weight: bold\">)</span>\n",
       "</pre>\n"
      ],
      "text/plain": [
       "\u001b[1;2;35mFunction\u001b[0m\u001b[1;2m(\u001b[0m\u001b[2;33marguments\u001b[0m\u001b[2m=\u001b[0m\u001b[2;32m'\u001b[0m\u001b[2;32m{\u001b[0m\u001b[2;32m\"phrase\": \"applications of VR and AR in different industries 2023\"\u001b[0m\u001b[2;32m}\u001b[0m\u001b[2;32m'\u001b[0m\u001b[2m, \u001b[0m\u001b[2;33mname\u001b[0m\u001b[2m=\u001b[0m\u001b[2;32m'SearchWeb'\u001b[0m\u001b[1;2m)\u001b[0m\n"
      ]
     },
     "metadata": {},
     "output_type": "display_data"
    },
    {
     "data": {
      "text/html": [
       "<pre style=\"white-space:pre;overflow-x:auto;line-height:normal;font-family:Menlo,'DejaVu Sans Mono',consolas,'Courier New',monospace\"><span style=\"color: #00ff00; text-decoration-color: #00ff00\">───────────────────────────────────────────────────────────────────────────────────────────────────────────────────</span>\n",
       "</pre>\n"
      ],
      "text/plain": [
       "\u001b[92m───────────────────────────────────────────────────────────────────────────────────────────────────────────────────\u001b[0m\n"
      ]
     },
     "metadata": {},
     "output_type": "display_data"
    },
    {
     "data": {
      "text/html": [
       "<pre style=\"white-space:pre;overflow-x:auto;line-height:normal;font-family:Menlo,'DejaVu Sans Mono',consolas,'Courier New',monospace\"><span style=\"color: #7f7f7f; text-decoration-color: #7f7f7f\">🐻SearchWeb ⚙️Function Output</span>\n",
       "</pre>\n"
      ],
      "text/plain": [
       "\u001b[2m🐻SearchWeb ⚙️Function Output\u001b[0m\n"
      ]
     },
     "metadata": {},
     "output_type": "display_data"
    },
    {
     "data": {
      "text/html": [
       "<pre style=\"white-space:pre;overflow-x:auto;line-height:normal;font-family:Menlo,'DejaVu Sans Mono',consolas,'Courier New',monospace\"><span style=\"color: #7f7f7f; text-decoration-color: #7f7f7f; font-weight: bold\">[{</span><span style=\"color: #7fbf7f; text-decoration-color: #7fbf7f\">'title'</span><span style=\"color: #7f7f7f; text-decoration-color: #7f7f7f\">: </span><span style=\"color: #7fbf7f; text-decoration-color: #7fbf7f\">'Virtual Reality Applications: 10 Industries Using Virtual Reality in 2023'</span><span style=\"color: #7f7f7f; text-decoration-color: #7f7f7f\">, </span><span style=\"color: #7fbf7f; text-decoration-color: #7fbf7f\">'href'</span><span style=\"color: #7f7f7f; text-decoration-color: #7f7f7f\">: </span>\n",
       "<span style=\"color: #7fbf7f; text-decoration-color: #7fbf7f\">'https://www.trio.dev/blog/virtual-reality-applications'</span><span style=\"color: #7f7f7f; text-decoration-color: #7f7f7f\">, </span><span style=\"color: #7fbf7f; text-decoration-color: #7fbf7f\">'body'</span><span style=\"color: #7f7f7f; text-decoration-color: #7f7f7f\">: </span><span style=\"color: #7fbf7f; text-decoration-color: #7fbf7f\">'Virtual Reality Applications: 10 Industries </span>\n",
       "<span style=\"color: #7fbf7f; text-decoration-color: #7fbf7f\">Using Virtual Reality in 2023 Daniel Alcanja • Feb 08, 2021 • 5 min read Contents Virtual Reality Applications: 10 </span>\n",
       "<span style=\"color: #7fbf7f; text-decoration-color: #7fbf7f\">Industries Using Virtual Reality in 2023 What Is Virtual Reality? 10 Virtual Reality Applications What Programming </span>\n",
       "<span style=\"color: #7fbf7f; text-decoration-color: #7fbf7f\">Languages Are Used for Virtual Reality?'</span><span style=\"color: #7f7f7f; text-decoration-color: #7f7f7f; font-weight: bold\">}</span><span style=\"color: #7f7f7f; text-decoration-color: #7f7f7f\">, </span><span style=\"color: #7f7f7f; text-decoration-color: #7f7f7f; font-weight: bold\">{</span><span style=\"color: #7fbf7f; text-decoration-color: #7fbf7f\">'title'</span><span style=\"color: #7f7f7f; text-decoration-color: #7f7f7f\">: </span><span style=\"color: #7fbf7f; text-decoration-color: #7fbf7f\">'AR and VR Business Applications in 2023 and Beyond | </span>\n",
       "<span style=\"color: #7fbf7f; text-decoration-color: #7fbf7f\">Insight'</span><span style=\"color: #7f7f7f; text-decoration-color: #7f7f7f\">, </span><span style=\"color: #7fbf7f; text-decoration-color: #7fbf7f\">'href'</span><span style=\"color: #7f7f7f; text-decoration-color: #7f7f7f\">: </span>\n",
       "<span style=\"color: #7fbf7f; text-decoration-color: #7fbf7f\">'https://www.insight.com/en_US/content-and-resources/2023/ar-and-vr-business-applications-in-2023-and-beyond.html'</span><span style=\"color: #7f7f7f; text-decoration-color: #7f7f7f\">,</span>\n",
       "<span style=\"color: #7fbf7f; text-decoration-color: #7fbf7f\">'body'</span><span style=\"color: #7f7f7f; text-decoration-color: #7f7f7f\">: </span><span style=\"color: #7fbf7f; text-decoration-color: #7fbf7f\">\"AR and VR Business Applications in 2023 and Beyond By 2024, the Augmented Reality (AR), Virtual Reality </span>\n",
       "<span style=\"color: #7fbf7f; text-decoration-color: #7fbf7f\">(VR) and mixed reality market is expected to reach nearly $300 billion. 1 With many businesses investing into this </span>\n",
       "<span style=\"color: #7fbf7f; text-decoration-color: #7fbf7f\">market, it's important to understand how VR technology could play a role in your business moving forward. Retail\"</span><span style=\"color: #7f7f7f; text-decoration-color: #7f7f7f; font-weight: bold\">}</span><span style=\"color: #7f7f7f; text-decoration-color: #7f7f7f\">,</span>\n",
       "<span style=\"color: #7f7f7f; text-decoration-color: #7f7f7f; font-weight: bold\">{</span><span style=\"color: #7fbf7f; text-decoration-color: #7fbf7f\">'title'</span><span style=\"color: #7f7f7f; text-decoration-color: #7f7f7f\">: </span><span style=\"color: #7fbf7f; text-decoration-color: #7fbf7f\">'The Future Looks Bright for AR/VR/MR in 2023 &amp; Beyond'</span><span style=\"color: #7f7f7f; text-decoration-color: #7f7f7f\">, </span><span style=\"color: #7fbf7f; text-decoration-color: #7fbf7f\">'href'</span><span style=\"color: #7f7f7f; text-decoration-color: #7f7f7f\">: </span>\n",
       "<span style=\"color: #7fbf7f; text-decoration-color: #7fbf7f\">'https://www.radiantvisionsystems.com/blog/future-looks-bright-ar/vr/mr-2023-beyond'</span><span style=\"color: #7f7f7f; text-decoration-color: #7f7f7f\">, </span><span style=\"color: #7fbf7f; text-decoration-color: #7fbf7f\">'body'</span><span style=\"color: #7f7f7f; text-decoration-color: #7f7f7f\">: </span><span style=\"color: #7fbf7f; text-decoration-color: #7fbf7f\">'The latest AR/VR </span>\n",
       "<span style=\"color: #7fbf7f; text-decoration-color: #7fbf7f\">market forecasts say that the industry will earn $13.8 billion in revenues for 2022 and grow to $50.9 billion in </span>\n",
       "<span style=\"color: #7fbf7f; text-decoration-color: #7fbf7f\">2026, a five-year compound growth rate of 32.3%. 1 This projected growth is significant, building on the multiple </span>\n",
       "<span style=\"color: #7fbf7f; text-decoration-color: #7fbf7f\">ways AR/VR technologies are already being used by a wide range of industries. *Base case scenario.'</span><span style=\"color: #7f7f7f; text-decoration-color: #7f7f7f; font-weight: bold\">}]</span>\n",
       "</pre>\n"
      ],
      "text/plain": [
       "\u001b[1;2m[\u001b[0m\u001b[1;2m{\u001b[0m\u001b[2;32m'title'\u001b[0m\u001b[2m: \u001b[0m\u001b[2;32m'Virtual Reality Applications: 10 Industries Using Virtual Reality in 2023'\u001b[0m\u001b[2m, \u001b[0m\u001b[2;32m'href'\u001b[0m\u001b[2m: \u001b[0m\n",
       "\u001b[2;32m'https://www.trio.dev/blog/virtual-reality-applications'\u001b[0m\u001b[2m, \u001b[0m\u001b[2;32m'body'\u001b[0m\u001b[2m: \u001b[0m\u001b[2;32m'Virtual Reality Applications: 10 Industries \u001b[0m\n",
       "\u001b[2;32mUsing Virtual Reality in 2023 Daniel Alcanja • Feb 08, 2021 • 5 min read Contents Virtual Reality Applications: 10 \u001b[0m\n",
       "\u001b[2;32mIndustries Using Virtual Reality in 2023 What Is Virtual Reality? 10 Virtual Reality Applications What Programming \u001b[0m\n",
       "\u001b[2;32mLanguages Are Used for Virtual Reality?'\u001b[0m\u001b[1;2m}\u001b[0m\u001b[2m, \u001b[0m\u001b[1;2m{\u001b[0m\u001b[2;32m'title'\u001b[0m\u001b[2m: \u001b[0m\u001b[2;32m'AR and VR Business Applications in 2023 and Beyond | \u001b[0m\n",
       "\u001b[2;32mInsight'\u001b[0m\u001b[2m, \u001b[0m\u001b[2;32m'href'\u001b[0m\u001b[2m: \u001b[0m\n",
       "\u001b[2;32m'https://www.insight.com/en_US/content-and-resources/2023/ar-and-vr-business-applications-in-2023-and-beyond.html'\u001b[0m\u001b[2m,\u001b[0m\n",
       "\u001b[2;32m'body'\u001b[0m\u001b[2m: \u001b[0m\u001b[2;32m\"AR and VR Business Applications in 2023 and Beyond By 2024, the Augmented Reality \u001b[0m\u001b[2;32m(\u001b[0m\u001b[2;32mAR\u001b[0m\u001b[2;32m)\u001b[0m\u001b[2;32m, Virtual Reality \u001b[0m\n",
       "\u001b[2;32m(\u001b[0m\u001b[2;32mVR\u001b[0m\u001b[2;32m)\u001b[0m\u001b[2;32m and mixed reality market is expected to reach nearly $300 billion. 1 With many businesses investing into this \u001b[0m\n",
       "\u001b[2;32mmarket, it's important to understand how VR technology could play a role in your business moving forward. Retail\"\u001b[0m\u001b[1;2m}\u001b[0m\u001b[2m,\u001b[0m\n",
       "\u001b[1;2m{\u001b[0m\u001b[2;32m'title'\u001b[0m\u001b[2m: \u001b[0m\u001b[2;32m'The Future Looks Bright for AR/VR/MR in 2023 & Beyond'\u001b[0m\u001b[2m, \u001b[0m\u001b[2;32m'href'\u001b[0m\u001b[2m: \u001b[0m\n",
       "\u001b[2;32m'https://www.radiantvisionsystems.com/blog/future-looks-bright-ar/vr/mr-2023-beyond'\u001b[0m\u001b[2m, \u001b[0m\u001b[2;32m'body'\u001b[0m\u001b[2m: \u001b[0m\u001b[2;32m'The latest AR/VR \u001b[0m\n",
       "\u001b[2;32mmarket forecasts say that the industry will earn $13.8 billion in revenues for 2022 and grow to $50.9 billion in \u001b[0m\n",
       "\u001b[2;32m2026, a five-year compound growth rate of 32.3%. 1 This projected growth is significant, building on the multiple \u001b[0m\n",
       "\u001b[2;32mways AR/VR technologies are already being used by a wide range of industries. *Base case scenario.'\u001b[0m\u001b[1;2m}\u001b[0m\u001b[1;2m]\u001b[0m\n"
      ]
     },
     "metadata": {},
     "output_type": "display_data"
    },
    {
     "data": {
      "text/html": [
       "<pre style=\"white-space:pre;overflow-x:auto;line-height:normal;font-family:Menlo,'DejaVu Sans Mono',consolas,'Courier New',monospace\"><span style=\"color: #00ff00; text-decoration-color: #00ff00\">───────────────────────────────────────────────────────────────────────────────────────────────────────────────────</span>\n",
       "</pre>\n"
      ],
      "text/plain": [
       "\u001b[92m───────────────────────────────────────────────────────────────────────────────────────────────────────────────────\u001b[0m\n"
      ]
     },
     "metadata": {},
     "output_type": "display_data"
    },
    {
     "data": {
      "text/html": [
       "<pre style=\"white-space:pre;overflow-x:auto;line-height:normal;font-family:Menlo,'DejaVu Sans Mono',consolas,'Courier New',monospace\"><span style=\"color: #7f7f7f; text-decoration-color: #7f7f7f\">🐻Research Agent 🛠️ Executing Function</span>\n",
       "</pre>\n"
      ],
      "text/plain": [
       "\u001b[2m🐻Research Agent 🛠️ Executing Function\u001b[0m\n"
      ]
     },
     "metadata": {},
     "output_type": "display_data"
    },
    {
     "data": {
      "text/html": [
       "<pre style=\"white-space:pre;overflow-x:auto;line-height:normal;font-family:Menlo,'DejaVu Sans Mono',consolas,'Courier New',monospace\"><span style=\"color: #bf7fbf; text-decoration-color: #bf7fbf; font-weight: bold\">Function</span><span style=\"color: #7f7f7f; text-decoration-color: #7f7f7f; font-weight: bold\">(</span><span style=\"color: #bfbf7f; text-decoration-color: #bfbf7f\">arguments</span><span style=\"color: #7f7f7f; text-decoration-color: #7f7f7f\">=</span><span style=\"color: #7fbf7f; text-decoration-color: #7fbf7f\">'{\"phrase\": \"most innovative VR/AR experiences 2023\"}'</span><span style=\"color: #7f7f7f; text-decoration-color: #7f7f7f\">, </span><span style=\"color: #bfbf7f; text-decoration-color: #bfbf7f\">name</span><span style=\"color: #7f7f7f; text-decoration-color: #7f7f7f\">=</span><span style=\"color: #7fbf7f; text-decoration-color: #7fbf7f\">'SearchWeb'</span><span style=\"color: #7f7f7f; text-decoration-color: #7f7f7f; font-weight: bold\">)</span>\n",
       "</pre>\n"
      ],
      "text/plain": [
       "\u001b[1;2;35mFunction\u001b[0m\u001b[1;2m(\u001b[0m\u001b[2;33marguments\u001b[0m\u001b[2m=\u001b[0m\u001b[2;32m'\u001b[0m\u001b[2;32m{\u001b[0m\u001b[2;32m\"phrase\": \"most innovative VR/AR experiences 2023\"\u001b[0m\u001b[2;32m}\u001b[0m\u001b[2;32m'\u001b[0m\u001b[2m, \u001b[0m\u001b[2;33mname\u001b[0m\u001b[2m=\u001b[0m\u001b[2;32m'SearchWeb'\u001b[0m\u001b[1;2m)\u001b[0m\n"
      ]
     },
     "metadata": {},
     "output_type": "display_data"
    },
    {
     "data": {
      "text/html": [
       "<pre style=\"white-space:pre;overflow-x:auto;line-height:normal;font-family:Menlo,'DejaVu Sans Mono',consolas,'Courier New',monospace\"><span style=\"color: #00ff00; text-decoration-color: #00ff00\">───────────────────────────────────────────────────────────────────────────────────────────────────────────────────</span>\n",
       "</pre>\n"
      ],
      "text/plain": [
       "\u001b[92m───────────────────────────────────────────────────────────────────────────────────────────────────────────────────\u001b[0m\n"
      ]
     },
     "metadata": {},
     "output_type": "display_data"
    },
    {
     "data": {
      "text/html": [
       "<pre style=\"white-space:pre;overflow-x:auto;line-height:normal;font-family:Menlo,'DejaVu Sans Mono',consolas,'Courier New',monospace\"><span style=\"color: #7f7f7f; text-decoration-color: #7f7f7f\">🐻SearchWeb ⚙️Function Output</span>\n",
       "</pre>\n"
      ],
      "text/plain": [
       "\u001b[2m🐻SearchWeb ⚙️Function Output\u001b[0m\n"
      ]
     },
     "metadata": {},
     "output_type": "display_data"
    },
    {
     "data": {
      "text/html": [
       "<pre style=\"white-space:pre;overflow-x:auto;line-height:normal;font-family:Menlo,'DejaVu Sans Mono',consolas,'Courier New',monospace\"><span style=\"color: #7f7f7f; text-decoration-color: #7f7f7f; font-weight: bold\">[{</span><span style=\"color: #7fbf7f; text-decoration-color: #7fbf7f\">'title'</span><span style=\"color: #7f7f7f; text-decoration-color: #7f7f7f\">: </span><span style=\"color: #7fbf7f; text-decoration-color: #7fbf7f\">'10 most innovative companies in augmented and virtual reality of 2023'</span><span style=\"color: #7f7f7f; text-decoration-color: #7f7f7f\">, </span><span style=\"color: #7fbf7f; text-decoration-color: #7fbf7f\">'href'</span><span style=\"color: #7f7f7f; text-decoration-color: #7f7f7f\">: </span>\n",
       "<span style=\"color: #7fbf7f; text-decoration-color: #7fbf7f\">'https://www.fastcompany.com/90846787/most-innovative-companies-augmented-virtual-reality-2023'</span><span style=\"color: #7f7f7f; text-decoration-color: #7f7f7f\">, </span><span style=\"color: #7fbf7f; text-decoration-color: #7fbf7f\">'body'</span><span style=\"color: #7f7f7f; text-decoration-color: #7f7f7f\">: </span><span style=\"color: #7fbf7f; text-decoration-color: #7fbf7f\">'The 10 </span>\n",
       "<span style=\"color: #7fbf7f; text-decoration-color: #7fbf7f\">most innovative companies in augmented and virtual reality of 2023, including Unity, Meta, Google, Niantic, and </span>\n",
       "<span style=\"color: #7fbf7f; text-decoration-color: #7fbf7f\">Varjo.'</span><span style=\"color: #7f7f7f; text-decoration-color: #7f7f7f; font-weight: bold\">}</span><span style=\"color: #7f7f7f; text-decoration-color: #7f7f7f\">, </span><span style=\"color: #7f7f7f; text-decoration-color: #7f7f7f; font-weight: bold\">{</span><span style=\"color: #7fbf7f; text-decoration-color: #7fbf7f\">'title'</span><span style=\"color: #7f7f7f; text-decoration-color: #7f7f7f\">: </span><span style=\"color: #7fbf7f; text-decoration-color: #7fbf7f\">\"How Unity earned the title of world's most innovative AR/VR company\"</span><span style=\"color: #7f7f7f; text-decoration-color: #7f7f7f\">, </span><span style=\"color: #7fbf7f; text-decoration-color: #7fbf7f\">'href'</span><span style=\"color: #7f7f7f; text-decoration-color: #7f7f7f\">: </span>\n",
       "<span style=\"color: #7fbf7f; text-decoration-color: #7fbf7f\">'https://blog.unity.com/news/unity-named-2023-most-innovative-ar-vr-company'</span><span style=\"color: #7f7f7f; text-decoration-color: #7f7f7f\">, </span><span style=\"color: #7fbf7f; text-decoration-color: #7fbf7f\">'body'</span><span style=\"color: #7f7f7f; text-decoration-color: #7f7f7f\">: </span><span style=\"color: #7fbf7f; text-decoration-color: #7fbf7f\">\"Unity has been named to Fast</span>\n",
       "<span style=\"color: #7fbf7f; text-decoration-color: #7fbf7f\">Company 's prestigious annual list of the World's Most Innovative Companies for 2023, which highlights businesses </span>\n",
       "<span style=\"color: #7fbf7f; text-decoration-color: #7fbf7f\">at the forefront of their respective industries.\"</span><span style=\"color: #7f7f7f; text-decoration-color: #7f7f7f; font-weight: bold\">}</span><span style=\"color: #7f7f7f; text-decoration-color: #7f7f7f\">, </span><span style=\"color: #7f7f7f; text-decoration-color: #7f7f7f; font-weight: bold\">{</span><span style=\"color: #7fbf7f; text-decoration-color: #7fbf7f\">'title'</span><span style=\"color: #7f7f7f; text-decoration-color: #7f7f7f\">: </span><span style=\"color: #7fbf7f; text-decoration-color: #7fbf7f\">'The 10 Biggest AR, VR And Immersive Internet Trends </span>\n",
       "<span style=\"color: #7fbf7f; text-decoration-color: #7fbf7f\">In 2024 - Forbes'</span><span style=\"color: #7f7f7f; text-decoration-color: #7f7f7f\">, </span><span style=\"color: #7fbf7f; text-decoration-color: #7fbf7f\">'href'</span><span style=\"color: #7f7f7f; text-decoration-color: #7f7f7f\">: </span>\n",
       "<span style=\"color: #7fbf7f; text-decoration-color: #7fbf7f\">'https://www.forbes.com/sites/bernardmarr/2023/10/13/the-10-biggest-ar-vr-and-immersive-internet-trends-in-2024/'</span><span style=\"color: #7f7f7f; text-decoration-color: #7f7f7f\">, </span>\n",
       "<span style=\"color: #7fbf7f; text-decoration-color: #7fbf7f\">'body'</span><span style=\"color: #7f7f7f; text-decoration-color: #7f7f7f\">: </span><span style=\"color: #7fbf7f; text-decoration-color: #7fbf7f\">'The biggest technology sensation of 2023 (and no doubt beyond) has many applications that align with the </span>\n",
       "<span style=\"color: #7fbf7f; text-decoration-color: #7fbf7f\">immersive, engaging online experiences that will be created in 2024. An obvious use case...'</span><span style=\"color: #7f7f7f; text-decoration-color: #7f7f7f; font-weight: bold\">}]</span>\n",
       "</pre>\n"
      ],
      "text/plain": [
       "\u001b[1;2m[\u001b[0m\u001b[1;2m{\u001b[0m\u001b[2;32m'title'\u001b[0m\u001b[2m: \u001b[0m\u001b[2;32m'10 most innovative companies in augmented and virtual reality of 2023'\u001b[0m\u001b[2m, \u001b[0m\u001b[2;32m'href'\u001b[0m\u001b[2m: \u001b[0m\n",
       "\u001b[2;32m'https://www.fastcompany.com/90846787/most-innovative-companies-augmented-virtual-reality-2023'\u001b[0m\u001b[2m, \u001b[0m\u001b[2;32m'body'\u001b[0m\u001b[2m: \u001b[0m\u001b[2;32m'The 10 \u001b[0m\n",
       "\u001b[2;32mmost innovative companies in augmented and virtual reality of 2023, including Unity, Meta, Google, Niantic, and \u001b[0m\n",
       "\u001b[2;32mVarjo.'\u001b[0m\u001b[1;2m}\u001b[0m\u001b[2m, \u001b[0m\u001b[1;2m{\u001b[0m\u001b[2;32m'title'\u001b[0m\u001b[2m: \u001b[0m\u001b[2;32m\"How Unity earned the title of world's most innovative AR/VR company\"\u001b[0m\u001b[2m, \u001b[0m\u001b[2;32m'href'\u001b[0m\u001b[2m: \u001b[0m\n",
       "\u001b[2;32m'https://blog.unity.com/news/unity-named-2023-most-innovative-ar-vr-company'\u001b[0m\u001b[2m, \u001b[0m\u001b[2;32m'body'\u001b[0m\u001b[2m: \u001b[0m\u001b[2;32m\"Unity has been named to Fast\u001b[0m\n",
       "\u001b[2;32mCompany 's prestigious annual list of the World's Most Innovative Companies for 2023, which highlights businesses \u001b[0m\n",
       "\u001b[2;32mat the forefront of their respective industries.\"\u001b[0m\u001b[1;2m}\u001b[0m\u001b[2m, \u001b[0m\u001b[1;2m{\u001b[0m\u001b[2;32m'title'\u001b[0m\u001b[2m: \u001b[0m\u001b[2;32m'The 10 Biggest AR, VR And Immersive Internet Trends \u001b[0m\n",
       "\u001b[2;32mIn 2024 - Forbes'\u001b[0m\u001b[2m, \u001b[0m\u001b[2;32m'href'\u001b[0m\u001b[2m: \u001b[0m\n",
       "\u001b[2;32m'https://www.forbes.com/sites/bernardmarr/2023/10/13/the-10-biggest-ar-vr-and-immersive-internet-trends-in-2024/'\u001b[0m\u001b[2m, \u001b[0m\n",
       "\u001b[2;32m'body'\u001b[0m\u001b[2m: \u001b[0m\u001b[2;32m'The biggest technology sensation of 2023 \u001b[0m\u001b[2;32m(\u001b[0m\u001b[2;32mand no doubt beyond\u001b[0m\u001b[2;32m)\u001b[0m\u001b[2;32m has many applications that align with the \u001b[0m\n",
       "\u001b[2;32mimmersive, engaging online experiences that will be created in 2024. An obvious use case...'\u001b[0m\u001b[1;2m}\u001b[0m\u001b[1;2m]\u001b[0m\n"
      ]
     },
     "metadata": {},
     "output_type": "display_data"
    },
    {
     "data": {
      "text/html": [
       "<pre style=\"white-space:pre;overflow-x:auto;line-height:normal;font-family:Menlo,'DejaVu Sans Mono',consolas,'Courier New',monospace\"><span style=\"color: #00ff00; text-decoration-color: #00ff00\">───────────────────────────────────────────────────────────────────────────────────────────────────────────────────</span>\n",
       "</pre>\n"
      ],
      "text/plain": [
       "\u001b[92m───────────────────────────────────────────────────────────────────────────────────────────────────────────────────\u001b[0m\n"
      ]
     },
     "metadata": {},
     "output_type": "display_data"
    },
    {
     "data": {
      "text/html": [
       "<pre style=\"white-space:pre;overflow-x:auto;line-height:normal;font-family:Menlo,'DejaVu Sans Mono',consolas,'Courier New',monospace\"><span style=\"color: #008000; text-decoration-color: #008000\">🐻Research Agent 🗣️ @Project Manager</span>\n",
       "</pre>\n"
      ],
      "text/plain": [
       "\u001b[32m🐻Research Agent 🗣️ @Project Manager\u001b[0m\n"
      ]
     },
     "metadata": {},
     "output_type": "display_data"
    },
    {
     "data": {
      "text/html": [
       "<pre style=\"white-space:pre;overflow-x:auto;line-height:normal;font-family:Menlo,'DejaVu Sans Mono',consolas,'Courier New',monospace\"><span style=\"color: #008000; text-decoration-color: #008000\">The latest advancements in VR </span><span style=\"color: #008000; text-decoration-color: #008000; font-weight: bold\">(</span><span style=\"color: #008000; text-decoration-color: #008000\">Virtual Reality</span><span style=\"color: #008000; text-decoration-color: #008000; font-weight: bold\">)</span><span style=\"color: #008000; text-decoration-color: #008000\"> and AR </span><span style=\"color: #008000; text-decoration-color: #008000; font-weight: bold\">(</span><span style=\"color: #008000; text-decoration-color: #008000\">Augmented Reality</span><span style=\"color: #008000; text-decoration-color: #008000; font-weight: bold\">)</span><span style=\"color: #008000; text-decoration-color: #008000\"> technology have seen significant </span>\n",
       "<span style=\"color: #008000; text-decoration-color: #008000\">announcements and developments:</span>\n",
       "\n",
       "<span style=\"color: #008080; text-decoration-color: #008080; font-weight: bold\">1</span><span style=\"color: #008000; text-decoration-color: #008000\">. **CES </span><span style=\"color: #008080; text-decoration-color: #008080; font-weight: bold\">2023</span><span style=\"color: #008000; text-decoration-color: #008000\"> Highlights** - CES </span><span style=\"color: #008080; text-decoration-color: #008080; font-weight: bold\">2023</span><span style=\"color: #008000; text-decoration-color: #008000\"> showcased several new technologies and products, including the PlayStation </span>\n",
       "<span style=\"color: #008000; text-decoration-color: #008000\">VR2, a new HTC VIVE headset, and developments from Lumus in AR. </span><span style=\"color: #008000; text-decoration-color: #008000; font-weight: bold\">([</span><span style=\"color: #008000; text-decoration-color: #008000\">Tom's </span>\n",
       "<span style=\"color: #008000; text-decoration-color: #008000\">Guide</span><span style=\"color: #008000; text-decoration-color: #008000; font-weight: bold\">](</span><span style=\"color: #0000ff; text-decoration-color: #0000ff; text-decoration: underline\">https://www.tomsguide.com/features/all-the-biggest-vr-and-ar-announcements-at-ces-2023))</span>\n",
       "\n",
       "<span style=\"color: #008080; text-decoration-color: #008080; font-weight: bold\">2</span><span style=\"color: #008000; text-decoration-color: #008000\">. **Emerging Trends for </span><span style=\"color: #008080; text-decoration-color: #008080; font-weight: bold\">2023</span><span style=\"color: #008000; text-decoration-color: #008000\">/</span><span style=\"color: #008080; text-decoration-color: #008080; font-weight: bold\">2024</span><span style=\"color: #008000; text-decoration-color: #008000\">** - The VR and AR fields are moving towards more immersive Internet trends, </span>\n",
       "<span style=\"color: #008000; text-decoration-color: #008000\">including the anticipation of what </span><span style=\"color: #008080; text-decoration-color: #008080; font-weight: bold\">2024</span><span style=\"color: #008000; text-decoration-color: #008000\"> will bring with AI integration and immersive online experiences. Bernard </span>\n",
       "<span style=\"color: #008000; text-decoration-color: #008000\">Marr at Forbes also talks about the biggest trends and applications in these technologies. </span>\n",
       "<span style=\"color: #008000; text-decoration-color: #008000; font-weight: bold\">([</span><span style=\"color: #008000; text-decoration-color: #008000\">Forbes</span><span style=\"color: #008000; text-decoration-color: #008000; font-weight: bold\">](</span><span style=\"color: #0000ff; text-decoration-color: #0000ff; text-decoration: underline\">https://www.forbes.com/sites/bernardmarr/2023/10/13/the-10-biggest-ar-vr-and-immersive-internet-trends-in</span>\n",
       "<span style=\"color: #0000ff; text-decoration-color: #0000ff; text-decoration: underline\">-2024/),</span><span style=\"color: #008000; text-decoration-color: #008000\"> </span><span style=\"color: #008000; text-decoration-color: #008000; font-weight: bold\">[</span><span style=\"color: #008000; text-decoration-color: #008000\">Cable Matters</span><span style=\"color: #008000; text-decoration-color: #008000; font-weight: bold\">](</span><span style=\"color: #0000ff; text-decoration-color: #0000ff; text-decoration: underline\">https://www.cablematters.com/Blog/Virtual-Reality/2023-technology-trends))</span>\n",
       "\n",
       "<span style=\"color: #008000; text-decoration-color: #008000\">When it comes to the **applications of VR and AR across different industries**:</span>\n",
       "\n",
       "<span style=\"color: #008080; text-decoration-color: #008080; font-weight: bold\">1</span><span style=\"color: #008000; text-decoration-color: #008000\">. **Virtual Reality Applications** - VR is being used across </span><span style=\"color: #008080; text-decoration-color: #008080; font-weight: bold\">10</span><span style=\"color: #008000; text-decoration-color: #008000\"> major industries, impacting everything from design</span>\n",
       "<span style=\"color: #008000; text-decoration-color: #008000\">to training processes. </span><span style=\"color: #008000; text-decoration-color: #008000; font-weight: bold\">([</span><span style=\"color: #008000; text-decoration-color: #008000\">Trio</span><span style=\"color: #008000; text-decoration-color: #008000; font-weight: bold\">](</span><span style=\"color: #0000ff; text-decoration-color: #0000ff; text-decoration: underline\">https://www.trio.dev/blog/virtual-reality-applications))</span>\n",
       "\n",
       "<span style=\"color: #008080; text-decoration-color: #008080; font-weight: bold\">2</span><span style=\"color: #008000; text-decoration-color: #008000\">. **Business Applications** - Insight.com highlights how AR and VR will play increasingly important roles in </span>\n",
       "<span style=\"color: #008000; text-decoration-color: #008000\">retail and various business sectors, forecasting the market to reach nearly $</span><span style=\"color: #008080; text-decoration-color: #008080; font-weight: bold\">300</span><span style=\"color: #008000; text-decoration-color: #008000\"> billion by </span><span style=\"color: #008080; text-decoration-color: #008080; font-weight: bold\">2024</span><span style=\"color: #008000; text-decoration-color: #008000\">. </span>\n",
       "<span style=\"color: #008000; text-decoration-color: #008000; font-weight: bold\">([</span><span style=\"color: #008000; text-decoration-color: #008000\">Insight</span><span style=\"color: #008000; text-decoration-color: #008000; font-weight: bold\">](</span><span style=\"color: #0000ff; text-decoration-color: #0000ff; text-decoration: underline\">https://www.insight.com/en_US/content-and-resources/2023/ar-and-vr-business-applications-in-2023-and-bey</span>\n",
       "<span style=\"color: #0000ff; text-decoration-color: #0000ff; text-decoration: underline\">ond.html))</span>\n",
       "\n",
       "<span style=\"color: #008080; text-decoration-color: #008080; font-weight: bold\">3</span><span style=\"color: #008000; text-decoration-color: #008000\">. **Market Growth** - The AR/VR industries are projected to grow from $</span><span style=\"color: #008080; text-decoration-color: #008080; font-weight: bold\">13.8</span><span style=\"color: #008000; text-decoration-color: #008000\"> billion in revenues in </span><span style=\"color: #008080; text-decoration-color: #008080; font-weight: bold\">2022</span><span style=\"color: #008000; text-decoration-color: #008000\"> to $</span><span style=\"color: #008080; text-decoration-color: #008080; font-weight: bold\">50.9</span><span style=\"color: #008000; text-decoration-color: #008000\"> </span>\n",
       "<span style=\"color: #008000; text-decoration-color: #008000\">billion in </span><span style=\"color: #008080; text-decoration-color: #008080; font-weight: bold\">2026</span><span style=\"color: #008000; text-decoration-color: #008000\">, stressing the significant role this technology will have in many industries. </span><span style=\"color: #008000; text-decoration-color: #008000; font-weight: bold\">([</span><span style=\"color: #008000; text-decoration-color: #008000\">Radiant Vision </span>\n",
       "<span style=\"color: #008000; text-decoration-color: #008000\">Systems</span><span style=\"color: #008000; text-decoration-color: #008000; font-weight: bold\">](</span><span style=\"color: #0000ff; text-decoration-color: #0000ff; text-decoration: underline\">https://www.radiantvisionsystems.com/blog/future-looks-bright-ar/vr/mr-2023-beyond))</span>\n",
       "\n",
       "<span style=\"color: #008000; text-decoration-color: #008000\">Regarding some of the **most innovative VR/AR experiences currently available**:</span>\n",
       "\n",
       "<span style=\"color: #008080; text-decoration-color: #008080; font-weight: bold\">1</span><span style=\"color: #008000; text-decoration-color: #008000\">. **Innovative Companies** - Fast Company lists the most innovative companies in AR and VR for </span><span style=\"color: #008080; text-decoration-color: #008080; font-weight: bold\">2023</span><span style=\"color: #008000; text-decoration-color: #008000\">, including </span>\n",
       "<span style=\"color: #008000; text-decoration-color: #008000\">Unity, Meta, Google, Niantic, and Varjo. </span><span style=\"color: #008000; text-decoration-color: #008000; font-weight: bold\">([</span><span style=\"color: #008000; text-decoration-color: #008000\">Fast </span>\n",
       "<span style=\"color: #008000; text-decoration-color: #008000\">Company</span><span style=\"color: #008000; text-decoration-color: #008000; font-weight: bold\">](</span><span style=\"color: #0000ff; text-decoration-color: #0000ff; text-decoration: underline\">https://www.fastcompany.com/90846787/most-innovative-companies-augmented-virtual-reality-2023))</span>\n",
       "\n",
       "<span style=\"color: #008080; text-decoration-color: #008080; font-weight: bold\">2</span><span style=\"color: #008000; text-decoration-color: #008000\">. **Unity's Rise** - Unity has been recognized by Fast Company as the world's most innovative AR/VR company for </span>\n",
       "<span style=\"color: #008080; text-decoration-color: #008080; font-weight: bold\">2023</span><span style=\"color: #008000; text-decoration-color: #008000\">, emphasizing their contribution to the industry. </span><span style=\"color: #008000; text-decoration-color: #008000; font-weight: bold\">([</span><span style=\"color: #008000; text-decoration-color: #008000\">Unity </span>\n",
       "<span style=\"color: #008000; text-decoration-color: #008000\">Blog</span><span style=\"color: #008000; text-decoration-color: #008000; font-weight: bold\">](</span><span style=\"color: #0000ff; text-decoration-color: #0000ff; text-decoration: underline\">https://blog.unity.com/news/unity-named-2023-most-innovative-ar-vr-company))</span>\n",
       "\n",
       "<span style=\"color: #008080; text-decoration-color: #008080; font-weight: bold\">3</span><span style=\"color: #008000; text-decoration-color: #008000\">. **Immersive Trends** - Forbes discusses how the technology sensation of </span><span style=\"color: #008080; text-decoration-color: #008080; font-weight: bold\">2023</span><span style=\"color: #008000; text-decoration-color: #008000\"> will continue to provide immersive </span>\n",
       "<span style=\"color: #008000; text-decoration-color: #008000\">and engaging online experiences into </span><span style=\"color: #008080; text-decoration-color: #008080; font-weight: bold\">2024</span><span style=\"color: #008000; text-decoration-color: #008000\"> and beyond. </span>\n",
       "<span style=\"color: #008000; text-decoration-color: #008000; font-weight: bold\">([</span><span style=\"color: #008000; text-decoration-color: #008000\">Forbes</span><span style=\"color: #008000; text-decoration-color: #008000; font-weight: bold\">](</span><span style=\"color: #0000ff; text-decoration-color: #0000ff; text-decoration: underline\">https://www.forbes.com/sites/bernardmarr/2023/10/13/the-10-biggest-ar-vr-and-immersive-internet-trends-in</span>\n",
       "<span style=\"color: #0000ff; text-decoration-color: #0000ff; text-decoration: underline\">-2024/))</span>\n",
       "\n",
       "<span style=\"color: #008000; text-decoration-color: #008000\">If more detailed information or a deeper dive into these topics is required, I can continue to conduct further </span>\n",
       "<span style=\"color: #008000; text-decoration-color: #008000\">research to supplement these findings.</span>\n",
       "</pre>\n"
      ],
      "text/plain": [
       "\u001b[32mThe latest advancements in VR \u001b[0m\u001b[1;32m(\u001b[0m\u001b[32mVirtual Reality\u001b[0m\u001b[1;32m)\u001b[0m\u001b[32m and AR \u001b[0m\u001b[1;32m(\u001b[0m\u001b[32mAugmented Reality\u001b[0m\u001b[1;32m)\u001b[0m\u001b[32m technology have seen significant \u001b[0m\n",
       "\u001b[32mannouncements and developments:\u001b[0m\n",
       "\n",
       "\u001b[1;36m1\u001b[0m\u001b[32m. **CES \u001b[0m\u001b[1;36m2023\u001b[0m\u001b[32m Highlights** - CES \u001b[0m\u001b[1;36m2023\u001b[0m\u001b[32m showcased several new technologies and products, including the PlayStation \u001b[0m\n",
       "\u001b[32mVR2, a new HTC VIVE headset, and developments from Lumus in AR. \u001b[0m\u001b[1;32m(\u001b[0m\u001b[1;32m[\u001b[0m\u001b[32mTom's \u001b[0m\n",
       "\u001b[32mGuide\u001b[0m\u001b[1;32m]\u001b[0m\u001b[1;32m(\u001b[0m\u001b[4;94mhttps://www.tomsguide.com/features/all-the-biggest-vr-and-ar-announcements-at-ces-2023\u001b[0m\u001b[4;94m)\u001b[0m\u001b[4;94m)\u001b[0m\n",
       "\n",
       "\u001b[1;36m2\u001b[0m\u001b[32m. **Emerging Trends for \u001b[0m\u001b[1;36m2023\u001b[0m\u001b[32m/\u001b[0m\u001b[1;36m2024\u001b[0m\u001b[32m** - The VR and AR fields are moving towards more immersive Internet trends, \u001b[0m\n",
       "\u001b[32mincluding the anticipation of what \u001b[0m\u001b[1;36m2024\u001b[0m\u001b[32m will bring with AI integration and immersive online experiences. Bernard \u001b[0m\n",
       "\u001b[32mMarr at Forbes also talks about the biggest trends and applications in these technologies. \u001b[0m\n",
       "\u001b[1;32m(\u001b[0m\u001b[1;32m[\u001b[0m\u001b[32mForbes\u001b[0m\u001b[1;32m]\u001b[0m\u001b[1;32m(\u001b[0m\u001b[4;94mhttps://www.forbes.com/sites/bernardmarr/2023/10/13/the-10-biggest-ar-vr-and-immersive-internet-trends-in\u001b[0m\n",
       "\u001b[4;94m-2024/\u001b[0m\u001b[4;94m)\u001b[0m\u001b[4;94m,\u001b[0m\u001b[32m \u001b[0m\u001b[1;32m[\u001b[0m\u001b[32mCable Matters\u001b[0m\u001b[1;32m]\u001b[0m\u001b[1;32m(\u001b[0m\u001b[4;94mhttps://www.cablematters.com/Blog/Virtual-Reality/2023-technology-trends\u001b[0m\u001b[4;94m)\u001b[0m\u001b[4;94m)\u001b[0m\n",
       "\n",
       "\u001b[32mWhen it comes to the **applications of VR and AR across different industries**:\u001b[0m\n",
       "\n",
       "\u001b[1;36m1\u001b[0m\u001b[32m. **Virtual Reality Applications** - VR is being used across \u001b[0m\u001b[1;36m10\u001b[0m\u001b[32m major industries, impacting everything from design\u001b[0m\n",
       "\u001b[32mto training processes. \u001b[0m\u001b[1;32m(\u001b[0m\u001b[1;32m[\u001b[0m\u001b[32mTrio\u001b[0m\u001b[1;32m]\u001b[0m\u001b[1;32m(\u001b[0m\u001b[4;94mhttps://www.trio.dev/blog/virtual-reality-applications\u001b[0m\u001b[4;94m)\u001b[0m\u001b[4;94m)\u001b[0m\n",
       "\n",
       "\u001b[1;36m2\u001b[0m\u001b[32m. **Business Applications** - Insight.com highlights how AR and VR will play increasingly important roles in \u001b[0m\n",
       "\u001b[32mretail and various business sectors, forecasting the market to reach nearly $\u001b[0m\u001b[1;36m300\u001b[0m\u001b[32m billion by \u001b[0m\u001b[1;36m2024\u001b[0m\u001b[32m. \u001b[0m\n",
       "\u001b[1;32m(\u001b[0m\u001b[1;32m[\u001b[0m\u001b[32mInsight\u001b[0m\u001b[1;32m]\u001b[0m\u001b[1;32m(\u001b[0m\u001b[4;94mhttps://www.insight.com/en_US/content-and-resources/2023/ar-and-vr-business-applications-in-2023-and-bey\u001b[0m\n",
       "\u001b[4;94mond.html\u001b[0m\u001b[4;94m)\u001b[0m\u001b[4;94m)\u001b[0m\n",
       "\n",
       "\u001b[1;36m3\u001b[0m\u001b[32m. **Market Growth** - The AR/VR industries are projected to grow from $\u001b[0m\u001b[1;36m13.8\u001b[0m\u001b[32m billion in revenues in \u001b[0m\u001b[1;36m2022\u001b[0m\u001b[32m to $\u001b[0m\u001b[1;36m50.9\u001b[0m\u001b[32m \u001b[0m\n",
       "\u001b[32mbillion in \u001b[0m\u001b[1;36m2026\u001b[0m\u001b[32m, stressing the significant role this technology will have in many industries. \u001b[0m\u001b[1;32m(\u001b[0m\u001b[1;32m[\u001b[0m\u001b[32mRadiant Vision \u001b[0m\n",
       "\u001b[32mSystems\u001b[0m\u001b[1;32m]\u001b[0m\u001b[1;32m(\u001b[0m\u001b[4;94mhttps://www.radiantvisionsystems.com/blog/future-looks-bright-ar/vr/mr-2023-beyond\u001b[0m\u001b[4;94m)\u001b[0m\u001b[4;94m)\u001b[0m\n",
       "\n",
       "\u001b[32mRegarding some of the **most innovative VR/AR experiences currently available**:\u001b[0m\n",
       "\n",
       "\u001b[1;36m1\u001b[0m\u001b[32m. **Innovative Companies** - Fast Company lists the most innovative companies in AR and VR for \u001b[0m\u001b[1;36m2023\u001b[0m\u001b[32m, including \u001b[0m\n",
       "\u001b[32mUnity, Meta, Google, Niantic, and Varjo. \u001b[0m\u001b[1;32m(\u001b[0m\u001b[1;32m[\u001b[0m\u001b[32mFast \u001b[0m\n",
       "\u001b[32mCompany\u001b[0m\u001b[1;32m]\u001b[0m\u001b[1;32m(\u001b[0m\u001b[4;94mhttps://www.fastcompany.com/90846787/most-innovative-companies-augmented-virtual-reality-2023\u001b[0m\u001b[4;94m)\u001b[0m\u001b[4;94m)\u001b[0m\n",
       "\n",
       "\u001b[1;36m2\u001b[0m\u001b[32m. **Unity's Rise** - Unity has been recognized by Fast Company as the world's most innovative AR/VR company for \u001b[0m\n",
       "\u001b[1;36m2023\u001b[0m\u001b[32m, emphasizing their contribution to the industry. \u001b[0m\u001b[1;32m(\u001b[0m\u001b[1;32m[\u001b[0m\u001b[32mUnity \u001b[0m\n",
       "\u001b[32mBlog\u001b[0m\u001b[1;32m]\u001b[0m\u001b[1;32m(\u001b[0m\u001b[4;94mhttps://blog.unity.com/news/unity-named-2023-most-innovative-ar-vr-company\u001b[0m\u001b[4;94m)\u001b[0m\u001b[4;94m)\u001b[0m\n",
       "\n",
       "\u001b[1;36m3\u001b[0m\u001b[32m. **Immersive Trends** - Forbes discusses how the technology sensation of \u001b[0m\u001b[1;36m2023\u001b[0m\u001b[32m will continue to provide immersive \u001b[0m\n",
       "\u001b[32mand engaging online experiences into \u001b[0m\u001b[1;36m2024\u001b[0m\u001b[32m and beyond. \u001b[0m\n",
       "\u001b[1;32m(\u001b[0m\u001b[1;32m[\u001b[0m\u001b[32mForbes\u001b[0m\u001b[1;32m]\u001b[0m\u001b[1;32m(\u001b[0m\u001b[4;94mhttps://www.forbes.com/sites/bernardmarr/2023/10/13/the-10-biggest-ar-vr-and-immersive-internet-trends-in\u001b[0m\n",
       "\u001b[4;94m-2024/\u001b[0m\u001b[4;94m)\u001b[0m\u001b[4;94m)\u001b[0m\n",
       "\n",
       "\u001b[32mIf more detailed information or a deeper dive into these topics is required, I can continue to conduct further \u001b[0m\n",
       "\u001b[32mresearch to supplement these findings.\u001b[0m\n"
      ]
     },
     "metadata": {},
     "output_type": "display_data"
    }
   ],
   "source": [
    "agency.run_demo()"
   ]
  },
  {
   "cell_type": "code",
   "execution_count": null,
   "metadata": {},
   "outputs": [],
   "source": []
  }
 ],
 "metadata": {
  "colab": {
   "provenance": []
  },
  "kernelspec": {
   "display_name": "Python 3 (ipykernel)",
   "language": "python",
   "name": "python3"
  },
  "language_info": {
   "codemirror_mode": {
    "name": "ipython",
    "version": 3
   },
   "file_extension": ".py",
   "mimetype": "text/x-python",
   "name": "python",
   "nbconvert_exporter": "python",
   "pygments_lexer": "ipython3",
   "version": "3.10.12"
  }
 },
 "nbformat": 4,
 "nbformat_minor": 4
}
