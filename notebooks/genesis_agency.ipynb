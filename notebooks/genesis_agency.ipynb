{
 "cells": [
  {
   "cell_type": "code",
   "execution_count": 1,
   "id": "dfd7b2e0ab798deb",
   "metadata": {
    "ExecuteTime": {
     "end_time": "2024-01-20T02:55:04.842809Z",
     "start_time": "2024-01-20T02:55:03.742371Z"
    },
    "collapsed": false,
    "jupyter": {
     "outputs_hidden": false
    }
   },
   "outputs": [
    {
     "name": "stdout",
     "output_type": "stream",
     "text": [
      "Requirement already satisfied: agency-swarm in /root/myenv/lib/python3.10/site-packages (0.1.1)\n",
      "Requirement already satisfied: selenium in /root/myenv/lib/python3.10/site-packages (4.17.2)\n",
      "Requirement already satisfied: webdriver-manager in /root/myenv/lib/python3.10/site-packages (4.0.1)\n",
      "Requirement already satisfied: selenium_stealth in /root/myenv/lib/python3.10/site-packages (1.0.6)\n",
      "Requirement already satisfied: gradio in /root/myenv/lib/python3.10/site-packages (4.16.0)\n",
      "Collecting AzureOpenAI\n",
      "  Downloading azureopenai-0.0.1-py2.py3-none-any.whl (966 bytes)\n",
      "Requirement already satisfied: rich==13.7.0 in /root/myenv/lib/python3.10/site-packages (from agency-swarm) (13.7.0)\n",
      "Requirement already satisfied: python-dotenv==1.0.0 in /root/myenv/lib/python3.10/site-packages (from agency-swarm) (1.0.0)\n",
      "Requirement already satisfied: deepdiff==6.7.1 in /root/myenv/lib/python3.10/site-packages (from agency-swarm) (6.7.1)\n",
      "Requirement already satisfied: termcolor==2.3.0 in /root/myenv/lib/python3.10/site-packages (from agency-swarm) (2.3.0)\n",
      "Requirement already satisfied: jsonref==1.1.0 in /root/myenv/lib/python3.10/site-packages (from agency-swarm) (1.1.0)\n",
      "Requirement already satisfied: instructor==0.4.5 in /root/myenv/lib/python3.10/site-packages (from agency-swarm) (0.4.5)\n",
      "Requirement already satisfied: openai==1.5.0 in /root/myenv/lib/python3.10/site-packages (from agency-swarm) (1.5.0)\n",
      "Requirement already satisfied: ordered-set<4.2.0,>=4.0.2 in /root/myenv/lib/python3.10/site-packages (from deepdiff==6.7.1->agency-swarm) (4.1.0)\n",
      "Requirement already satisfied: typer<0.10.0,>=0.9.0 in /root/myenv/lib/python3.10/site-packages (from instructor==0.4.5->agency-swarm) (0.9.0)\n",
      "Requirement already satisfied: aiohttp<4.0.0,>=3.9.1 in /root/myenv/lib/python3.10/site-packages (from instructor==0.4.5->agency-swarm) (3.9.3)\n",
      "Requirement already satisfied: pydantic<3.0.0,>=2.0.2 in /root/myenv/lib/python3.10/site-packages (from instructor==0.4.5->agency-swarm) (2.6.0)\n",
      "Requirement already satisfied: docstring-parser<0.16,>=0.15 in /root/myenv/lib/python3.10/site-packages (from instructor==0.4.5->agency-swarm) (0.15)\n",
      "Requirement already satisfied: sniffio in /root/myenv/lib/python3.10/site-packages (from openai==1.5.0->agency-swarm) (1.3.0)\n",
      "Requirement already satisfied: anyio<5,>=3.5.0 in /root/myenv/lib/python3.10/site-packages (from openai==1.5.0->agency-swarm) (4.2.0)\n",
      "Requirement already satisfied: typing-extensions<5,>=4.5 in /root/myenv/lib/python3.10/site-packages (from openai==1.5.0->agency-swarm) (4.9.0)\n",
      "Requirement already satisfied: tqdm>4 in /root/myenv/lib/python3.10/site-packages (from openai==1.5.0->agency-swarm) (4.66.1)\n",
      "Requirement already satisfied: distro<2,>=1.7.0 in /root/myenv/lib/python3.10/site-packages (from openai==1.5.0->agency-swarm) (1.9.0)\n",
      "Requirement already satisfied: httpx<1,>=0.23.0 in /root/myenv/lib/python3.10/site-packages (from openai==1.5.0->agency-swarm) (0.26.0)\n",
      "Requirement already satisfied: markdown-it-py>=2.2.0 in /root/myenv/lib/python3.10/site-packages (from rich==13.7.0->agency-swarm) (3.0.0)\n",
      "Requirement already satisfied: pygments<3.0.0,>=2.13.0 in /root/myenv/lib/python3.10/site-packages (from rich==13.7.0->agency-swarm) (2.17.2)\n",
      "Requirement already satisfied: certifi>=2021.10.8 in /root/myenv/lib/python3.10/site-packages (from selenium) (2023.11.17)\n",
      "Requirement already satisfied: trio-websocket~=0.9 in /root/myenv/lib/python3.10/site-packages (from selenium) (0.11.1)\n",
      "Requirement already satisfied: trio~=0.17 in /root/myenv/lib/python3.10/site-packages (from selenium) (0.24.0)\n",
      "Requirement already satisfied: urllib3[socks]<3,>=1.26 in /root/myenv/lib/python3.10/site-packages (from selenium) (2.2.0)\n",
      "Requirement already satisfied: requests in /root/myenv/lib/python3.10/site-packages (from webdriver-manager) (2.31.0)\n",
      "Requirement already satisfied: packaging in /root/myenv/lib/python3.10/site-packages (from webdriver-manager) (23.2)\n",
      "Requirement already satisfied: jinja2<4.0 in /root/myenv/lib/python3.10/site-packages (from gradio) (3.1.3)\n",
      "Requirement already satisfied: gradio-client==0.8.1 in /root/myenv/lib/python3.10/site-packages (from gradio) (0.8.1)\n",
      "Requirement already satisfied: fastapi in /root/myenv/lib/python3.10/site-packages (from gradio) (0.109.0)\n",
      "Requirement already satisfied: huggingface-hub>=0.19.3 in /root/myenv/lib/python3.10/site-packages (from gradio) (0.20.3)\n",
      "Requirement already satisfied: uvicorn>=0.14.0 in /root/myenv/lib/python3.10/site-packages (from gradio) (0.27.0.post1)\n",
      "Requirement already satisfied: pillow<11.0,>=8.0 in /root/myenv/lib/python3.10/site-packages (from gradio) (10.2.0)\n",
      "Requirement already satisfied: pydub in /root/myenv/lib/python3.10/site-packages (from gradio) (0.25.1)\n",
      "Requirement already satisfied: numpy~=1.0 in /root/myenv/lib/python3.10/site-packages (from gradio) (1.26.3)\n",
      "Requirement already satisfied: semantic-version~=2.0 in /root/myenv/lib/python3.10/site-packages (from gradio) (2.10.0)\n",
      "Requirement already satisfied: python-multipart in /root/myenv/lib/python3.10/site-packages (from gradio) (0.0.6)\n",
      "Requirement already satisfied: matplotlib~=3.0 in /root/myenv/lib/python3.10/site-packages (from gradio) (3.8.2)\n",
      "Requirement already satisfied: pyyaml<7.0,>=5.0 in /root/myenv/lib/python3.10/site-packages (from gradio) (6.0.1)\n",
      "Requirement already satisfied: aiofiles<24.0,>=22.0 in /root/myenv/lib/python3.10/site-packages (from gradio) (23.2.1)\n",
      "Requirement already satisfied: altair<6.0,>=4.2.0 in /root/myenv/lib/python3.10/site-packages (from gradio) (5.2.0)\n",
      "Requirement already satisfied: orjson~=3.0 in /root/myenv/lib/python3.10/site-packages (from gradio) (3.9.12)\n",
      "Requirement already satisfied: tomlkit==0.12.0 in /root/myenv/lib/python3.10/site-packages (from gradio) (0.12.0)\n",
      "Requirement already satisfied: markupsafe~=2.0 in /root/myenv/lib/python3.10/site-packages (from gradio) (2.1.4)\n",
      "Requirement already satisfied: ruff>=0.1.7 in /root/myenv/lib/python3.10/site-packages (from gradio) (0.1.15)\n",
      "Requirement already satisfied: pandas<3.0,>=1.0 in /root/myenv/lib/python3.10/site-packages (from gradio) (2.2.0)\n",
      "Requirement already satisfied: importlib-resources<7.0,>=1.3 in /root/myenv/lib/python3.10/site-packages (from gradio) (6.1.1)\n",
      "Requirement already satisfied: ffmpy in /root/myenv/lib/python3.10/site-packages (from gradio) (0.3.1)\n",
      "Requirement already satisfied: websockets<12.0,>=10.0 in /root/myenv/lib/python3.10/site-packages (from gradio-client==0.8.1->gradio) (11.0.3)\n",
      "Requirement already satisfied: fsspec in /root/myenv/lib/python3.10/site-packages (from gradio-client==0.8.1->gradio) (2023.12.2)\n",
      "Requirement already satisfied: jsonschema in /root/myenv/lib/python3.10/site-packages (from AzureOpenAI) (4.21.1)\n",
      "Requirement already satisfied: multidict<7.0,>=4.5 in /root/myenv/lib/python3.10/site-packages (from aiohttp<4.0.0,>=3.9.1->instructor==0.4.5->agency-swarm) (6.0.4)\n",
      "Requirement already satisfied: attrs>=17.3.0 in /root/myenv/lib/python3.10/site-packages (from aiohttp<4.0.0,>=3.9.1->instructor==0.4.5->agency-swarm) (23.2.0)\n",
      "Requirement already satisfied: frozenlist>=1.1.1 in /root/myenv/lib/python3.10/site-packages (from aiohttp<4.0.0,>=3.9.1->instructor==0.4.5->agency-swarm) (1.4.1)\n",
      "Requirement already satisfied: aiosignal>=1.1.2 in /root/myenv/lib/python3.10/site-packages (from aiohttp<4.0.0,>=3.9.1->instructor==0.4.5->agency-swarm) (1.3.1)\n",
      "Requirement already satisfied: yarl<2.0,>=1.0 in /root/myenv/lib/python3.10/site-packages (from aiohttp<4.0.0,>=3.9.1->instructor==0.4.5->agency-swarm) (1.9.4)\n",
      "Requirement already satisfied: async-timeout<5.0,>=4.0 in /root/myenv/lib/python3.10/site-packages (from aiohttp<4.0.0,>=3.9.1->instructor==0.4.5->agency-swarm) (4.0.3)\n",
      "Requirement already satisfied: toolz in /root/myenv/lib/python3.10/site-packages (from altair<6.0,>=4.2.0->gradio) (0.12.1)\n",
      "Requirement already satisfied: httpcore==1.* in /root/myenv/lib/python3.10/site-packages (from httpx<1,>=0.23.0->openai==1.5.0->agency-swarm) (1.0.2)\n",
      "Requirement already satisfied: idna in /root/myenv/lib/python3.10/site-packages (from httpx<1,>=0.23.0->openai==1.5.0->agency-swarm) (3.6)\n",
      "Requirement already satisfied: h11<0.15,>=0.13 in /root/myenv/lib/python3.10/site-packages (from httpcore==1.*->httpx<1,>=0.23.0->openai==1.5.0->agency-swarm) (0.14.0)\n",
      "Requirement already satisfied: filelock in /root/myenv/lib/python3.10/site-packages (from huggingface-hub>=0.19.3->gradio) (3.13.1)\n",
      "Requirement already satisfied: jsonschema-specifications>=2023.03.6 in /root/myenv/lib/python3.10/site-packages (from jsonschema->AzureOpenAI) (2023.12.1)\n",
      "Requirement already satisfied: referencing>=0.28.4 in /root/myenv/lib/python3.10/site-packages (from jsonschema->AzureOpenAI) (0.33.0)\n",
      "Requirement already satisfied: rpds-py>=0.7.1 in /root/myenv/lib/python3.10/site-packages (from jsonschema->AzureOpenAI) (0.17.1)\n",
      "Requirement already satisfied: contourpy>=1.0.1 in /root/myenv/lib/python3.10/site-packages (from matplotlib~=3.0->gradio) (1.2.0)\n",
      "Requirement already satisfied: python-dateutil>=2.7 in /root/myenv/lib/python3.10/site-packages (from matplotlib~=3.0->gradio) (2.8.2)\n",
      "Requirement already satisfied: cycler>=0.10 in /root/myenv/lib/python3.10/site-packages (from matplotlib~=3.0->gradio) (0.12.1)\n",
      "Requirement already satisfied: pyparsing>=2.3.1 in /root/myenv/lib/python3.10/site-packages (from matplotlib~=3.0->gradio) (3.1.1)\n",
      "Requirement already satisfied: kiwisolver>=1.3.1 in /root/myenv/lib/python3.10/site-packages (from matplotlib~=3.0->gradio) (1.4.5)\n",
      "Requirement already satisfied: fonttools>=4.22.0 in /root/myenv/lib/python3.10/site-packages (from matplotlib~=3.0->gradio) (4.47.2)\n",
      "Requirement already satisfied: pytz>=2020.1 in /root/myenv/lib/python3.10/site-packages (from pandas<3.0,>=1.0->gradio) (2023.4)\n",
      "Requirement already satisfied: tzdata>=2022.7 in /root/myenv/lib/python3.10/site-packages (from pandas<3.0,>=1.0->gradio) (2023.4)\n",
      "Requirement already satisfied: annotated-types>=0.4.0 in /root/myenv/lib/python3.10/site-packages (from pydantic<3.0.0,>=2.0.2->instructor==0.4.5->agency-swarm) (0.6.0)\n",
      "Requirement already satisfied: pydantic-core==2.16.1 in /root/myenv/lib/python3.10/site-packages (from pydantic<3.0.0,>=2.0.2->instructor==0.4.5->agency-swarm) (2.16.1)\n",
      "Requirement already satisfied: outcome in /root/myenv/lib/python3.10/site-packages (from trio~=0.17->selenium) (1.3.0.post0)\n",
      "Requirement already satisfied: sortedcontainers in /root/myenv/lib/python3.10/site-packages (from trio~=0.17->selenium) (2.4.0)\n",
      "Requirement already satisfied: exceptiongroup in /root/myenv/lib/python3.10/site-packages (from trio~=0.17->selenium) (1.2.0)\n",
      "Requirement already satisfied: wsproto>=0.14 in /root/myenv/lib/python3.10/site-packages (from trio-websocket~=0.9->selenium) (1.2.0)\n",
      "Requirement already satisfied: click<9.0.0,>=7.1.1 in /root/myenv/lib/python3.10/site-packages (from typer<0.10.0,>=0.9.0->instructor==0.4.5->agency-swarm) (8.1.7)\n",
      "Requirement already satisfied: colorama<0.5.0,>=0.4.3 in /root/myenv/lib/python3.10/site-packages (from typer<0.10.0,>=0.9.0->instructor==0.4.5->agency-swarm) (0.4.6)\n",
      "Requirement already satisfied: shellingham<2.0.0,>=1.3.0 in /root/myenv/lib/python3.10/site-packages (from typer<0.10.0,>=0.9.0->instructor==0.4.5->agency-swarm) (1.5.4)\n",
      "Requirement already satisfied: pysocks!=1.5.7,<2.0,>=1.5.6 in /root/myenv/lib/python3.10/site-packages (from urllib3[socks]<3,>=1.26->selenium) (1.7.1)\n",
      "Requirement already satisfied: starlette<0.36.0,>=0.35.0 in /root/myenv/lib/python3.10/site-packages (from fastapi->gradio) (0.35.1)\n",
      "Requirement already satisfied: charset-normalizer<4,>=2 in /root/myenv/lib/python3.10/site-packages (from requests->webdriver-manager) (3.3.2)\n",
      "Requirement already satisfied: mdurl~=0.1 in /root/myenv/lib/python3.10/site-packages (from markdown-it-py>=2.2.0->rich==13.7.0->agency-swarm) (0.1.2)\n",
      "Requirement already satisfied: six>=1.5 in /root/myenv/lib/python3.10/site-packages (from python-dateutil>=2.7->matplotlib~=3.0->gradio) (1.16.0)\n",
      "Installing collected packages: AzureOpenAI\n",
      "Successfully installed AzureOpenAI-0.0.1\n"
     ]
    }
   ],
   "source": [
    "!pip install agency-swarm selenium webdriver-manager selenium_stealth gradio AzureOpenAI"
   ]
  },
  {
   "cell_type": "code",
   "execution_count": 5,
   "id": "8b9a60a9-e56a-4bb1-a8e4-c853acb5ea4a",
   "metadata": {},
   "outputs": [],
   "source": [
    "from openai import AzureOpenAI\n",
    "from agency_swarm.util.oai import set_openai_client\n",
    "\n",
    "client = AzureOpenAI(\n",
    "    # https://learn.microsoft.com/en-us/azure/ai-services/openai/reference#rest-api-versioning\n",
    "    api_version=\"2023-12-01-preview\",\n",
    "    # https://learn.microsoft.com/en-us/azure/cognitive-services/openai/how-to/create-resource?pivots=web-portal#create-a-resource\n",
    "    azure_endpoint=\"https://tanzify.openai.azure.com/\",\n",
    "    api_key=\"2884e2e90373414b98ed002e50296967\"\n",
    ")\n",
    "\n",
    "set_openai_client(client)"
   ]
  },
  {
   "cell_type": "code",
   "execution_count": null,
   "id": "1ee6f9992fb209c4",
   "metadata": {
    "ExecuteTime": {
     "end_time": "2024-01-17T06:46:09.405416Z",
     "start_time": "2024-01-17T06:46:08.961556Z"
    },
    "collapsed": false,
    "jupyter": {
     "outputs_hidden": false
    }
   },
   "outputs": [],
   "source": [
    "# from agency_swarm import set_openai_key\n",
    "# set_openai_key(\"YOUR_OPENAI_API_KEY\")"
   ]
  },
  {
   "cell_type": "code",
   "execution_count": null,
   "id": "6cafc0d9a51ed4c9",
   "metadata": {
    "ExecuteTime": {
     "end_time": "2024-01-17T06:46:09.407132Z",
     "start_time": "2024-01-17T06:46:09.334424Z"
    },
    "collapsed": false,
    "jupyter": {
     "outputs_hidden": false
    }
   },
   "outputs": [],
   "source": [
    "from agency_swarm.agency.genesis import GenesisAgency"
   ]
  },
  {
   "cell_type": "code",
   "execution_count": null,
   "id": "64b988e65898f6b3",
   "metadata": {
    "ExecuteTime": {
     "end_time": "2024-01-17T06:46:11.468684Z",
     "start_time": "2024-01-17T06:46:09.396088Z"
    },
    "collapsed": false,
    "jupyter": {
     "outputs_hidden": false
    }
   },
   "outputs": [],
   "source": [
    "test_agency = GenesisAgency()"
   ]
  },
  {
   "cell_type": "code",
   "execution_count": null,
   "id": "c95ce4524b2b3ab4",
   "metadata": {
    "ExecuteTime": {
     "end_time": "2024-01-17T06:46:11.469085Z",
     "start_time": "2024-01-17T06:46:11.469003Z"
    },
    "collapsed": false,
    "jupyter": {
     "outputs_hidden": false
    }
   },
   "outputs": [],
   "source": [
    "test_agency.demo_gradio()"
   ]
  }
 ],
 "metadata": {
  "kernelspec": {
   "display_name": "Python 3 (ipykernel)",
   "language": "python",
   "name": "python3"
  },
  "language_info": {
   "codemirror_mode": {
    "name": "ipython",
    "version": 3
   },
   "file_extension": ".py",
   "mimetype": "text/x-python",
   "name": "python",
   "nbconvert_exporter": "python",
   "pygments_lexer": "ipython3",
   "version": "3.10.12"
  }
 },
 "nbformat": 4,
 "nbformat_minor": 5
}
